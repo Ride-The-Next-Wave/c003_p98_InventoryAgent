{
 "cells": [
  {
   "cell_type": "markdown",
   "metadata": {},
   "source": []
  },
  {
   "cell_type": "code",
   "execution_count": 1,
   "metadata": {},
   "outputs": [],
   "source": [
    "import os\n",
    "import sys\n",
    "import pandas as pd\n",
    "import json\n",
    "from langchain_openai import ChatOpenAI\n",
    "from langchain.prompts import ChatPromptTemplate\n",
    "from langchain.schema.output_parser import StrOutputParser"
   ]
  },
  {
   "cell_type": "markdown",
   "metadata": {},
   "source": [
    "#### Setting up environment"
   ]
  },
  {
   "cell_type": "code",
   "execution_count": 2,
   "metadata": {},
   "outputs": [],
   "source": [
    "sys.path.insert(0, os.path.abspath('..'))\n",
    "from config import set_environment\n",
    "set_environment()"
   ]
  },
  {
   "cell_type": "markdown",
   "metadata": {},
   "source": [
    "#### Initilalize LLM"
   ]
  },
  {
   "cell_type": "code",
   "execution_count": 3,
   "metadata": {},
   "outputs": [],
   "source": [
    "llm = ChatOpenAI(model_name='gpt-4-0613')"
   ]
  },
  {
   "cell_type": "markdown",
   "metadata": {},
   "source": [
    "#### Load dataset"
   ]
  },
  {
   "cell_type": "code",
   "execution_count": 4,
   "metadata": {},
   "outputs": [],
   "source": [
    "csv_path = './intermediate_data/04-Model/Products_Article_Matching.csv'\n",
    "df = pd.read_csv(csv_path) "
   ]
  },
  {
   "cell_type": "markdown",
   "metadata": {},
   "source": [
    "#### Generate summary for one product category"
   ]
  },
  {
   "cell_type": "code",
   "execution_count": 5,
   "metadata": {},
   "outputs": [],
   "source": [
    "def generate_product_summary(category):\n",
    "\n",
    "    # Prompt template\n",
    "    template = ChatPromptTemplate.from_messages([\n",
    "        ('system', '''You are an expert technical writer specializing in electronic components and products.\n",
    "         Create a comprehensive summary that includes 2-3 lines about what the product category is, how it is used, and why it is popular.\n",
    "        Keep the summary concise, informative, and technical but accessible.'''),\n",
    "        ('user', '''{category}\n",
    "        Please provide a summary following the specified format.''')\n",
    "    ])\n",
    "    chain = template | llm | StrOutputParser()\n",
    "    summary = chain.invoke({\n",
    "        \"category\": category,\n",
    "    })\n",
    "    return summary"
   ]
  },
  {
   "cell_type": "markdown",
   "metadata": {},
   "source": [
    "#### Generate summaries for all the product categories"
   ]
  },
  {
   "cell_type": "code",
   "execution_count": 8,
   "metadata": {},
   "outputs": [],
   "source": [
    "def process_product_categories(df):\n",
    "\n",
    "    category_column = 'Product Category'\n",
    "    unique_categories = df[category_column].dropna().unique()\n",
    "    product_summaries = {}\n",
    "    print(f\"Processing {len(unique_categories)} product categories...\")\n",
    "    \n",
    "    for i, category in enumerate(unique_categories, 1):\n",
    "        summary = generate_product_summary(category)\n",
    "        product_summaries[category] = {\n",
    "            \"category\": category,\n",
    "            \"summary\": summary.strip()\n",
    "        } \n",
    "    # Ensure output directory exists\n",
    "    os.makedirs('./output', exist_ok=True)\n",
    "    # Save to JSON\n",
    "    with open('./intermediate_data/05-Present/Product_Descriptions.json', 'w', encoding='utf-8') as f:\n",
    "        json.dump(product_summaries, f, indent=2, ensure_ascii=False)\n",
    "    print(f\"Product summaries saved to {'./intermediate_data/05-Present/Product_Descriptions.json'}\")\n",
    "\n",
    "    return product_summaries\n"
   ]
  },
  {
   "cell_type": "markdown",
   "metadata": {},
   "source": [
    "#### Generate and save product category descriptions"
   ]
  },
  {
   "cell_type": "code",
   "execution_count": 9,
   "metadata": {},
   "outputs": [
    {
     "name": "stdout",
     "output_type": "stream",
     "text": [
      "Processing 60 product categories...\n",
      "Product summaries saved to ./intermediate_data/05-Present/Product_Descriptions.json\n"
     ]
    }
   ],
   "source": [
    "if __name__ == \"__main__\":\n",
    "    summaries = process_product_categories(df)"
   ]
  },
  {
   "cell_type": "markdown",
   "metadata": {},
   "source": [
    "---\n",
    "\n",
    "**Authors:**\n",
    "[Sai Keertana Lakku](mailto:saikeertana005@gmail.com),\n",
    "[Zhen Zhuang](mailto:zhuangzhen17cs@gmail.com),\n",
    "[Nick Capaldini](mailto:nick.capaldini@ridethenextwave.com), Ride The Next Wave, Jun 13, 2025\n",
    "\n",
    "---"
   ]
  }
 ],
 "metadata": {
  "kernelspec": {
   "display_name": "Python (recommendation_libraries)",
   "language": "python",
   "name": "recommendation_libraries"
  },
  "language_info": {
   "codemirror_mode": {
    "name": "ipython",
    "version": 3
   },
   "file_extension": ".py",
   "mimetype": "text/x-python",
   "name": "python",
   "nbconvert_exporter": "python",
   "pygments_lexer": "ipython3",
   "version": "3.11.11"
  }
 },
 "nbformat": 4,
 "nbformat_minor": 2
}
