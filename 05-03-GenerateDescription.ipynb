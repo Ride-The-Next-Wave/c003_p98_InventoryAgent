{
 "cells": [
  {
   "cell_type": "markdown",
   "metadata": {},
   "source": []
  },
  {
   "cell_type": "code",
   "execution_count": 25,
   "metadata": {},
   "outputs": [
    {
     "data": {
      "text/plain": [
       "'\\nimport pandas as pd\\nimport json\\nfrom langchain_openai.chat_models import ChatOpenAI\\nfrom langchain.prompts import ChatPromptTemplate\\nfrom langchain.schema import StrOutputParser\\nfrom langchain_core.messages import SystemMessage, HumanMessage\\nimport sys\\nimport os\\n'"
      ]
     },
     "execution_count": 25,
     "metadata": {},
     "output_type": "execute_result"
    }
   ],
   "source": [
    "'''\n",
    "import pandas as pd\n",
    "import json\n",
    "from langchain_openai.chat_models import ChatOpenAI\n",
    "from langchain.prompts import ChatPromptTemplate\n",
    "from langchain.schema import StrOutputParser\n",
    "from langchain_core.messages import SystemMessage, HumanMessage\n",
    "import sys\n",
    "import os\n",
    "'''"
   ]
  },
  {
   "cell_type": "code",
   "execution_count": 26,
   "metadata": {},
   "outputs": [
    {
     "data": {
      "text/plain": [
       "\"\\n# Setting up environment\\nsys.path.insert(0, os.path.abspath('..'))\\nfrom config import set_environment\\nset_environment()\\n\\n#Initialize LLM\\nllm = ChatOpenAI(model_name='gpt-4-0613')\\n\\ndef load_data(csv_path, json_path):\\n    df = pd.read_csv(csv_path)\\n    with open(json_path, 'r') as f:\\n        articles_data = json.load(f)\\n    return df, articles_data\\n\""
      ]
     },
     "execution_count": 26,
     "metadata": {},
     "output_type": "execute_result"
    }
   ],
   "source": [
    "'''\n",
    "# Setting up environment\n",
    "sys.path.insert(0, os.path.abspath('..'))\n",
    "from config import set_environment\n",
    "set_environment()\n",
    "\n",
    "#Initialize LLM\n",
    "llm = ChatOpenAI(model_name='gpt-4-0613')\n",
    "\n",
    "def load_data(csv_path, json_path):\n",
    "    df = pd.read_csv(csv_path)\n",
    "    with open(json_path, 'r') as f:\n",
    "        articles_data = json.load(f)\n",
    "    return df, articles_data\n",
    "'''"
   ]
  },
  {
   "cell_type": "code",
   "execution_count": 27,
   "metadata": {},
   "outputs": [],
   "source": [
    "import os\n",
    "import sys\n",
    "import pandas as pd\n",
    "import json\n",
    "from langchain_openai import ChatOpenAI\n",
    "from langchain.prompts import ChatPromptTemplate\n",
    "from langchain.schema.output_parser import StrOutputParser\n",
    "\n",
    "# Setting up environment\n",
    "sys.path.insert(0, os.path.abspath('..'))\n",
    "from config import set_environment\n",
    "set_environment()\n",
    "\n",
    "# Initialize LLM\n",
    "llm = ChatOpenAI(model_name='gpt-4-0613')\n",
    "\n",
    "csv_path = './intermediate_data/Product_Article_Matching.csv'\n",
    "df = pd.read_csv(csv_path) \n",
    "\n",
    "\n",
    "def generate_product_summary(category):\n",
    "    \"\"\"\n",
    "    Generate a comprehensive summary for a product category\n",
    "    \"\"\"\n",
    "    # Prompt template\n",
    "    template = ChatPromptTemplate.from_messages([\n",
    "        ('system', '''You are an expert technical writer specializing in electronic components and products.\n",
    "         Create a comprehensive summary that includes 2-3 lines about what the product category is, how it is used, and why it is popular.\n",
    "        Keep the summary concise, informative, and technical but accessible.'''),\n",
    "        ('user', '''Product Category: {category}\n",
    "        Please provide a summary following the specified format.''')\n",
    "    ])\n",
    "    \n",
    "    chain = template | llm | StrOutputParser()\n",
    "    summary = chain.invoke({\n",
    "        \"category\": category,\n",
    "    })\n",
    "    return summary\n",
    "\n",
    "def process_product_categories(df):\n",
    "\n",
    "    category_column = 'Product Category'\n",
    "    unique_categories = df[category_column].dropna().unique()\n",
    "    \n",
    "    # Generate summaries for each category\n",
    "    product_summaries = {}\n",
    "    \n",
    "    print(f\"Processing {len(unique_categories)} product categories...\")\n",
    "    \n",
    "    for i, category in enumerate(unique_categories, 1):\n",
    "            \n",
    "        # Generate summary\n",
    "        summary = generate_product_summary(category)\n",
    "        product_summaries[category] = {\n",
    "            \"category\": category,\n",
    "            \"summary\": summary.strip()\n",
    "        }\n",
    "     # Ensure output directory exists\n",
    "    os.makedirs('./output', exist_ok=True)\n",
    "\n",
    "    # Save to JSON\n",
    "    with open('./intermediate_data/Product_Description.json', 'w', encoding='utf-8') as f:\n",
    "        json.dump(product_summaries, f, indent=2, ensure_ascii=False)\n",
    "\n",
    "    print(f\"Product summaries saved to {'./intermediate_data/Product_Description.json'}\")\n",
    "    return product_summaries\n"
   ]
  },
  {
   "cell_type": "code",
   "execution_count": 28,
   "metadata": {},
   "outputs": [
    {
     "name": "stdout",
     "output_type": "stream",
     "text": [
      "Processing 51 product categories...\n",
      "Product summaries saved to ./intermediate_data/Product_Description.json\n"
     ]
    }
   ],
   "source": [
    "if __name__ == \"__main__\":\n",
    "    summaries = process_product_categories(df)"
   ]
  }
 ],
 "metadata": {
  "kernelspec": {
   "display_name": "Python (recommendation_libraries)",
   "language": "python",
   "name": "recommendation_libraries"
  },
  "language_info": {
   "codemirror_mode": {
    "name": "ipython",
    "version": 3
   },
   "file_extension": ".py",
   "mimetype": "text/x-python",
   "name": "python",
   "nbconvert_exporter": "python",
   "pygments_lexer": "ipython3",
   "version": "3.11.11"
  }
 },
 "nbformat": 4,
 "nbformat_minor": 2
}
