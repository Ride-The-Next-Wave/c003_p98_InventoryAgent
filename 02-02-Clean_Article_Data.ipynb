{
 "cells": [
  {
   "cell_type": "markdown",
   "metadata": {},
   "source": [
    "# 2.2 Clean Article Data\n",
    "This notebook cleans the article data in preparation for modeling. The ultimate goal is to match cleaned articles to the products based on their provided data."
   ]
  },
  {
   "cell_type": "code",
   "execution_count": 5,
   "metadata": {},
   "outputs": [],
   "source": [
    "import json\n",
    "import pandas as pd\n",
    "import re\n",
    "import logging\n",
    "from datetime import datetime"
   ]
  },
  {
   "cell_type": "code",
   "execution_count": 6,
   "metadata": {},
   "outputs": [],
   "source": [
    "# Set up logging\n",
    "logging.basicConfig(level=logging.INFO, format='%(asctime)s - %(levelname)s - %(message)s')\n",
    "\n",
    "def clean_text(text):\n",
    "    if not text or pd.isna(text):\n",
    "        return \"\"\n",
    "    \n",
    "    # Convert to string if not already\n",
    "    text = str(text)\n",
    "    \n",
    "    # Remove extra whitespace and normalize\n",
    "    text = re.sub(r'\\s+', ' ', text).strip()\n",
    "    \n",
    "    # Remove common web artifacts\n",
    "    text = re.sub(r'Cookie Policy|Privacy Policy|Terms of Service', '', text, flags=re.IGNORECASE)\n",
    "    text = re.sub(r'Subscribe|Newsletter|Advertisement', '', text, flags=re.IGNORECASE)\n",
    "    text = re.sub(r'Share this article|Follow us on', '', text, flags=re.IGNORECASE)\n",
    "    \n",
    "    # Remove URLs\n",
    "    text = re.sub(r'http[s]?://(?:[a-zA-Z]|[0-9]|[$-_@.&+]|[!*\\\\(\\\\),]|(?:%[0-9a-fA-F][0-9a-fA-F]))+', '', text)\n",
    "    \n",
    "    # Remove email addresses\n",
    "    text = re.sub(r'\\S+@\\S+', '', text)\n",
    "    \n",
    "    # Remove excessive punctuation\n",
    "    text = re.sub(r'[.]{3,}', '...', text)\n",
    "    text = re.sub(r'[-]{3,}', '---', text)\n",
    "    \n",
    "    return text.strip()\n",
    "\n",
    "def clean_article_data(article):\n",
    "    cleaned_article = {}\n",
    "    # Clean all fields\n",
    "    cleaned_article['title'] = clean_text(article.get('title', ''))\n",
    "    cleaned_article['source'] = clean_text(article.get('source', ''))\n",
    "    cleaned_article['date'] = article.get('date', '')\n",
    "    cleaned_article['link'] = article.get('link', '')\n",
    "    cleaned_article['text'] = clean_text(article.get('text', ''))\n",
    "    return cleaned_article\n",
    "\n",
    "def clean_article_dataset(raw_data):\n",
    "    if not raw_data:\n",
    "        logging.error(\"No data provided for cleaning\")\n",
    "        return None\n",
    "    \n",
    "    cleaned_articles = []\n",
    "    for i, article in enumerate(raw_data):\n",
    "        try:\n",
    "            cleaned_article = clean_article_data(article)\n",
    "            cleaned_articles.append(cleaned_article)\n",
    "            if (i + 1) % 50 == 0:\n",
    "                logging.info(f\"Cleaned {i + 1}/{len(raw_data)} articles\") \n",
    "        except Exception as e:\n",
    "            logging.error(f\"Error cleaning article {i + 1}: {str(e)}\")\n",
    "            continue\n",
    "    \n",
    "    return cleaned_articles\n",
    "\n",
    "def load_raw_data():\n",
    "    try:\n",
    "        with open('./intermediate_data/Scraped_Article_Raw_Data.json', 'r', encoding='utf-8') as f:\n",
    "            raw_data = json.load(f)\n",
    "        logging.info(f\"Loaded {len(raw_data)} articles from file\")\n",
    "        return raw_data\n",
    "    except FileNotFoundError:\n",
    "        logging.error(\"Raw data file not found. Please ensure data collection has been completed.\")\n",
    "        return None\n",
    "    except Exception as e:\n",
    "        logging.error(f\"Error loading raw data: {str(e)}\")\n",
    "        return None\n",
    "\n",
    "def save_cleaned_data(cleaned_data):\n",
    "    if not cleaned_data:\n",
    "        logging.error(\"No cleaned data to save\")\n",
    "        return False\n",
    "    \n",
    "    filename = './intermediate_data/Cleaned_Article_Data.json'\n",
    "    \n",
    "    try:\n",
    "        with open(filename, 'w', encoding='utf-8') as f:\n",
    "            json.dump(cleaned_data, f, indent=2, ensure_ascii=False)\n",
    "        return True\n",
    "    except Exception as e:\n",
    "        logging.error(f\"Error saving cleaned data: {str(e)}\")\n",
    "        return False\n"
   ]
  },
  {
   "cell_type": "markdown",
   "metadata": {},
   "source": [
    "### Save Cleaned Article Data"
   ]
  },
  {
   "cell_type": "code",
   "execution_count": 7,
   "metadata": {},
   "outputs": [
    {
     "name": "stderr",
     "output_type": "stream",
     "text": [
      "2025-06-07 21:50:46,886 - INFO - Loaded 30 articles from file\n"
     ]
    },
    {
     "name": "stdout",
     "output_type": "stream",
     "text": [
      "Data cleaned and saved successfully\n"
     ]
    }
   ],
   "source": [
    "raw_article_data = load_raw_data()\n",
    "\n",
    "if raw_article_data:\n",
    "    cleaned_article_data = clean_article_dataset(raw_article_data)\n",
    "    \n",
    "    if cleaned_article_data and save_cleaned_data(cleaned_article_data):\n",
    "        print(\"Data cleaned and saved successfully\")\n",
    "    else:\n",
    "        print(\"Failed to clean or save data\")\n",
    "else:\n",
    "    print(\"No raw data available for cleaning\")"
   ]
  }
 ],
 "metadata": {
  "kernelspec": {
   "display_name": "Python (recommendation_libraries)",
   "language": "python",
   "name": "recommendation_libraries"
  },
  "language_info": {
   "codemirror_mode": {
    "name": "ipython",
    "version": 3
   },
   "file_extension": ".py",
   "mimetype": "text/x-python",
   "name": "python",
   "nbconvert_exporter": "python",
   "pygments_lexer": "ipython3",
   "version": "3.11.11"
  }
 },
 "nbformat": 4,
 "nbformat_minor": 2
}
