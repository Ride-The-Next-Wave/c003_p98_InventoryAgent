{
 "cells": [
  {
   "cell_type": "markdown",
   "metadata": {},
   "source": [
    "## 3. Retreive Article Data"
   ]
  },
  {
   "cell_type": "markdown",
   "metadata": {},
   "source": [
    "### This files collect text data for articles scraped for future semantic matching."
   ]
  },
  {
   "cell_type": "code",
   "execution_count": 8,
   "metadata": {},
   "outputs": [],
   "source": [
    "import pandas as pd\n",
    "import requests\n",
    "from bs4 import BeautifulSoup\n",
    "import json\n",
    "import time\n",
    "from urllib.parse import urljoin, urlparse\n",
    "import logging"
   ]
  },
  {
   "cell_type": "code",
   "execution_count": 9,
   "metadata": {},
   "outputs": [],
   "source": [
    "# Set up logging\n",
    "logging.basicConfig(level=logging.INFO, format='%(asctime)s - %(levelname)s - %(message)s')\n",
    "\n",
    "def extract_article_text(html_content, url):\n",
    "    soup = BeautifulSoup(html_content, 'html.parser')\n",
    "    \n",
    "    # Remove script and style elements\n",
    "    for script in soup([\"script\", \"style\", \"nav\", \"header\", \"footer\", \"aside\"]):\n",
    "        script.decompose()\n",
    "    selectors = [\n",
    "        'article',\n",
    "        '[role=\"main\"]',\n",
    "        '.article-content',\n",
    "        '.post-content',\n",
    "        '.entry-content',\n",
    "        '.content',\n",
    "        '.main-content',\n",
    "        '#content',\n",
    "        '.article-body',\n",
    "        '.story-body'\n",
    "    ]\n",
    "    text_content = \"\"\n",
    "    \n",
    "    # Process each selector\n",
    "    for selector in selectors:\n",
    "        elements = soup.select(selector)\n",
    "        if elements:\n",
    "            for element in elements:\n",
    "                text_content += element.get_text(separator=' ', strip=True) + \" \"\n",
    "            break\n",
    "    if not text_content.strip():\n",
    "        paragraphs = soup.find_all('p')\n",
    "        text_content = ' '.join([p.get_text(strip=True) for p in paragraphs if len(p.get_text(strip=True)) > 50])\n",
    "    if not text_content.strip():\n",
    "        body = soup.find('body')\n",
    "        if body:\n",
    "            text_content = body.get_text(separator=' ', strip=True)\n",
    "    return text_content.strip()\n",
    "\n",
    "def scrape_article(url, max_retries=3):\n",
    "    headers = {\n",
    "        'User-Agent': 'Mozilla/5.0 (Windows NT 10.0; Win64; x64) AppleWebKit/537.36 (KHTML, like Gecko) Chrome/91.0.4472.124 Safari/537.36'\n",
    "    }\n",
    "    for attempt in range(max_retries):\n",
    "        try:\n",
    "            response = requests.get(url, headers=headers, timeout=30)\n",
    "            response.raise_for_status()\n",
    "            \n",
    "            # Extract text content\n",
    "            article_text = extract_article_text(response.content, url)\n",
    "            \n",
    "            if len(article_text) < 100:  # Warn if content is too short\n",
    "                logging.warning(f\"Short content for {url}: {len(article_text)} characters\")\n",
    "            return article_text\n",
    "        except requests.exceptions.RequestException as e:\n",
    "            logging.error(f\"Attempt {attempt + 1} failed for {url}: {str(e)}\")\n",
    "            if attempt < max_retries - 1:\n",
    "                time.sleep(2 ** attempt)  # Exponential backoff\n",
    "            else:\n",
    "                logging.error(f\"Failed to scrape {url} after {max_retries} attempts\")\n",
    "                return None"
   ]
  },
  {
   "cell_type": "code",
   "execution_count": 11,
   "metadata": {},
   "outputs": [
    {
     "name": "stderr",
     "output_type": "stream",
     "text": [
      "2025-06-06 14:52:58,196 - INFO - Loaded 10 articles from CSV\n",
      "2025-06-06 14:52:58,218 - INFO - Processing article 1/10: Elektra Awards 2025 open for entries\n",
      "2025-06-06 14:53:00,170 - INFO - Processing article 2/10: NMI hosts industry conference in Glasgow with theme of growth\n",
      "2025-06-06 14:53:03,227 - INFO - Processing article 3/10: DigiKey introduces own-brand DigiKey Standard product line\n",
      "2025-06-06 14:53:05,050 - INFO - Processing article 4/10: CHIIPS podcast interview with industry veteran Ash Madni\n",
      "2025-06-06 14:53:06,719 - INFO - Processing article 5/10: Get Mannerisms, Gadget Master, the Daily and the Weekly, in newsletter form\n",
      "2025-06-06 14:53:08,473 - INFO - Processing article 6/10: Elektra Awards 2025 looking for tech stars – companies, entrepreneurs and designers\n",
      "2025-06-06 14:53:10,211 - INFO - Processing article 7/10: IPC praises President Trump for defence industry support\n",
      "2025-06-06 14:53:11,811 - INFO - Processing article 8/10: IPC sets the industry on the path to sustainability\n",
      "2025-06-06 14:53:13,814 - INFO - Processing article 9/10: Imec launches Stuttgart advanced chip design accelerator\n",
      "2025-06-06 14:53:15,720 - INFO - Processing article 10/10: Auto hi-voltage detector claims fastest response time\n",
      "2025-06-06 14:53:17,653 - INFO - Successfully saved 10 articles to ./intermediate_data/Scraped_Article_Data.json\n"
     ]
    },
    {
     "name": "stdout",
     "output_type": "stream",
     "text": [
      "Output saved to: ./intermediate_data/Scraped_Article_Data.json\n"
     ]
    }
   ],
   "source": [
    "def main():\n",
    "    # Read the CSV file\n",
    "    try:\n",
    "        df = pd.read_csv('./intermediate_data/Scraped_Article_Links.csv')\n",
    "        logging.info(f\"Loaded {len(df)} articles from CSV\")\n",
    "    except Exception as e:\n",
    "        logging.error(f\"Error reading CSV: {str(e)}\")\n",
    "        return\n",
    "    required_columns = ['title', 'link', 'date', 'source']\n",
    "    missing_columns = [col for col in required_columns if col not in df.columns]\n",
    "    if missing_columns:\n",
    "        logging.error(f\"Missing required columns: {missing_columns}\")\n",
    "        return\n",
    "    \n",
    "    articles_data = []\n",
    "    # Process each article\n",
    "    for index, row in df.iterrows():\n",
    "        logging.info(f\"Processing article {index + 1}/{len(df)}: {row['title']}\")\n",
    "        article_text = scrape_article(row['link'])\n",
    "        article_data = {\n",
    "            'title': row['title'],\n",
    "            'source': row['source'],\n",
    "            'date': row['date'],\n",
    "            'link': row['link'],\n",
    "            'text': article_text\n",
    "        }\n",
    "        articles_data.append(article_data)\n",
    "        time.sleep(1)\n",
    "    \n",
    "    # Save to JSON file\n",
    "    output_filename = './intermediate_data/Scraped_Article_Data.json'\n",
    "    try:\n",
    "        with open(output_filename ,'w', encoding='utf-8') as f:\n",
    "            json.dump(articles_data, f, indent=2, ensure_ascii=False)\n",
    "        print(f\"Output saved to: {output_filename}\") \n",
    "    except Exception as e:\n",
    "        logging.error(f\"Error saving JSON file: {str(e)}\")  \n",
    "if __name__ == \"__main__\":\n",
    "    main()  "
   ]
  }
 ],
 "metadata": {
  "kernelspec": {
   "display_name": "Python (recommendation_libraries)",
   "language": "python",
   "name": "recommendation_libraries"
  },
  "language_info": {
   "codemirror_mode": {
    "name": "ipython",
    "version": 3
   },
   "file_extension": ".py",
   "mimetype": "text/x-python",
   "name": "python",
   "nbconvert_exporter": "python",
   "pygments_lexer": "ipython3",
   "version": "3.11.11"
  }
 },
 "nbformat": 4,
 "nbformat_minor": 2
}
