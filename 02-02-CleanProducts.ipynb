{
 "cells": [
  {
   "cell_type": "markdown",
   "metadata": {},
   "source": [
    "# 2.2 Clean Product Data\n",
    "This notebook cleans the product data in preparation for modeling. The ultimate goal is to match cleaned articles to the products based on their cleaned product data."
   ]
  },
  {
   "cell_type": "code",
   "execution_count": 21,
   "metadata": {},
   "outputs": [],
   "source": [
    "import json\n",
    "import re\n",
    "from bs4 import BeautifulSoup"
   ]
  },
  {
   "cell_type": "code",
   "execution_count": 22,
   "metadata": {},
   "outputs": [],
   "source": [
    "# Load raw product JSON\n",
    "with open(\"./data/product-data-raw.json\", \"r\", encoding=\"utf-8\") as f:\n",
    "    data = json.load(f)\n",
    "\n",
    "def clean_html(raw_html):\n",
    "    return BeautifulSoup(str(raw_html), \"html.parser\").get_text()\n",
    "\n",
    "def normalize_text(text):\n",
    "    if not isinstance(text, str):\n",
    "        return ''\n",
    "    text = text.lower()\n",
    "    text = re.sub(r'\\s+', ' ', text)            # normalize whitespace\n",
    "    text = re.sub(r'[^\\w\\s]', '', text)         # remove punctuation\n",
    "    return text.strip()\n",
    "\n",
    "def remove_navigation_noise(text):\n",
    "    \"\"\"Filter out repeated UI/menu content\"\"\"\n",
    "    keywords_to_remove = [\n",
    "        \"expand submenu\", \"collapse submenu\", \"site navigation\", \"create account\",\n",
    "        \"your cart\", \"close cart\", \"log in\", \"info\", \"contact\", \"dealer locator\",\n",
    "        \"who we are\", \"ordering information\", \"ambassadors\", \"journal\"\n",
    "    ]\n",
    "    for kw in keywords_to_remove:\n",
    "        text = re.sub(rf'\\b{re.escape(kw)}\\b', '', text)\n",
    "    return re.sub(r'\\s+', ' ', text).strip()\n",
    "\n",
    "# Clean each product\n",
    "for product in data:\n",
    "    clean_text = clean_html(raw_text)\n",
    "    clean_text = normalize_text(clean_text)\n",
    "    clean_text = remove_navigation_noise(clean_text)\n",
    "    product[\"clean_text\"] = clean_text  # new field for cleaned version\n"
   ]
  },
  {
   "cell_type": "markdown",
   "metadata": {},
   "source": [
    "## Save Cleaned Data\n",
    "We save the cleaned product data as a json file for the next steps."
   ]
  },
  {
   "cell_type": "code",
   "execution_count": 23,
   "metadata": {},
   "outputs": [],
   "source": [
    "with open(\"./intermediate_data/product-data-clean.json\", \"w\", encoding=\"utf-8\") as f:\n",
    "    json.dump(data, f, indent=2)"
   ]
  },
  {
   "cell_type": "markdown",
   "metadata": {},
   "source": [
    "## Next step\n",
    "After you saved the dataset here, run the next step in the workflow [03-01-AnalyzeArticles.ipynb](./03-01-AnalyzeArticles.ipynb) or go back to [00-Workflow.ipynb](./00-Workflow.ipynb)."
   ]
  },
  {
   "cell_type": "markdown",
   "metadata": {},
   "source": [
    "---\n",
    "\n",
    "**Authors:**\n",
    "[Salah Mohamoud](mailto:salah.mohamoud.dev@gmail.com),\n",
    "[Sai Keertana Lakku](mailto:saikeertana005@gmail.com),\n",
    "[Zhen Zhuang](mailto:zhuangzhen17cs@gmail.com),\n",
    "[Nick Capaldini](mailto:nick.capaldini@ridethenextwave.com), Ride The Next Wave, May 19, 2025\n",
    "\n",
    "---"
   ]
  },
  {
   "cell_type": "markdown",
   "metadata": {},
   "source": []
  }
 ],
 "metadata": {
  "kernelspec": {
   "display_name": "Python 3 (ipykernel)",
   "language": "python",
   "name": "python3"
  },
  "language_info": {
   "codemirror_mode": {
    "name": "ipython",
    "version": 3
   },
   "file_extension": ".py",
   "mimetype": "text/x-python",
   "name": "python",
   "nbconvert_exporter": "python",
   "pygments_lexer": "ipython3",
   "version": "3.11.11"
  }
 },
 "nbformat": 4,
 "nbformat_minor": 4
}
