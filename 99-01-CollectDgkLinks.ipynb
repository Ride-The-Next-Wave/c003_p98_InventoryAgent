{
 "cells": [
  {
   "cell_type": "markdown",
   "metadata": {},
   "source": [
    "# Collect Pink Bike Links"
   ]
  },
  {
   "cell_type": "markdown",
   "metadata": {},
   "source": [
    "This notebook extracts article links from the Pink Bike RSS feed, Trailforks Website, and a 2025 prediction article file. The ultimate goal is to match articles to specific bike products."
   ]
  },
  {
   "cell_type": "code",
   "execution_count": null,
   "metadata": {},
   "outputs": [],
   "source": [
    "import importlib\n",
    "import Utils\n",
    "importlib.reload(Utils)  # This will print \"Utils.py is loaded\" again\n",
    "from Utils import get_edn_article_links_list_from_search\n",
    "import json"
   ]
  },
  {
   "cell_type": "code",
   "execution_count": null,
   "metadata": {},
   "outputs": [],
   "source": [
    "url_edn = 'https://www.edn.com/?s=Practical+design+articles+and+component+selection+guides'\n",
    "edn_links = get_edn_article_links_list_from_search(url_edn)"
   ]
  },
  {
   "cell_type": "code",
   "execution_count": null,
   "metadata": {},
   "outputs": [],
   "source": [
    "# Check what you got\n",
    "print(f\"Number of links: {len(edn_links)}\")\n",
    "print(\"\\nEDN links:\")\n",
    "for link in edn_links:\n",
    "    print(link)"
   ]
  },
  {
   "cell_type": "code",
   "execution_count": null,
   "metadata": {},
   "outputs": [],
   "source": [
    "url_edn = 'https://www.edn.com/?s=Practical+design+articles+and+component+selection+guides'\n",
    "edn_links = get_edn_article_links(url_edn)\n",
    "\n",
    "url_eetimes = 'https://www.eetimes.com/?s=New+component+announcements%2C+technology+trends%2C+and+design+techniques'\n",
    "eetimes_links = get_eetimes_article_links(url_eetimes)\n",
    "\n",
    "url_edesign = 'https://www.electronicdesign.com/search?page=1&filters=%7B%22text%22%3A%22Design%20methodologies%20and%20component%20comparisons%22%2C%22page%22%3A1%2C%22status%22%3A%5B%221%22%5D%2C%22impliedSchedules%22%3Atrue%7D&sort=score'\n",
    "edesign_links = get_electronicdesign_article_links( url_edesign)\n",
    "\n",
    "url_eweekly = 'https://www.electronicsweekly.com/?s=Product+launches+and+industry+news&type=&category=0&year=0&orderby=name'\n",
    "eweekly_links = get_electronicsweekly_article_links(url_eweekly)\n",
    "\n",
    "# Combine all\n",
    "real_links = list(set(edn_links + eetimes_links + edesign_links + eweekly_links))\n",
    "\n",
    "links = [\n",
    "    'https://www.edn.com/designing-with-high-speed-op-amps/',\n",
    "    'https://www.eetimes.com/new-graphene-sensor-chip-detects-diseases/',\n",
    "    'https://www.electronicdesign.com/technologies/analog/article/21278158/understanding-op-amp-specifications',\n",
    "    'https://www.electronicsweekly.com/news/products/test-measurement-product-news/ultrafast-oscilloscope-samples-256ghz-2024-04/'\n",
    "]\n"
   ]
  },
  {
   "cell_type": "code",
   "execution_count": null,
   "metadata": {},
   "outputs": [],
   "source": [
    "len(real_links)"
   ]
  },
  {
   "cell_type": "code",
   "execution_count": null,
   "metadata": {},
   "outputs": [],
   "source": [
    "# save list to json on disk\n",
    "with open('data/01-real-links.json', 'w') as f:\n",
    "    json.dump(real_links, f)"
   ]
  }
 ],
 "metadata": {
  "kernelspec": {
   "display_name": "Python (recommendation_libraries)",
   "language": "python",
   "name": "recommendation_libraries"
  },
  "language_info": {
   "codemirror_mode": {
    "name": "ipython",
    "version": 3
   },
   "file_extension": ".py",
   "mimetype": "text/x-python",
   "name": "python",
   "nbconvert_exporter": "python",
   "pygments_lexer": "ipython3",
   "version": "3.11.11"
  }
 },
 "nbformat": 4,
 "nbformat_minor": 2
}
