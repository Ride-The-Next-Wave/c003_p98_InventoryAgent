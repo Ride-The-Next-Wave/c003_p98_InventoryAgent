{
 "cells": [
  {
   "cell_type": "markdown",
   "metadata": {},
   "source": [
    "## 1. Collect Products "
   ]
  },
  {
   "cell_type": "markdown",
   "metadata": {},
   "source": [
    "We begin by collecting the necessary product text data from [DigiKey](https://www.digikey.com/) website.\n",
    "\n",
    "Run the following notebook to generate a product list with their respective url's and categories."
   ]
  },
  {
   "cell_type": "code",
   "execution_count": 1,
   "metadata": {},
   "outputs": [],
   "source": [
    "import requests\n",
    "from bs4 import BeautifulSoup\n",
    "import re\n",
    "import time\n",
    "import json"
   ]
  },
  {
   "cell_type": "code",
   "execution_count": 2,
   "metadata": {},
   "outputs": [],
   "source": [
    "HEADERS = {\n",
    "    \"User-Agent\": \"Mozilla/5.0 (Windows NT 10.0; Win64; x64) AppleWebKit/537.36 (KHTML, like Gecko) Chrome/114.0.0.0 Safari/537.36\",\n",
    "    \"Accept-Language\": \"en-US,en;q=0.9\",\n",
    "    \"Accept-Encoding\": \"gzip, deflate, br\",\n",
    "    \"Accept\": \"text/html,application/xhtml+xml,application/xml;q=0.9,image/webp,image/apng,*/*;q=0.8\",\n",
    "    \"Connection\": \"keep-alive\",\n",
    "    \"Referer\": \"https://www.digikey.com/\",\n",
    "}\n",
    "\n",
    "BASE_URL = \"https://www.digikey.com\"\n",
    "\n",
    "def clean_category_name(text):\n",
    "    cleaned = re.sub(r'\\s*[\\d,]+\\s+Items?.*$', '', text, flags=re.IGNORECASE)\n",
    "    return cleaned.strip()\n",
    "\n",
    "def determine_main_category(name):\n",
    "    name_lower = name.lower()\n",
    "    if any(term in name_lower for term in ['anti-static', 'esd', 'clean room']):\n",
    "        return 'Anti-Static, ESD, Clean Room Products'\n",
    "    elif any(term in name_lower for term in ['audio', 'microphone', 'speaker', 'amplifier']):\n",
    "        return 'Audio Products'\n",
    "    elif any(term in name_lower for term in ['battery', 'batteries']):\n",
    "        return 'Battery Products'\n",
    "    elif any(term in name_lower for term in ['cable', 'wire', 'connector']):\n",
    "        return 'Cables & Connectors'\n",
    "    elif any(term in name_lower for term in ['capacitor']):\n",
    "        return 'Capacitors'\n",
    "    else:\n",
    "        return 'Other'\n",
    "\n",
    "def scrape_main_categories():\n",
    "    try:\n",
    "        url = \"https://www.digikey.com/en/products\"\n",
    "        print(f\"Scraping main categories from: {url}\")\n",
    "        response = requests.get(url, headers=HEADERS)\n",
    "        response.raise_for_status()\n",
    "        soup = BeautifulSoup(response.text, 'html.parser')\n",
    "        categories = []\n",
    "\n",
    "        for link in soup.find_all('a', href=True):\n",
    "            href = link.get('href', '')\n",
    "            text = link.get_text(strip=True)\n",
    "            if '/en/products/' in href and text:\n",
    "                name = clean_category_name(text)\n",
    "                if name and len(name) > 3:\n",
    "                    categories.append({\n",
    "                        'name': name,\n",
    "                        'url': BASE_URL + href if not href.startswith('http') else href,\n",
    "                        'category': determine_main_category(name)\n",
    "                    })\n",
    "        \n",
    "        # Remove duplicates\n",
    "        seen = set()\n",
    "        unique_categories = []\n",
    "        for cat in categories:\n",
    "            if cat['url'] not in seen:\n",
    "                seen.add(cat['url'])\n",
    "                unique_categories.append(cat)\n",
    "        \n",
    "        print(f\"Found {len(unique_categories)} unique categories\")\n",
    "        return unique_categories\n",
    "    except Exception as e:\n",
    "        print(f\"Error: {e}\")\n",
    "        return []"
   ]
  },
  {
   "cell_type": "markdown",
   "metadata": {},
   "source": [
    "### Save Raw Data"
   ]
  },
  {
   "cell_type": "code",
   "execution_count": 3,
   "metadata": {},
   "outputs": [
    {
     "name": "stdout",
     "output_type": "stream",
     "text": [
      "Scraping main categories from: https://www.digikey.com/en/products\n",
      "Found 681 unique categories\n"
     ]
    }
   ],
   "source": [
    "categories = scrape_main_categories()\n",
    "\n",
    "with open('./intermediate_data/Products_List_Raw.json', 'w') as f:\n",
    "    json.dump(categories, f, indent=2)\n"
   ]
  }
 ],
 "metadata": {
  "kernelspec": {
   "display_name": "Python (recommendation_libraries)",
   "language": "python",
   "name": "recommendation_libraries"
  },
  "language_info": {
   "codemirror_mode": {
    "name": "ipython",
    "version": 3
   },
   "file_extension": ".py",
   "mimetype": "text/x-python",
   "name": "python",
   "nbconvert_exporter": "python",
   "pygments_lexer": "ipython3",
   "version": "3.11.11"
  }
 },
 "nbformat": 4,
 "nbformat_minor": 2
}
