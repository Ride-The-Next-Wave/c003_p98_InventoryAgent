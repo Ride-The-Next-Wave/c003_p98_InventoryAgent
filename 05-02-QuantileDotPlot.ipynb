{
 "cells": [
  {
   "cell_type": "markdown",
   "metadata": {},
   "source": [
    "## Quantile dot plot \n",
    "\n",
    "This notebook generates quantile dot plot "
   ]
  },
  {
   "cell_type": "code",
   "execution_count": 9,
   "metadata": {},
   "outputs": [],
   "source": [
    "import pathlib\n",
    "import matplotlib.pyplot as plt\n",
    "import numpy as np\n",
    "from quantile_dotplot import ntile_dotplot\n",
    "import matplotlib\n",
    "import pandas as pd\n",
    "import json"
   ]
  },
  {
   "cell_type": "markdown",
   "metadata": {},
   "source": [
    "#### Load Article Data"
   ]
  },
  {
   "cell_type": "code",
   "execution_count": 10,
   "metadata": {},
   "outputs": [
    {
     "data": {
      "text/html": [
       "<div>\n",
       "<style scoped>\n",
       "    .dataframe tbody tr th:only-of-type {\n",
       "        vertical-align: middle;\n",
       "    }\n",
       "\n",
       "    .dataframe tbody tr th {\n",
       "        vertical-align: top;\n",
       "    }\n",
       "\n",
       "    .dataframe thead th {\n",
       "        text-align: right;\n",
       "    }\n",
       "</style>\n",
       "<table border=\"1\" class=\"dataframe\">\n",
       "  <thead>\n",
       "    <tr style=\"text-align: right;\">\n",
       "      <th></th>\n",
       "      <th>id</th>\n",
       "      <th>Product Category</th>\n",
       "      <th>Products</th>\n",
       "      <th>Product url</th>\n",
       "      <th>Description</th>\n",
       "      <th>Article_1_Score</th>\n",
       "      <th>Article_1_Title</th>\n",
       "      <th>Article_1_Link</th>\n",
       "      <th>Article_2_Score</th>\n",
       "      <th>Article_2_Title</th>\n",
       "      <th>Article_2_Link</th>\n",
       "      <th>Article_3_Score</th>\n",
       "      <th>Article_3_Title</th>\n",
       "      <th>Article_3_Link</th>\n",
       "    </tr>\n",
       "  </thead>\n",
       "  <tbody>\n",
       "    <tr>\n",
       "      <th>0</th>\n",
       "      <td>0</td>\n",
       "      <td>Card Guide Accessories</td>\n",
       "      <td>610</td>\n",
       "      <td>https://www.digikey.com/en/products/filter/car...</td>\n",
       "      <td>Card guide accessories are hardware components...</td>\n",
       "      <td>2.680</td>\n",
       "      <td>10-octave linear-in-pitch VCO with buffered tr...</td>\n",
       "      <td>https://www.edn.com/10-octave-linear-in-pitch-...</td>\n",
       "      <td>NaN</td>\n",
       "      <td>NaN</td>\n",
       "      <td>NaN</td>\n",
       "      <td>NaN</td>\n",
       "      <td>NaN</td>\n",
       "      <td>NaN</td>\n",
       "    </tr>\n",
       "    <tr>\n",
       "      <th>1</th>\n",
       "      <td>1</td>\n",
       "      <td>Wire Wrap</td>\n",
       "      <td>107</td>\n",
       "      <td>https://www.digikey.com/en/products/filter/wir...</td>\n",
       "      <td>Product Category: Wire Wrap\\n\\nWire wraps are ...</td>\n",
       "      <td>2.471</td>\n",
       "      <td>Multichannel impedance meter analyzes Li-Ion c...</td>\n",
       "      <td>https://www.edn.com/multichannel-impedance-met...</td>\n",
       "      <td>2.210</td>\n",
       "      <td>Robots to enable urban mining of CRMs</td>\n",
       "      <td>https://www.electronicsweekly.com/news/busines...</td>\n",
       "      <td>0.848</td>\n",
       "      <td>Powerline module enables EV charger data links</td>\n",
       "      <td>https://www.edn.com/powerline-module-enables-e...</td>\n",
       "    </tr>\n",
       "    <tr>\n",
       "      <th>2</th>\n",
       "      <td>2</td>\n",
       "      <td>Electrical, Specialty Fuses</td>\n",
       "      <td>27140</td>\n",
       "      <td>https://www.digikey.com/en/products/filter/ele...</td>\n",
       "      <td>Product Category: Electrical Specialty Fuses\\n...</td>\n",
       "      <td>4.734</td>\n",
       "      <td>Powerline module enables EV charger data links</td>\n",
       "      <td>https://www.edn.com/powerline-module-enables-e...</td>\n",
       "      <td>3.450</td>\n",
       "      <td>Standardization and modularization in pick and...</td>\n",
       "      <td>https://www.edn.com/standardization-and-modula...</td>\n",
       "      <td>2.648</td>\n",
       "      <td>GlobalFoundries Pledges $16 Billion U.S. Inves...</td>\n",
       "      <td>https://www.eetimes.com/globalfoundries-pledge...</td>\n",
       "    </tr>\n",
       "    <tr>\n",
       "      <th>3</th>\n",
       "      <td>3</td>\n",
       "      <td>Circuit Breakers</td>\n",
       "      <td>73743</td>\n",
       "      <td>https://www.digikey.com/en/products/filter/cir...</td>\n",
       "      <td>Product Category: Circuit Breakers\\n\\nCircuit ...</td>\n",
       "      <td>1.519</td>\n",
       "      <td>A quick and practical view of USB Power Delive...</td>\n",
       "      <td>https://www.edn.com/a-quick-and-practical-view...</td>\n",
       "      <td>1.404</td>\n",
       "      <td>10-octave linear-in-pitch VCO with buffered tr...</td>\n",
       "      <td>https://www.edn.com/10-octave-linear-in-pitch-...</td>\n",
       "      <td>1.207</td>\n",
       "      <td>Intel’s Tech Predictions In 2009</td>\n",
       "      <td>https://www.electronicsweekly.com/blogs/manner...</td>\n",
       "    </tr>\n",
       "    <tr>\n",
       "      <th>4</th>\n",
       "      <td>4</td>\n",
       "      <td>Evaluation, Development Board Enclosures</td>\n",
       "      <td>783</td>\n",
       "      <td>https://www.digikey.com/en/products/filter/eva...</td>\n",
       "      <td>Evaluation, Development Board Enclosures are d...</td>\n",
       "      <td>4.885</td>\n",
       "      <td>Vehicle hardware security certified to ISO/SAE...</td>\n",
       "      <td>https://www.electronicsweekly.com/news/product...</td>\n",
       "      <td>3.762</td>\n",
       "      <td>Motor gate drivers enable flexible current con...</td>\n",
       "      <td>https://www.edn.com/motor-gate-drivers-enable-...</td>\n",
       "      <td>3.303</td>\n",
       "      <td>Arm Launches Zena to Accelerate AI-Defined Veh...</td>\n",
       "      <td>https://www.eetimes.com/arm-launches-zena-to-a...</td>\n",
       "    </tr>\n",
       "  </tbody>\n",
       "</table>\n",
       "</div>"
      ],
      "text/plain": [
       "   id                          Product Category  Products  \\\n",
       "0   0                    Card Guide Accessories       610   \n",
       "1   1                                 Wire Wrap       107   \n",
       "2   2               Electrical, Specialty Fuses     27140   \n",
       "3   3                          Circuit Breakers     73743   \n",
       "4   4  Evaluation, Development Board Enclosures       783   \n",
       "\n",
       "                                         Product url  \\\n",
       "0  https://www.digikey.com/en/products/filter/car...   \n",
       "1  https://www.digikey.com/en/products/filter/wir...   \n",
       "2  https://www.digikey.com/en/products/filter/ele...   \n",
       "3  https://www.digikey.com/en/products/filter/cir...   \n",
       "4  https://www.digikey.com/en/products/filter/eva...   \n",
       "\n",
       "                                         Description  Article_1_Score  \\\n",
       "0  Card guide accessories are hardware components...            2.680   \n",
       "1  Product Category: Wire Wrap\\n\\nWire wraps are ...            2.471   \n",
       "2  Product Category: Electrical Specialty Fuses\\n...            4.734   \n",
       "3  Product Category: Circuit Breakers\\n\\nCircuit ...            1.519   \n",
       "4  Evaluation, Development Board Enclosures are d...            4.885   \n",
       "\n",
       "                                     Article_1_Title  \\\n",
       "0  10-octave linear-in-pitch VCO with buffered tr...   \n",
       "1  Multichannel impedance meter analyzes Li-Ion c...   \n",
       "2     Powerline module enables EV charger data links   \n",
       "3  A quick and practical view of USB Power Delive...   \n",
       "4  Vehicle hardware security certified to ISO/SAE...   \n",
       "\n",
       "                                      Article_1_Link  Article_2_Score  \\\n",
       "0  https://www.edn.com/10-octave-linear-in-pitch-...              NaN   \n",
       "1  https://www.edn.com/multichannel-impedance-met...            2.210   \n",
       "2  https://www.edn.com/powerline-module-enables-e...            3.450   \n",
       "3  https://www.edn.com/a-quick-and-practical-view...            1.404   \n",
       "4  https://www.electronicsweekly.com/news/product...            3.762   \n",
       "\n",
       "                                     Article_2_Title  \\\n",
       "0                                                NaN   \n",
       "1              Robots to enable urban mining of CRMs   \n",
       "2  Standardization and modularization in pick and...   \n",
       "3  10-octave linear-in-pitch VCO with buffered tr...   \n",
       "4  Motor gate drivers enable flexible current con...   \n",
       "\n",
       "                                      Article_2_Link  Article_3_Score  \\\n",
       "0                                                NaN              NaN   \n",
       "1  https://www.electronicsweekly.com/news/busines...            0.848   \n",
       "2  https://www.edn.com/standardization-and-modula...            2.648   \n",
       "3  https://www.edn.com/10-octave-linear-in-pitch-...            1.207   \n",
       "4  https://www.edn.com/motor-gate-drivers-enable-...            3.303   \n",
       "\n",
       "                                     Article_3_Title  \\\n",
       "0                                                NaN   \n",
       "1     Powerline module enables EV charger data links   \n",
       "2  GlobalFoundries Pledges $16 Billion U.S. Inves...   \n",
       "3                   Intel’s Tech Predictions In 2009   \n",
       "4  Arm Launches Zena to Accelerate AI-Defined Veh...   \n",
       "\n",
       "                                      Article_3_Link  \n",
       "0                                                NaN  \n",
       "1  https://www.edn.com/powerline-module-enables-e...  \n",
       "2  https://www.eetimes.com/globalfoundries-pledge...  \n",
       "3  https://www.electronicsweekly.com/blogs/manner...  \n",
       "4  https://www.eetimes.com/arm-launches-zena-to-a...  "
      ]
     },
     "execution_count": 10,
     "metadata": {},
     "output_type": "execute_result"
    }
   ],
   "source": [
    "df_product_cat = pd.read_csv('intermediate_data/Product_Article_Matching.csv')\n",
    "df_product_cat = df_product_cat.reset_index().rename({\"index\":\"id\"}, axis=1)\n",
    "df_product_cat.head(5)"
   ]
  },
  {
   "cell_type": "markdown",
   "metadata": {},
   "source": [
    "#### Load Plot Data"
   ]
  },
  {
   "cell_type": "code",
   "execution_count": 11,
   "metadata": {},
   "outputs": [
    {
     "data": {
      "text/html": [
       "<div>\n",
       "<style scoped>\n",
       "    .dataframe tbody tr th:only-of-type {\n",
       "        vertical-align: middle;\n",
       "    }\n",
       "\n",
       "    .dataframe tbody tr th {\n",
       "        vertical-align: top;\n",
       "    }\n",
       "\n",
       "    .dataframe thead th {\n",
       "        text-align: right;\n",
       "    }\n",
       "</style>\n",
       "<table border=\"1\" class=\"dataframe\">\n",
       "  <thead>\n",
       "    <tr style=\"text-align: right;\">\n",
       "      <th></th>\n",
       "      <th>id</th>\n",
       "      <th>090_day_forecast</th>\n",
       "    </tr>\n",
       "  </thead>\n",
       "  <tbody>\n",
       "    <tr>\n",
       "      <th>0</th>\n",
       "      <td>0</td>\n",
       "      <td>39.0</td>\n",
       "    </tr>\n",
       "    <tr>\n",
       "      <th>1</th>\n",
       "      <td>1</td>\n",
       "      <td>64.0</td>\n",
       "    </tr>\n",
       "    <tr>\n",
       "      <th>2</th>\n",
       "      <td>2</td>\n",
       "      <td>31.0</td>\n",
       "    </tr>\n",
       "    <tr>\n",
       "      <th>3</th>\n",
       "      <td>3</td>\n",
       "      <td>18.0</td>\n",
       "    </tr>\n",
       "    <tr>\n",
       "      <th>4</th>\n",
       "      <td>4</td>\n",
       "      <td>24.0</td>\n",
       "    </tr>\n",
       "  </tbody>\n",
       "</table>\n",
       "</div>"
      ],
      "text/plain": [
       "   id  090_day_forecast\n",
       "0   0              39.0\n",
       "1   1              64.0\n",
       "2   2              31.0\n",
       "3   3              18.0\n",
       "4   4              24.0"
      ]
     },
     "execution_count": 11,
     "metadata": {},
     "output_type": "execute_result"
    }
   ],
   "source": [
    "df_pred = pd.read_csv(\"intermediate_data/05_present/Sales_Forcast_Dataframe.csv\", index_col=0)\n",
    "df_pred = df_pred.reset_index().rename({\"index\":\"id\"}, axis=1)\n",
    "df_pred.head(5)"
   ]
  },
  {
   "cell_type": "markdown",
   "metadata": {},
   "source": [
    "#### Merge Names"
   ]
  },
  {
   "cell_type": "code",
   "execution_count": 12,
   "metadata": {},
   "outputs": [
    {
     "data": {
      "text/html": [
       "<div>\n",
       "<style scoped>\n",
       "    .dataframe tbody tr th:only-of-type {\n",
       "        vertical-align: middle;\n",
       "    }\n",
       "\n",
       "    .dataframe tbody tr th {\n",
       "        vertical-align: top;\n",
       "    }\n",
       "\n",
       "    .dataframe thead th {\n",
       "        text-align: right;\n",
       "    }\n",
       "</style>\n",
       "<table border=\"1\" class=\"dataframe\">\n",
       "  <thead>\n",
       "    <tr style=\"text-align: right;\">\n",
       "      <th></th>\n",
       "      <th>id</th>\n",
       "      <th>090_day_forecast</th>\n",
       "      <th>Product Category</th>\n",
       "      <th>Products</th>\n",
       "      <th>Product url</th>\n",
       "      <th>Description</th>\n",
       "      <th>Article_1_Score</th>\n",
       "      <th>Article_1_Title</th>\n",
       "      <th>Article_1_Link</th>\n",
       "      <th>Article_2_Score</th>\n",
       "      <th>Article_2_Title</th>\n",
       "      <th>Article_2_Link</th>\n",
       "      <th>Article_3_Score</th>\n",
       "      <th>Article_3_Title</th>\n",
       "      <th>Article_3_Link</th>\n",
       "    </tr>\n",
       "  </thead>\n",
       "  <tbody>\n",
       "    <tr>\n",
       "      <th>0</th>\n",
       "      <td>0</td>\n",
       "      <td>39.0</td>\n",
       "      <td>Card Guide Accessories</td>\n",
       "      <td>610</td>\n",
       "      <td>https://www.digikey.com/en/products/filter/car...</td>\n",
       "      <td>Card guide accessories are hardware components...</td>\n",
       "      <td>2.680</td>\n",
       "      <td>10-octave linear-in-pitch VCO with buffered tr...</td>\n",
       "      <td>https://www.edn.com/10-octave-linear-in-pitch-...</td>\n",
       "      <td>NaN</td>\n",
       "      <td>NaN</td>\n",
       "      <td>NaN</td>\n",
       "      <td>NaN</td>\n",
       "      <td>NaN</td>\n",
       "      <td>NaN</td>\n",
       "    </tr>\n",
       "    <tr>\n",
       "      <th>1</th>\n",
       "      <td>1</td>\n",
       "      <td>64.0</td>\n",
       "      <td>Wire Wrap</td>\n",
       "      <td>107</td>\n",
       "      <td>https://www.digikey.com/en/products/filter/wir...</td>\n",
       "      <td>Product Category: Wire Wrap\\n\\nWire wraps are ...</td>\n",
       "      <td>2.471</td>\n",
       "      <td>Multichannel impedance meter analyzes Li-Ion c...</td>\n",
       "      <td>https://www.edn.com/multichannel-impedance-met...</td>\n",
       "      <td>2.210</td>\n",
       "      <td>Robots to enable urban mining of CRMs</td>\n",
       "      <td>https://www.electronicsweekly.com/news/busines...</td>\n",
       "      <td>0.848</td>\n",
       "      <td>Powerline module enables EV charger data links</td>\n",
       "      <td>https://www.edn.com/powerline-module-enables-e...</td>\n",
       "    </tr>\n",
       "    <tr>\n",
       "      <th>2</th>\n",
       "      <td>2</td>\n",
       "      <td>31.0</td>\n",
       "      <td>Electrical, Specialty Fuses</td>\n",
       "      <td>27140</td>\n",
       "      <td>https://www.digikey.com/en/products/filter/ele...</td>\n",
       "      <td>Product Category: Electrical Specialty Fuses\\n...</td>\n",
       "      <td>4.734</td>\n",
       "      <td>Powerline module enables EV charger data links</td>\n",
       "      <td>https://www.edn.com/powerline-module-enables-e...</td>\n",
       "      <td>3.450</td>\n",
       "      <td>Standardization and modularization in pick and...</td>\n",
       "      <td>https://www.edn.com/standardization-and-modula...</td>\n",
       "      <td>2.648</td>\n",
       "      <td>GlobalFoundries Pledges $16 Billion U.S. Inves...</td>\n",
       "      <td>https://www.eetimes.com/globalfoundries-pledge...</td>\n",
       "    </tr>\n",
       "    <tr>\n",
       "      <th>3</th>\n",
       "      <td>3</td>\n",
       "      <td>18.0</td>\n",
       "      <td>Circuit Breakers</td>\n",
       "      <td>73743</td>\n",
       "      <td>https://www.digikey.com/en/products/filter/cir...</td>\n",
       "      <td>Product Category: Circuit Breakers\\n\\nCircuit ...</td>\n",
       "      <td>1.519</td>\n",
       "      <td>A quick and practical view of USB Power Delive...</td>\n",
       "      <td>https://www.edn.com/a-quick-and-practical-view...</td>\n",
       "      <td>1.404</td>\n",
       "      <td>10-octave linear-in-pitch VCO with buffered tr...</td>\n",
       "      <td>https://www.edn.com/10-octave-linear-in-pitch-...</td>\n",
       "      <td>1.207</td>\n",
       "      <td>Intel’s Tech Predictions In 2009</td>\n",
       "      <td>https://www.electronicsweekly.com/blogs/manner...</td>\n",
       "    </tr>\n",
       "    <tr>\n",
       "      <th>4</th>\n",
       "      <td>4</td>\n",
       "      <td>24.0</td>\n",
       "      <td>Evaluation, Development Board Enclosures</td>\n",
       "      <td>783</td>\n",
       "      <td>https://www.digikey.com/en/products/filter/eva...</td>\n",
       "      <td>Evaluation, Development Board Enclosures are d...</td>\n",
       "      <td>4.885</td>\n",
       "      <td>Vehicle hardware security certified to ISO/SAE...</td>\n",
       "      <td>https://www.electronicsweekly.com/news/product...</td>\n",
       "      <td>3.762</td>\n",
       "      <td>Motor gate drivers enable flexible current con...</td>\n",
       "      <td>https://www.edn.com/motor-gate-drivers-enable-...</td>\n",
       "      <td>3.303</td>\n",
       "      <td>Arm Launches Zena to Accelerate AI-Defined Veh...</td>\n",
       "      <td>https://www.eetimes.com/arm-launches-zena-to-a...</td>\n",
       "    </tr>\n",
       "  </tbody>\n",
       "</table>\n",
       "</div>"
      ],
      "text/plain": [
       "   id  090_day_forecast                          Product Category  Products  \\\n",
       "0   0              39.0                    Card Guide Accessories       610   \n",
       "1   1              64.0                                 Wire Wrap       107   \n",
       "2   2              31.0               Electrical, Specialty Fuses     27140   \n",
       "3   3              18.0                          Circuit Breakers     73743   \n",
       "4   4              24.0  Evaluation, Development Board Enclosures       783   \n",
       "\n",
       "                                         Product url  \\\n",
       "0  https://www.digikey.com/en/products/filter/car...   \n",
       "1  https://www.digikey.com/en/products/filter/wir...   \n",
       "2  https://www.digikey.com/en/products/filter/ele...   \n",
       "3  https://www.digikey.com/en/products/filter/cir...   \n",
       "4  https://www.digikey.com/en/products/filter/eva...   \n",
       "\n",
       "                                         Description  Article_1_Score  \\\n",
       "0  Card guide accessories are hardware components...            2.680   \n",
       "1  Product Category: Wire Wrap\\n\\nWire wraps are ...            2.471   \n",
       "2  Product Category: Electrical Specialty Fuses\\n...            4.734   \n",
       "3  Product Category: Circuit Breakers\\n\\nCircuit ...            1.519   \n",
       "4  Evaluation, Development Board Enclosures are d...            4.885   \n",
       "\n",
       "                                     Article_1_Title  \\\n",
       "0  10-octave linear-in-pitch VCO with buffered tr...   \n",
       "1  Multichannel impedance meter analyzes Li-Ion c...   \n",
       "2     Powerline module enables EV charger data links   \n",
       "3  A quick and practical view of USB Power Delive...   \n",
       "4  Vehicle hardware security certified to ISO/SAE...   \n",
       "\n",
       "                                      Article_1_Link  Article_2_Score  \\\n",
       "0  https://www.edn.com/10-octave-linear-in-pitch-...              NaN   \n",
       "1  https://www.edn.com/multichannel-impedance-met...            2.210   \n",
       "2  https://www.edn.com/powerline-module-enables-e...            3.450   \n",
       "3  https://www.edn.com/a-quick-and-practical-view...            1.404   \n",
       "4  https://www.electronicsweekly.com/news/product...            3.762   \n",
       "\n",
       "                                     Article_2_Title  \\\n",
       "0                                                NaN   \n",
       "1              Robots to enable urban mining of CRMs   \n",
       "2  Standardization and modularization in pick and...   \n",
       "3  10-octave linear-in-pitch VCO with buffered tr...   \n",
       "4  Motor gate drivers enable flexible current con...   \n",
       "\n",
       "                                      Article_2_Link  Article_3_Score  \\\n",
       "0                                                NaN              NaN   \n",
       "1  https://www.electronicsweekly.com/news/busines...            0.848   \n",
       "2  https://www.edn.com/standardization-and-modula...            2.648   \n",
       "3  https://www.edn.com/10-octave-linear-in-pitch-...            1.207   \n",
       "4  https://www.edn.com/motor-gate-drivers-enable-...            3.303   \n",
       "\n",
       "                                     Article_3_Title  \\\n",
       "0                                                NaN   \n",
       "1     Powerline module enables EV charger data links   \n",
       "2  GlobalFoundries Pledges $16 Billion U.S. Inves...   \n",
       "3                   Intel’s Tech Predictions In 2009   \n",
       "4  Arm Launches Zena to Accelerate AI-Defined Veh...   \n",
       "\n",
       "                                      Article_3_Link  \n",
       "0                                                NaN  \n",
       "1  https://www.edn.com/powerline-module-enables-e...  \n",
       "2  https://www.eetimes.com/globalfoundries-pledge...  \n",
       "3  https://www.electronicsweekly.com/blogs/manner...  \n",
       "4  https://www.eetimes.com/arm-launches-zena-to-a...  "
      ]
     },
     "execution_count": 12,
     "metadata": {},
     "output_type": "execute_result"
    }
   ],
   "source": [
    "df_display = df_pred.merge(df_product_cat, on=\"id\")\n",
    "df_display.head()"
   ]
  },
  {
   "cell_type": "markdown",
   "metadata": {},
   "source": [
    "#### Load Dot Plot Ratio"
   ]
  },
  {
   "cell_type": "code",
   "execution_count": 13,
   "metadata": {},
   "outputs": [
    {
     "data": {
      "text/plain": [
       "[1.10274622811379,\n",
       " 1.075620195072732,\n",
       " 1.065405619094332,\n",
       " 1.0418655445437526,\n",
       " 1.0472306270086833,\n",
       " 1.073338505707987,\n",
       " 1.0943292592541056,\n",
       " 1.0155921947057949,\n",
       " 1.0308640289342124,\n",
       " 1.064380247570561]"
      ]
     },
     "execution_count": 13,
     "metadata": {},
     "output_type": "execute_result"
    }
   ],
   "source": [
    "with open('intermediate_data/05_present/Dot_Plot_Ratio.json', 'r') as json_file:\n",
    "    cat_dotplot_ratio_dict = json.load(json_file)\n",
    "cat_dotplot_ratio_dict[\"0\"][:10]"
   ]
  },
  {
   "cell_type": "markdown",
   "metadata": {},
   "source": [
    "#### Merge Datasets"
   ]
  },
  {
   "cell_type": "markdown",
   "metadata": {},
   "source": [
    "#### Add in Dotplot Ratio Dict"
   ]
  },
  {
   "cell_type": "code",
   "execution_count": 14,
   "metadata": {},
   "outputs": [
    {
     "data": {
      "text/html": [
       "<div>\n",
       "<style scoped>\n",
       "    .dataframe tbody tr th:only-of-type {\n",
       "        vertical-align: middle;\n",
       "    }\n",
       "\n",
       "    .dataframe tbody tr th {\n",
       "        vertical-align: top;\n",
       "    }\n",
       "\n",
       "    .dataframe thead th {\n",
       "        text-align: right;\n",
       "    }\n",
       "</style>\n",
       "<table border=\"1\" class=\"dataframe\">\n",
       "  <thead>\n",
       "    <tr style=\"text-align: right;\">\n",
       "      <th></th>\n",
       "      <th>id</th>\n",
       "      <th>090_day_forecast</th>\n",
       "      <th>Product Category</th>\n",
       "      <th>Products</th>\n",
       "      <th>Product url</th>\n",
       "      <th>Description</th>\n",
       "      <th>Article_1_Score</th>\n",
       "      <th>Article_1_Title</th>\n",
       "      <th>Article_1_Link</th>\n",
       "      <th>Article_2_Score</th>\n",
       "      <th>Article_2_Title</th>\n",
       "      <th>Article_2_Link</th>\n",
       "      <th>Article_3_Score</th>\n",
       "      <th>Article_3_Title</th>\n",
       "      <th>Article_3_Link</th>\n",
       "      <th>dpr_dict</th>\n",
       "    </tr>\n",
       "  </thead>\n",
       "  <tbody>\n",
       "    <tr>\n",
       "      <th>0</th>\n",
       "      <td>0</td>\n",
       "      <td>39.0</td>\n",
       "      <td>Card Guide Accessories</td>\n",
       "      <td>610</td>\n",
       "      <td>https://www.digikey.com/en/products/filter/car...</td>\n",
       "      <td>Card guide accessories are hardware components...</td>\n",
       "      <td>2.680</td>\n",
       "      <td>10-octave linear-in-pitch VCO with buffered tr...</td>\n",
       "      <td>https://www.edn.com/10-octave-linear-in-pitch-...</td>\n",
       "      <td>NaN</td>\n",
       "      <td>NaN</td>\n",
       "      <td>NaN</td>\n",
       "      <td>NaN</td>\n",
       "      <td>NaN</td>\n",
       "      <td>NaN</td>\n",
       "      <td>[1.10274622811379, 1.075620195072732, 1.065405...</td>\n",
       "    </tr>\n",
       "    <tr>\n",
       "      <th>1</th>\n",
       "      <td>1</td>\n",
       "      <td>64.0</td>\n",
       "      <td>Wire Wrap</td>\n",
       "      <td>107</td>\n",
       "      <td>https://www.digikey.com/en/products/filter/wir...</td>\n",
       "      <td>Product Category: Wire Wrap\\n\\nWire wraps are ...</td>\n",
       "      <td>2.471</td>\n",
       "      <td>Multichannel impedance meter analyzes Li-Ion c...</td>\n",
       "      <td>https://www.edn.com/multichannel-impedance-met...</td>\n",
       "      <td>2.210</td>\n",
       "      <td>Robots to enable urban mining of CRMs</td>\n",
       "      <td>https://www.electronicsweekly.com/news/busines...</td>\n",
       "      <td>0.848</td>\n",
       "      <td>Powerline module enables EV charger data links</td>\n",
       "      <td>https://www.edn.com/powerline-module-enables-e...</td>\n",
       "      <td>[-0.0, -0.0, -0.0, -0.0, -0.0, -0.0, -0.0, -0....</td>\n",
       "    </tr>\n",
       "    <tr>\n",
       "      <th>2</th>\n",
       "      <td>2</td>\n",
       "      <td>31.0</td>\n",
       "      <td>Electrical, Specialty Fuses</td>\n",
       "      <td>27140</td>\n",
       "      <td>https://www.digikey.com/en/products/filter/ele...</td>\n",
       "      <td>Product Category: Electrical Specialty Fuses\\n...</td>\n",
       "      <td>4.734</td>\n",
       "      <td>Powerline module enables EV charger data links</td>\n",
       "      <td>https://www.edn.com/powerline-module-enables-e...</td>\n",
       "      <td>3.450</td>\n",
       "      <td>Standardization and modularization in pick and...</td>\n",
       "      <td>https://www.edn.com/standardization-and-modula...</td>\n",
       "      <td>2.648</td>\n",
       "      <td>GlobalFoundries Pledges $16 Billion U.S. Inves...</td>\n",
       "      <td>https://www.eetimes.com/globalfoundries-pledge...</td>\n",
       "      <td>[1.3949346170081829, 1.3972329555288896, 1.437...</td>\n",
       "    </tr>\n",
       "    <tr>\n",
       "      <th>3</th>\n",
       "      <td>3</td>\n",
       "      <td>18.0</td>\n",
       "      <td>Circuit Breakers</td>\n",
       "      <td>73743</td>\n",
       "      <td>https://www.digikey.com/en/products/filter/cir...</td>\n",
       "      <td>Product Category: Circuit Breakers\\n\\nCircuit ...</td>\n",
       "      <td>1.519</td>\n",
       "      <td>A quick and practical view of USB Power Delive...</td>\n",
       "      <td>https://www.edn.com/a-quick-and-practical-view...</td>\n",
       "      <td>1.404</td>\n",
       "      <td>10-octave linear-in-pitch VCO with buffered tr...</td>\n",
       "      <td>https://www.edn.com/10-octave-linear-in-pitch-...</td>\n",
       "      <td>1.207</td>\n",
       "      <td>Intel’s Tech Predictions In 2009</td>\n",
       "      <td>https://www.electronicsweekly.com/blogs/manner...</td>\n",
       "      <td>[-43.61596367154413, -18.773336606835716, -15....</td>\n",
       "    </tr>\n",
       "    <tr>\n",
       "      <th>4</th>\n",
       "      <td>4</td>\n",
       "      <td>24.0</td>\n",
       "      <td>Evaluation, Development Board Enclosures</td>\n",
       "      <td>783</td>\n",
       "      <td>https://www.digikey.com/en/products/filter/eva...</td>\n",
       "      <td>Evaluation, Development Board Enclosures are d...</td>\n",
       "      <td>4.885</td>\n",
       "      <td>Vehicle hardware security certified to ISO/SAE...</td>\n",
       "      <td>https://www.electronicsweekly.com/news/product...</td>\n",
       "      <td>3.762</td>\n",
       "      <td>Motor gate drivers enable flexible current con...</td>\n",
       "      <td>https://www.edn.com/motor-gate-drivers-enable-...</td>\n",
       "      <td>3.303</td>\n",
       "      <td>Arm Launches Zena to Accelerate AI-Defined Veh...</td>\n",
       "      <td>https://www.eetimes.com/arm-launches-zena-to-a...</td>\n",
       "      <td>[9587.086862762118, -49.69653554729111, -37.85...</td>\n",
       "    </tr>\n",
       "  </tbody>\n",
       "</table>\n",
       "</div>"
      ],
      "text/plain": [
       "   id  090_day_forecast                          Product Category  Products  \\\n",
       "0   0              39.0                    Card Guide Accessories       610   \n",
       "1   1              64.0                                 Wire Wrap       107   \n",
       "2   2              31.0               Electrical, Specialty Fuses     27140   \n",
       "3   3              18.0                          Circuit Breakers     73743   \n",
       "4   4              24.0  Evaluation, Development Board Enclosures       783   \n",
       "\n",
       "                                         Product url  \\\n",
       "0  https://www.digikey.com/en/products/filter/car...   \n",
       "1  https://www.digikey.com/en/products/filter/wir...   \n",
       "2  https://www.digikey.com/en/products/filter/ele...   \n",
       "3  https://www.digikey.com/en/products/filter/cir...   \n",
       "4  https://www.digikey.com/en/products/filter/eva...   \n",
       "\n",
       "                                         Description  Article_1_Score  \\\n",
       "0  Card guide accessories are hardware components...            2.680   \n",
       "1  Product Category: Wire Wrap\\n\\nWire wraps are ...            2.471   \n",
       "2  Product Category: Electrical Specialty Fuses\\n...            4.734   \n",
       "3  Product Category: Circuit Breakers\\n\\nCircuit ...            1.519   \n",
       "4  Evaluation, Development Board Enclosures are d...            4.885   \n",
       "\n",
       "                                     Article_1_Title  \\\n",
       "0  10-octave linear-in-pitch VCO with buffered tr...   \n",
       "1  Multichannel impedance meter analyzes Li-Ion c...   \n",
       "2     Powerline module enables EV charger data links   \n",
       "3  A quick and practical view of USB Power Delive...   \n",
       "4  Vehicle hardware security certified to ISO/SAE...   \n",
       "\n",
       "                                      Article_1_Link  Article_2_Score  \\\n",
       "0  https://www.edn.com/10-octave-linear-in-pitch-...              NaN   \n",
       "1  https://www.edn.com/multichannel-impedance-met...            2.210   \n",
       "2  https://www.edn.com/powerline-module-enables-e...            3.450   \n",
       "3  https://www.edn.com/a-quick-and-practical-view...            1.404   \n",
       "4  https://www.electronicsweekly.com/news/product...            3.762   \n",
       "\n",
       "                                     Article_2_Title  \\\n",
       "0                                                NaN   \n",
       "1              Robots to enable urban mining of CRMs   \n",
       "2  Standardization and modularization in pick and...   \n",
       "3  10-octave linear-in-pitch VCO with buffered tr...   \n",
       "4  Motor gate drivers enable flexible current con...   \n",
       "\n",
       "                                      Article_2_Link  Article_3_Score  \\\n",
       "0                                                NaN              NaN   \n",
       "1  https://www.electronicsweekly.com/news/busines...            0.848   \n",
       "2  https://www.edn.com/standardization-and-modula...            2.648   \n",
       "3  https://www.edn.com/10-octave-linear-in-pitch-...            1.207   \n",
       "4  https://www.edn.com/motor-gate-drivers-enable-...            3.303   \n",
       "\n",
       "                                     Article_3_Title  \\\n",
       "0                                                NaN   \n",
       "1     Powerline module enables EV charger data links   \n",
       "2  GlobalFoundries Pledges $16 Billion U.S. Inves...   \n",
       "3                   Intel’s Tech Predictions In 2009   \n",
       "4  Arm Launches Zena to Accelerate AI-Defined Veh...   \n",
       "\n",
       "                                      Article_3_Link  \\\n",
       "0                                                NaN   \n",
       "1  https://www.edn.com/powerline-module-enables-e...   \n",
       "2  https://www.eetimes.com/globalfoundries-pledge...   \n",
       "3  https://www.electronicsweekly.com/blogs/manner...   \n",
       "4  https://www.eetimes.com/arm-launches-zena-to-a...   \n",
       "\n",
       "                                            dpr_dict  \n",
       "0  [1.10274622811379, 1.075620195072732, 1.065405...  \n",
       "1  [-0.0, -0.0, -0.0, -0.0, -0.0, -0.0, -0.0, -0....  \n",
       "2  [1.3949346170081829, 1.3972329555288896, 1.437...  \n",
       "3  [-43.61596367154413, -18.773336606835716, -15....  \n",
       "4  [9587.086862762118, -49.69653554729111, -37.85...  "
      ]
     },
     "execution_count": 14,
     "metadata": {},
     "output_type": "execute_result"
    }
   ],
   "source": [
    "df_display[\"dpr_dict\"] = df_display[\"id\"].apply(lambda x: cat_dotplot_ratio_dict[str(x)])\n",
    "df_display.head()"
   ]
  },
  {
   "cell_type": "markdown",
   "metadata": {},
   "source": []
  },
  {
   "cell_type": "code",
   "execution_count": 15,
   "metadata": {},
   "outputs": [],
   "source": [
    "cat_specific = \"Plug Housings\"\n",
    "\n",
    "def dotplot_sku_function(df , cat):\n",
    "    plt.figure(figsize=(8, 6))  #\n",
    "\n",
    "\n",
    "    data = df[df[\"Product Category\"] == cat][\"dpr_dict\"].iloc[0]\n",
    "    prediction = df[df[\"Product Category\"] == cat][\"090_day_forecast\"].iloc[0]\n",
    "    dotplotdata = np.abs(prediction * np.array(data))\n",
    "    date_latest = \"Jun/11/2025\"\n",
    "    dotplt = ntile_dotplot(dotplotdata, dots=20, hist_bins=\"auto\")\n",
    "    print(type(dotplt))\n",
    "    dotplt.axvline(x=prediction, color='r', linestyle='--', linewidth=2, label='Prediction')\n",
    "    dotplt.set_title(\"90 Day Sales Prediction for \\n {} \\n on {} \".format(cat, date_latest),\n",
    "                                                                       fontsize=20)\n",
    "    #, fontweight='bold')\n",
    "    dotplt.set_xlabel(\"\\n Forecast Unit Sales Next 90 Days\", fontsize=20)\n",
    "\n",
    "    # Remove top, right, and left spines, keep only bottom\n",
    "    dotplt.spines['top'].set_visible(False)\n",
    "    dotplt.spines['right'].set_visible(False)\n",
    "    dotplt.spines['left'].set_visible(False)\n",
    "    \n",
    "    # Remove y-axis ticks and labels\n",
    "    dotplt.set_yticks([])\n",
    "    dotplt.set_ylabel('')\n",
    "    \n",
    "    from matplotlib.ticker import FuncFormatter\n",
    "    dotplt.xaxis.set_major_formatter(FuncFormatter(lambda x, p: f'{int(round(x))}'))\n",
    "    dotplt.tick_params(axis='x', labelsize=20) \n",
    "    #plt.tight_layout()\n",
    "    dotplt.figure.savefig(\"figures/sfp_{}.png\".format(cat.translate(str.maketrans(\" /\", \"__\"))), \n",
    "                          bbox_inches='tight', dpi=300, pad_inches=0.2)"
   ]
  },
  {
   "cell_type": "code",
   "execution_count": null,
   "metadata": {},
   "outputs": [],
   "source": []
  },
  {
   "cell_type": "code",
   "execution_count": 16,
   "metadata": {},
   "outputs": [
    {
     "ename": "IndexError",
     "evalue": "single positional indexer is out-of-bounds",
     "output_type": "error",
     "traceback": [
      "\u001b[0;31m---------------------------------------------------------------------------\u001b[0m",
      "\u001b[0;31mIndexError\u001b[0m                                Traceback (most recent call last)",
      "Cell \u001b[0;32mIn[16], line 1\u001b[0m\n\u001b[0;32m----> 1\u001b[0m \u001b[43mdotplot_sku_function\u001b[49m\u001b[43m(\u001b[49m\u001b[43mdf_display\u001b[49m\u001b[43m,\u001b[49m\u001b[43m \u001b[49m\u001b[43mcat_specific\u001b[49m\u001b[43m)\u001b[49m\n",
      "Cell \u001b[0;32mIn[15], line 7\u001b[0m, in \u001b[0;36mdotplot_sku_function\u001b[0;34m(df, cat)\u001b[0m\n\u001b[1;32m      3\u001b[0m \u001b[38;5;28;01mdef\u001b[39;00m\u001b[38;5;250m \u001b[39m\u001b[38;5;21mdotplot_sku_function\u001b[39m(df , cat):\n\u001b[1;32m      4\u001b[0m     plt\u001b[38;5;241m.\u001b[39mfigure(figsize\u001b[38;5;241m=\u001b[39m(\u001b[38;5;241m8\u001b[39m, \u001b[38;5;241m6\u001b[39m))  \u001b[38;5;66;03m#\u001b[39;00m\n\u001b[0;32m----> 7\u001b[0m     data \u001b[38;5;241m=\u001b[39m \u001b[43mdf\u001b[49m\u001b[43m[\u001b[49m\u001b[43mdf\u001b[49m\u001b[43m[\u001b[49m\u001b[38;5;124;43m\"\u001b[39;49m\u001b[38;5;124;43mProduct Category\u001b[39;49m\u001b[38;5;124;43m\"\u001b[39;49m\u001b[43m]\u001b[49m\u001b[43m \u001b[49m\u001b[38;5;241;43m==\u001b[39;49m\u001b[43m \u001b[49m\u001b[43mcat\u001b[49m\u001b[43m]\u001b[49m\u001b[43m[\u001b[49m\u001b[38;5;124;43m\"\u001b[39;49m\u001b[38;5;124;43mdpr_dict\u001b[39;49m\u001b[38;5;124;43m\"\u001b[39;49m\u001b[43m]\u001b[49m\u001b[38;5;241;43m.\u001b[39;49m\u001b[43miloc\u001b[49m\u001b[43m[\u001b[49m\u001b[38;5;241;43m0\u001b[39;49m\u001b[43m]\u001b[49m\n\u001b[1;32m      8\u001b[0m     prediction \u001b[38;5;241m=\u001b[39m df[df[\u001b[38;5;124m\"\u001b[39m\u001b[38;5;124mProduct Category\u001b[39m\u001b[38;5;124m\"\u001b[39m] \u001b[38;5;241m==\u001b[39m cat][\u001b[38;5;124m\"\u001b[39m\u001b[38;5;124m090_day_forecast\u001b[39m\u001b[38;5;124m\"\u001b[39m]\u001b[38;5;241m.\u001b[39miloc[\u001b[38;5;241m0\u001b[39m]\n\u001b[1;32m      9\u001b[0m     dotplotdata \u001b[38;5;241m=\u001b[39m np\u001b[38;5;241m.\u001b[39mabs(prediction \u001b[38;5;241m*\u001b[39m np\u001b[38;5;241m.\u001b[39marray(data))\n",
      "File \u001b[0;32m/opt/anaconda3/envs/recommendation_libraries/lib/python3.11/site-packages/pandas/core/indexing.py:1191\u001b[0m, in \u001b[0;36m_LocationIndexer.__getitem__\u001b[0;34m(self, key)\u001b[0m\n\u001b[1;32m   1189\u001b[0m maybe_callable \u001b[38;5;241m=\u001b[39m com\u001b[38;5;241m.\u001b[39mapply_if_callable(key, \u001b[38;5;28mself\u001b[39m\u001b[38;5;241m.\u001b[39mobj)\n\u001b[1;32m   1190\u001b[0m maybe_callable \u001b[38;5;241m=\u001b[39m \u001b[38;5;28mself\u001b[39m\u001b[38;5;241m.\u001b[39m_check_deprecated_callable_usage(key, maybe_callable)\n\u001b[0;32m-> 1191\u001b[0m \u001b[38;5;28;01mreturn\u001b[39;00m \u001b[38;5;28;43mself\u001b[39;49m\u001b[38;5;241;43m.\u001b[39;49m\u001b[43m_getitem_axis\u001b[49m\u001b[43m(\u001b[49m\u001b[43mmaybe_callable\u001b[49m\u001b[43m,\u001b[49m\u001b[43m \u001b[49m\u001b[43maxis\u001b[49m\u001b[38;5;241;43m=\u001b[39;49m\u001b[43maxis\u001b[49m\u001b[43m)\u001b[49m\n",
      "File \u001b[0;32m/opt/anaconda3/envs/recommendation_libraries/lib/python3.11/site-packages/pandas/core/indexing.py:1752\u001b[0m, in \u001b[0;36m_iLocIndexer._getitem_axis\u001b[0;34m(self, key, axis)\u001b[0m\n\u001b[1;32m   1749\u001b[0m     \u001b[38;5;28;01mraise\u001b[39;00m \u001b[38;5;167;01mTypeError\u001b[39;00m(\u001b[38;5;124m\"\u001b[39m\u001b[38;5;124mCannot index by location index with a non-integer key\u001b[39m\u001b[38;5;124m\"\u001b[39m)\n\u001b[1;32m   1751\u001b[0m \u001b[38;5;66;03m# validate the location\u001b[39;00m\n\u001b[0;32m-> 1752\u001b[0m \u001b[38;5;28;43mself\u001b[39;49m\u001b[38;5;241;43m.\u001b[39;49m\u001b[43m_validate_integer\u001b[49m\u001b[43m(\u001b[49m\u001b[43mkey\u001b[49m\u001b[43m,\u001b[49m\u001b[43m \u001b[49m\u001b[43maxis\u001b[49m\u001b[43m)\u001b[49m\n\u001b[1;32m   1754\u001b[0m \u001b[38;5;28;01mreturn\u001b[39;00m \u001b[38;5;28mself\u001b[39m\u001b[38;5;241m.\u001b[39mobj\u001b[38;5;241m.\u001b[39m_ixs(key, axis\u001b[38;5;241m=\u001b[39maxis)\n",
      "File \u001b[0;32m/opt/anaconda3/envs/recommendation_libraries/lib/python3.11/site-packages/pandas/core/indexing.py:1685\u001b[0m, in \u001b[0;36m_iLocIndexer._validate_integer\u001b[0;34m(self, key, axis)\u001b[0m\n\u001b[1;32m   1683\u001b[0m len_axis \u001b[38;5;241m=\u001b[39m \u001b[38;5;28mlen\u001b[39m(\u001b[38;5;28mself\u001b[39m\u001b[38;5;241m.\u001b[39mobj\u001b[38;5;241m.\u001b[39m_get_axis(axis))\n\u001b[1;32m   1684\u001b[0m \u001b[38;5;28;01mif\u001b[39;00m key \u001b[38;5;241m>\u001b[39m\u001b[38;5;241m=\u001b[39m len_axis \u001b[38;5;129;01mor\u001b[39;00m key \u001b[38;5;241m<\u001b[39m \u001b[38;5;241m-\u001b[39mlen_axis:\n\u001b[0;32m-> 1685\u001b[0m     \u001b[38;5;28;01mraise\u001b[39;00m \u001b[38;5;167;01mIndexError\u001b[39;00m(\u001b[38;5;124m\"\u001b[39m\u001b[38;5;124msingle positional indexer is out-of-bounds\u001b[39m\u001b[38;5;124m\"\u001b[39m)\n",
      "\u001b[0;31mIndexError\u001b[0m: single positional indexer is out-of-bounds"
     ]
    },
    {
     "data": {
      "text/plain": [
       "<Figure size 800x600 with 0 Axes>"
      ]
     },
     "metadata": {},
     "output_type": "display_data"
    }
   ],
   "source": [
    "dotplot_sku_function(df_display, cat_specific)"
   ]
  },
  {
   "cell_type": "markdown",
   "metadata": {},
   "source": [
    "#### Run for all Datasets"
   ]
  },
  {
   "cell_type": "code",
   "execution_count": null,
   "metadata": {},
   "outputs": [
    {
     "name": "stdout",
     "output_type": "stream",
     "text": [
      "<class 'matplotlib.axes._axes.Axes'>\n"
     ]
    },
    {
     "name": "stdout",
     "output_type": "stream",
     "text": [
      "<class 'matplotlib.axes._axes.Axes'>\n",
      "<class 'matplotlib.axes._axes.Axes'>\n",
      "<class 'matplotlib.axes._axes.Axes'>\n",
      "<class 'matplotlib.axes._axes.Axes'>\n",
      "<class 'matplotlib.axes._axes.Axes'>\n",
      "<class 'matplotlib.axes._axes.Axes'>\n",
      "<class 'matplotlib.axes._axes.Axes'>\n",
      "<class 'matplotlib.axes._axes.Axes'>\n",
      "<class 'matplotlib.axes._axes.Axes'>\n",
      "<class 'matplotlib.axes._axes.Axes'>\n",
      "<class 'matplotlib.axes._axes.Axes'>\n",
      "<class 'matplotlib.axes._axes.Axes'>\n",
      "<class 'matplotlib.axes._axes.Axes'>\n",
      "<class 'matplotlib.axes._axes.Axes'>\n",
      "<class 'matplotlib.axes._axes.Axes'>\n",
      "<class 'matplotlib.axes._axes.Axes'>\n",
      "<class 'matplotlib.axes._axes.Axes'>\n",
      "<class 'matplotlib.axes._axes.Axes'>\n",
      "<class 'matplotlib.axes._axes.Axes'>\n"
     ]
    },
    {
     "name": "stderr",
     "output_type": "stream",
     "text": [
      "/var/folders/yk/12gxrg_j4_7fdrzzrf8kxwr00000gn/T/ipykernel_38598/1037950732.py:4: RuntimeWarning: More than 20 figures have been opened. Figures created through the pyplot interface (`matplotlib.pyplot.figure`) are retained until explicitly closed and may consume too much memory. (To control this warning, see the rcParam `figure.max_open_warning`). Consider using `matplotlib.pyplot.close()`.\n",
      "  plt.figure(figsize=(8, 6))  #\n"
     ]
    },
    {
     "name": "stdout",
     "output_type": "stream",
     "text": [
      "<class 'matplotlib.axes._axes.Axes'>\n",
      "<class 'matplotlib.axes._axes.Axes'>\n",
      "<class 'matplotlib.axes._axes.Axes'>\n",
      "<class 'matplotlib.axes._axes.Axes'>\n",
      "<class 'matplotlib.axes._axes.Axes'>\n",
      "<class 'matplotlib.axes._axes.Axes'>\n",
      "<class 'matplotlib.axes._axes.Axes'>\n",
      "<class 'matplotlib.axes._axes.Axes'>\n",
      "<class 'matplotlib.axes._axes.Axes'>\n",
      "<class 'matplotlib.axes._axes.Axes'>\n",
      "<class 'matplotlib.axes._axes.Axes'>\n",
      "<class 'matplotlib.axes._axes.Axes'>\n",
      "<class 'matplotlib.axes._axes.Axes'>\n",
      "<class 'matplotlib.axes._axes.Axes'>\n",
      "<class 'matplotlib.axes._axes.Axes'>\n",
      "<class 'matplotlib.axes._axes.Axes'>\n",
      "<class 'matplotlib.axes._axes.Axes'>\n",
      "<class 'matplotlib.axes._axes.Axes'>\n",
      "<class 'matplotlib.axes._axes.Axes'>\n",
      "<class 'matplotlib.axes._axes.Axes'>\n",
      "<class 'matplotlib.axes._axes.Axes'>\n",
      "<class 'matplotlib.axes._axes.Axes'>\n",
      "<class 'matplotlib.axes._axes.Axes'>\n",
      "<class 'matplotlib.axes._axes.Axes'>\n",
      "<class 'matplotlib.axes._axes.Axes'>\n",
      "<class 'matplotlib.axes._axes.Axes'>\n",
      "<class 'matplotlib.axes._axes.Axes'>\n",
      "<class 'matplotlib.axes._axes.Axes'>\n",
      "<class 'matplotlib.axes._axes.Axes'>\n",
      "<class 'matplotlib.axes._axes.Axes'>\n"
     ]
    },
    {
     "data": {
      "text/plain": [
       "<Figure size 576x432 with 0 Axes>"
      ]
     },
     "metadata": {},
     "output_type": "display_data"
    },
    {
     "data": {
      "text/plain": [
       "<Figure size 576x432 with 0 Axes>"
      ]
     },
     "metadata": {},
     "output_type": "display_data"
    },
    {
     "data": {
      "text/plain": [
       "<Figure size 576x432 with 0 Axes>"
      ]
     },
     "metadata": {},
     "output_type": "display_data"
    },
    {
     "data": {
      "text/plain": [
       "<Figure size 576x432 with 0 Axes>"
      ]
     },
     "metadata": {},
     "output_type": "display_data"
    },
    {
     "data": {
      "text/plain": [
       "<Figure size 576x432 with 0 Axes>"
      ]
     },
     "metadata": {},
     "output_type": "display_data"
    },
    {
     "data": {
      "text/plain": [
       "<Figure size 576x432 with 0 Axes>"
      ]
     },
     "metadata": {},
     "output_type": "display_data"
    },
    {
     "data": {
      "text/plain": [
       "<Figure size 576x432 with 0 Axes>"
      ]
     },
     "metadata": {},
     "output_type": "display_data"
    },
    {
     "data": {
      "text/plain": [
       "<Figure size 576x432 with 0 Axes>"
      ]
     },
     "metadata": {},
     "output_type": "display_data"
    },
    {
     "data": {
      "text/plain": [
       "<Figure size 576x432 with 0 Axes>"
      ]
     },
     "metadata": {},
     "output_type": "display_data"
    },
    {
     "data": {
      "text/plain": [
       "<Figure size 576x432 with 0 Axes>"
      ]
     },
     "metadata": {},
     "output_type": "display_data"
    },
    {
     "data": {
      "text/plain": [
       "<Figure size 576x432 with 0 Axes>"
      ]
     },
     "metadata": {},
     "output_type": "display_data"
    },
    {
     "data": {
      "text/plain": [
       "<Figure size 576x432 with 0 Axes>"
      ]
     },
     "metadata": {},
     "output_type": "display_data"
    },
    {
     "data": {
      "text/plain": [
       "<Figure size 576x432 with 0 Axes>"
      ]
     },
     "metadata": {},
     "output_type": "display_data"
    },
    {
     "data": {
      "text/plain": [
       "<Figure size 576x432 with 0 Axes>"
      ]
     },
     "metadata": {},
     "output_type": "display_data"
    },
    {
     "data": {
      "text/plain": [
       "<Figure size 576x432 with 0 Axes>"
      ]
     },
     "metadata": {},
     "output_type": "display_data"
    },
    {
     "data": {
      "text/plain": [
       "<Figure size 576x432 with 0 Axes>"
      ]
     },
     "metadata": {},
     "output_type": "display_data"
    },
    {
     "data": {
      "text/plain": [
       "<Figure size 576x432 with 0 Axes>"
      ]
     },
     "metadata": {},
     "output_type": "display_data"
    },
    {
     "data": {
      "text/plain": [
       "<Figure size 576x432 with 0 Axes>"
      ]
     },
     "metadata": {},
     "output_type": "display_data"
    },
    {
     "data": {
      "text/plain": [
       "<Figure size 576x432 with 0 Axes>"
      ]
     },
     "metadata": {},
     "output_type": "display_data"
    },
    {
     "data": {
      "text/plain": [
       "<Figure size 576x432 with 0 Axes>"
      ]
     },
     "metadata": {},
     "output_type": "display_data"
    },
    {
     "data": {
      "text/plain": [
       "<Figure size 576x432 with 0 Axes>"
      ]
     },
     "metadata": {},
     "output_type": "display_data"
    },
    {
     "data": {
      "text/plain": [
       "<Figure size 576x432 with 0 Axes>"
      ]
     },
     "metadata": {},
     "output_type": "display_data"
    },
    {
     "data": {
      "text/plain": [
       "<Figure size 576x432 with 0 Axes>"
      ]
     },
     "metadata": {},
     "output_type": "display_data"
    },
    {
     "data": {
      "text/plain": [
       "<Figure size 576x432 with 0 Axes>"
      ]
     },
     "metadata": {},
     "output_type": "display_data"
    },
    {
     "data": {
      "text/plain": [
       "<Figure size 576x432 with 0 Axes>"
      ]
     },
     "metadata": {},
     "output_type": "display_data"
    },
    {
     "data": {
      "text/plain": [
       "<Figure size 576x432 with 0 Axes>"
      ]
     },
     "metadata": {},
     "output_type": "display_data"
    },
    {
     "data": {
      "text/plain": [
       "<Figure size 576x432 with 0 Axes>"
      ]
     },
     "metadata": {},
     "output_type": "display_data"
    },
    {
     "data": {
      "text/plain": [
       "<Figure size 576x432 with 0 Axes>"
      ]
     },
     "metadata": {},
     "output_type": "display_data"
    },
    {
     "data": {
      "text/plain": [
       "<Figure size 576x432 with 0 Axes>"
      ]
     },
     "metadata": {},
     "output_type": "display_data"
    },
    {
     "data": {
      "text/plain": [
       "<Figure size 576x432 with 0 Axes>"
      ]
     },
     "metadata": {},
     "output_type": "display_data"
    },
    {
     "data": {
      "text/plain": [
       "<Figure size 576x432 with 0 Axes>"
      ]
     },
     "metadata": {},
     "output_type": "display_data"
    },
    {
     "data": {
      "text/plain": [
       "<Figure size 576x432 with 0 Axes>"
      ]
     },
     "metadata": {},
     "output_type": "display_data"
    },
    {
     "data": {
      "text/plain": [
       "<Figure size 576x432 with 0 Axes>"
      ]
     },
     "metadata": {},
     "output_type": "display_data"
    },
    {
     "data": {
      "text/plain": [
       "<Figure size 576x432 with 0 Axes>"
      ]
     },
     "metadata": {},
     "output_type": "display_data"
    },
    {
     "data": {
      "text/plain": [
       "<Figure size 576x432 with 0 Axes>"
      ]
     },
     "metadata": {},
     "output_type": "display_data"
    },
    {
     "data": {
      "text/plain": [
       "<Figure size 576x432 with 0 Axes>"
      ]
     },
     "metadata": {},
     "output_type": "display_data"
    },
    {
     "data": {
      "text/plain": [
       "<Figure size 576x432 with 0 Axes>"
      ]
     },
     "metadata": {},
     "output_type": "display_data"
    },
    {
     "data": {
      "text/plain": [
       "<Figure size 576x432 with 0 Axes>"
      ]
     },
     "metadata": {},
     "output_type": "display_data"
    },
    {
     "data": {
      "text/plain": [
       "<Figure size 576x432 with 0 Axes>"
      ]
     },
     "metadata": {},
     "output_type": "display_data"
    },
    {
     "data": {
      "text/plain": [
       "<Figure size 576x432 with 0 Axes>"
      ]
     },
     "metadata": {},
     "output_type": "display_data"
    },
    {
     "data": {
      "text/plain": [
       "<Figure size 576x432 with 0 Axes>"
      ]
     },
     "metadata": {},
     "output_type": "display_data"
    },
    {
     "data": {
      "text/plain": [
       "<Figure size 576x432 with 0 Axes>"
      ]
     },
     "metadata": {},
     "output_type": "display_data"
    },
    {
     "data": {
      "text/plain": [
       "<Figure size 576x432 with 0 Axes>"
      ]
     },
     "metadata": {},
     "output_type": "display_data"
    },
    {
     "data": {
      "text/plain": [
       "<Figure size 576x432 with 0 Axes>"
      ]
     },
     "metadata": {},
     "output_type": "display_data"
    },
    {
     "data": {
      "text/plain": [
       "<Figure size 576x432 with 0 Axes>"
      ]
     },
     "metadata": {},
     "output_type": "display_data"
    },
    {
     "data": {
      "text/plain": [
       "<Figure size 576x432 with 0 Axes>"
      ]
     },
     "metadata": {},
     "output_type": "display_data"
    },
    {
     "data": {
      "text/plain": [
       "<Figure size 576x432 with 0 Axes>"
      ]
     },
     "metadata": {},
     "output_type": "display_data"
    },
    {
     "data": {
      "text/plain": [
       "<Figure size 576x432 with 0 Axes>"
      ]
     },
     "metadata": {},
     "output_type": "display_data"
    },
    {
     "data": {
      "text/plain": [
       "<Figure size 576x432 with 0 Axes>"
      ]
     },
     "metadata": {},
     "output_type": "display_data"
    },
    {
     "data": {
      "text/plain": [
       "<Figure size 576x432 with 0 Axes>"
      ]
     },
     "metadata": {},
     "output_type": "display_data"
    }
   ],
   "source": [
    "for cat_one in df_display[\"Product Category\"].unique():\n",
    "    #print(cat_one)\n",
    "    dotplot_sku_function(df_display, cat_one)\n",
    "    plt.clf()"
   ]
  },
  {
   "cell_type": "markdown",
   "metadata": {},
   "source": []
  },
  {
   "cell_type": "code",
   "execution_count": null,
   "metadata": {},
   "outputs": [],
   "source": []
  }
 ],
 "metadata": {
  "kernelspec": {
   "display_name": "Python (recommendation_libraries)",
   "language": "python",
   "name": "recommendation_libraries"
  },
  "language_info": {
   "codemirror_mode": {
    "name": "ipython",
    "version": 3
   },
   "file_extension": ".py",
   "mimetype": "text/x-python",
   "name": "python",
   "nbconvert_exporter": "python",
   "pygments_lexer": "ipython3",
   "version": "3.11.11"
  }
 },
 "nbformat": 4,
 "nbformat_minor": 2
}
