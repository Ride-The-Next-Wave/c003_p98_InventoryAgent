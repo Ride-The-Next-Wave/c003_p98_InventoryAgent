{
 "cells": [
  {
   "cell_type": "markdown",
   "metadata": {},
   "source": [
    "## Quantile dot plot \n",
    "\n",
    "This notebook generates quantile dot plot "
   ]
  },
  {
   "cell_type": "code",
   "execution_count": 12,
   "metadata": {},
   "outputs": [],
   "source": [
    "import pathlib\n",
    "import matplotlib.pyplot as plt\n",
    "import numpy as np\n",
    "from quantile_dotplot import ntile_dotplot\n",
    "import matplotlib\n",
    "\n",
    "import pandas as pd\n",
    "import json"
   ]
  },
  {
   "cell_type": "markdown",
   "metadata": {},
   "source": [
    "#### Load Article Data"
   ]
  },
  {
   "cell_type": "code",
   "execution_count": 36,
   "metadata": {},
   "outputs": [
    {
     "data": {
      "text/html": [
       "<div>\n",
       "<style scoped>\n",
       "    .dataframe tbody tr th:only-of-type {\n",
       "        vertical-align: middle;\n",
       "    }\n",
       "\n",
       "    .dataframe tbody tr th {\n",
       "        vertical-align: top;\n",
       "    }\n",
       "\n",
       "    .dataframe thead th {\n",
       "        text-align: right;\n",
       "    }\n",
       "</style>\n",
       "<table border=\"1\" class=\"dataframe\">\n",
       "  <thead>\n",
       "    <tr style=\"text-align: right;\">\n",
       "      <th></th>\n",
       "      <th>id</th>\n",
       "      <th>Product Category</th>\n",
       "      <th>Product url</th>\n",
       "      <th>Article_1_Score</th>\n",
       "      <th>Article_1_Title</th>\n",
       "      <th>Article_1_Link</th>\n",
       "      <th>Article_2_Score</th>\n",
       "      <th>Article_2_Title</th>\n",
       "      <th>Article_2_Link</th>\n",
       "      <th>Article_3_Score</th>\n",
       "      <th>Article_3_Title</th>\n",
       "      <th>Article_3_Link</th>\n",
       "    </tr>\n",
       "  </thead>\n",
       "  <tbody>\n",
       "    <tr>\n",
       "      <th>0</th>\n",
       "      <td>0</td>\n",
       "      <td>Plug Housings</td>\n",
       "      <td>https://www.digikey.com/en/products/filter/mod...</td>\n",
       "      <td>2.810</td>\n",
       "      <td>A quick and practical view of USB Power Delive...</td>\n",
       "      <td>https://www.edn.com/a-quick-and-practical-view...</td>\n",
       "      <td>1.417</td>\n",
       "      <td>Seeing inside entry-level audiophile desire: M...</td>\n",
       "      <td>https://www.edn.com/seeing-inside-entry-level-...</td>\n",
       "      <td>NaN</td>\n",
       "      <td>NaN</td>\n",
       "      <td>NaN</td>\n",
       "    </tr>\n",
       "    <tr>\n",
       "      <th>1</th>\n",
       "      <td>1</td>\n",
       "      <td>Embedded</td>\n",
       "      <td>https://www.digikey.com/en/products/category/e...</td>\n",
       "      <td>2.669</td>\n",
       "      <td>DigiKey offers Zephyr RTOS workshop, video tra...</td>\n",
       "      <td>https://www.electronicsweekly.com/news/busines...</td>\n",
       "      <td>1.366</td>\n",
       "      <td>Indian Watchmaker Bets Big on Customized Manuf...</td>\n",
       "      <td>https://www.eetimes.com/indian-watchmaker-bets...</td>\n",
       "      <td>1.191</td>\n",
       "      <td>Arm Launches Zena to Accelerate AI-Defined Veh...</td>\n",
       "      <td>https://www.eetimes.com/arm-launches-zena-to-a...</td>\n",
       "    </tr>\n",
       "    <tr>\n",
       "      <th>2</th>\n",
       "      <td>2</td>\n",
       "      <td>Test Clips - Alligator, Crocodile, Heavy Duty</td>\n",
       "      <td>https://www.digikey.com/en/products/filter/tes...</td>\n",
       "      <td>1.478</td>\n",
       "      <td>China Weaponizes Rare Earths, Hitting Factories</td>\n",
       "      <td>https://www.eetimes.com/china-weaponizes-rare-...</td>\n",
       "      <td>1.279</td>\n",
       "      <td>Seeing inside entry-level audiophile desire: M...</td>\n",
       "      <td>https://www.edn.com/seeing-inside-entry-level-...</td>\n",
       "      <td>1.207</td>\n",
       "      <td>DMMs improve accuracy and usability</td>\n",
       "      <td>https://www.edn.com/dmms-improve-accuracy-and-...</td>\n",
       "    </tr>\n",
       "    <tr>\n",
       "      <th>3</th>\n",
       "      <td>3</td>\n",
       "      <td>Pressure Sensors, Transducers</td>\n",
       "      <td>https://www.digikey.com/en/products/filter/pre...</td>\n",
       "      <td>2.269</td>\n",
       "      <td>Ambature to Deliver Superconductor IP for AI’s...</td>\n",
       "      <td>https://www.eetimes.com/ambature-to-deliver-su...</td>\n",
       "      <td>2.074</td>\n",
       "      <td>Indian Watchmaker Bets Big on Customized Manuf...</td>\n",
       "      <td>https://www.eetimes.com/indian-watchmaker-bets...</td>\n",
       "      <td>1.397</td>\n",
       "      <td>China Weaponizes Rare Earths, Hitting Factories</td>\n",
       "      <td>https://www.eetimes.com/china-weaponizes-rare-...</td>\n",
       "    </tr>\n",
       "    <tr>\n",
       "      <th>4</th>\n",
       "      <td>4</td>\n",
       "      <td>Trimmers, Variable Capacitors</td>\n",
       "      <td>https://www.digikey.com/en/products/filter/tri...</td>\n",
       "      <td>0.852</td>\n",
       "      <td>Seeing inside entry-level audiophile desire: M...</td>\n",
       "      <td>https://www.edn.com/seeing-inside-entry-level-...</td>\n",
       "      <td>NaN</td>\n",
       "      <td>NaN</td>\n",
       "      <td>NaN</td>\n",
       "      <td>NaN</td>\n",
       "      <td>NaN</td>\n",
       "      <td>NaN</td>\n",
       "    </tr>\n",
       "  </tbody>\n",
       "</table>\n",
       "</div>"
      ],
      "text/plain": [
       "   id                               Product Category  \\\n",
       "0   0                                  Plug Housings   \n",
       "1   1                                       Embedded   \n",
       "2   2  Test Clips - Alligator, Crocodile, Heavy Duty   \n",
       "3   3                  Pressure Sensors, Transducers   \n",
       "4   4                  Trimmers, Variable Capacitors   \n",
       "\n",
       "                                         Product url  Article_1_Score  \\\n",
       "0  https://www.digikey.com/en/products/filter/mod...            2.810   \n",
       "1  https://www.digikey.com/en/products/category/e...            2.669   \n",
       "2  https://www.digikey.com/en/products/filter/tes...            1.478   \n",
       "3  https://www.digikey.com/en/products/filter/pre...            2.269   \n",
       "4  https://www.digikey.com/en/products/filter/tri...            0.852   \n",
       "\n",
       "                                     Article_1_Title  \\\n",
       "0  A quick and practical view of USB Power Delive...   \n",
       "1  DigiKey offers Zephyr RTOS workshop, video tra...   \n",
       "2    China Weaponizes Rare Earths, Hitting Factories   \n",
       "3  Ambature to Deliver Superconductor IP for AI’s...   \n",
       "4  Seeing inside entry-level audiophile desire: M...   \n",
       "\n",
       "                                      Article_1_Link  Article_2_Score  \\\n",
       "0  https://www.edn.com/a-quick-and-practical-view...            1.417   \n",
       "1  https://www.electronicsweekly.com/news/busines...            1.366   \n",
       "2  https://www.eetimes.com/china-weaponizes-rare-...            1.279   \n",
       "3  https://www.eetimes.com/ambature-to-deliver-su...            2.074   \n",
       "4  https://www.edn.com/seeing-inside-entry-level-...              NaN   \n",
       "\n",
       "                                     Article_2_Title  \\\n",
       "0  Seeing inside entry-level audiophile desire: M...   \n",
       "1  Indian Watchmaker Bets Big on Customized Manuf...   \n",
       "2  Seeing inside entry-level audiophile desire: M...   \n",
       "3  Indian Watchmaker Bets Big on Customized Manuf...   \n",
       "4                                                NaN   \n",
       "\n",
       "                                      Article_2_Link  Article_3_Score  \\\n",
       "0  https://www.edn.com/seeing-inside-entry-level-...              NaN   \n",
       "1  https://www.eetimes.com/indian-watchmaker-bets...            1.191   \n",
       "2  https://www.edn.com/seeing-inside-entry-level-...            1.207   \n",
       "3  https://www.eetimes.com/indian-watchmaker-bets...            1.397   \n",
       "4                                                NaN              NaN   \n",
       "\n",
       "                                     Article_3_Title  \\\n",
       "0                                                NaN   \n",
       "1  Arm Launches Zena to Accelerate AI-Defined Veh...   \n",
       "2                DMMs improve accuracy and usability   \n",
       "3    China Weaponizes Rare Earths, Hitting Factories   \n",
       "4                                                NaN   \n",
       "\n",
       "                                      Article_3_Link  \n",
       "0                                                NaN  \n",
       "1  https://www.eetimes.com/arm-launches-zena-to-a...  \n",
       "2  https://www.edn.com/dmms-improve-accuracy-and-...  \n",
       "3  https://www.eetimes.com/china-weaponizes-rare-...  \n",
       "4                                                NaN  "
      ]
     },
     "execution_count": 36,
     "metadata": {},
     "output_type": "execute_result"
    }
   ],
   "source": [
    "df_product_cat = pd.read_csv('intermediate_data/Product_Article_Matching.csv')\n",
    "df_product_cat = df_product_cat.reset_index().rename({\"index\":\"id\"}, axis=1)\n",
    "df_product_cat.head(5)"
   ]
  },
  {
   "cell_type": "markdown",
   "metadata": {},
   "source": [
    "#### Load Plot Data"
   ]
  },
  {
   "cell_type": "code",
   "execution_count": 37,
   "metadata": {},
   "outputs": [
    {
     "data": {
      "text/html": [
       "<div>\n",
       "<style scoped>\n",
       "    .dataframe tbody tr th:only-of-type {\n",
       "        vertical-align: middle;\n",
       "    }\n",
       "\n",
       "    .dataframe tbody tr th {\n",
       "        vertical-align: top;\n",
       "    }\n",
       "\n",
       "    .dataframe thead th {\n",
       "        text-align: right;\n",
       "    }\n",
       "</style>\n",
       "<table border=\"1\" class=\"dataframe\">\n",
       "  <thead>\n",
       "    <tr style=\"text-align: right;\">\n",
       "      <th></th>\n",
       "      <th>id</th>\n",
       "      <th>090_day_forecast</th>\n",
       "    </tr>\n",
       "  </thead>\n",
       "  <tbody>\n",
       "    <tr>\n",
       "      <th>0</th>\n",
       "      <td>0</td>\n",
       "      <td>39.0</td>\n",
       "    </tr>\n",
       "    <tr>\n",
       "      <th>1</th>\n",
       "      <td>1</td>\n",
       "      <td>64.0</td>\n",
       "    </tr>\n",
       "    <tr>\n",
       "      <th>2</th>\n",
       "      <td>2</td>\n",
       "      <td>31.0</td>\n",
       "    </tr>\n",
       "    <tr>\n",
       "      <th>3</th>\n",
       "      <td>3</td>\n",
       "      <td>18.0</td>\n",
       "    </tr>\n",
       "    <tr>\n",
       "      <th>4</th>\n",
       "      <td>4</td>\n",
       "      <td>24.0</td>\n",
       "    </tr>\n",
       "  </tbody>\n",
       "</table>\n",
       "</div>"
      ],
      "text/plain": [
       "   id  090_day_forecast\n",
       "0   0              39.0\n",
       "1   1              64.0\n",
       "2   2              31.0\n",
       "3   3              18.0\n",
       "4   4              24.0"
      ]
     },
     "execution_count": 37,
     "metadata": {},
     "output_type": "execute_result"
    }
   ],
   "source": [
    "df_pred = pd.read_csv(\"intermediate_data/05_present/Sales_Forcast_Dataframe.csv\", index_col=0)\n",
    "df_pred = df_pred.reset_index().rename({\"index\":\"id\"}, axis=1)\n",
    "df_pred.head(5)"
   ]
  },
  {
   "cell_type": "markdown",
   "metadata": {},
   "source": [
    "#### Merge Names"
   ]
  },
  {
   "cell_type": "code",
   "execution_count": 42,
   "metadata": {},
   "outputs": [
    {
     "data": {
      "text/html": [
       "<div>\n",
       "<style scoped>\n",
       "    .dataframe tbody tr th:only-of-type {\n",
       "        vertical-align: middle;\n",
       "    }\n",
       "\n",
       "    .dataframe tbody tr th {\n",
       "        vertical-align: top;\n",
       "    }\n",
       "\n",
       "    .dataframe thead th {\n",
       "        text-align: right;\n",
       "    }\n",
       "</style>\n",
       "<table border=\"1\" class=\"dataframe\">\n",
       "  <thead>\n",
       "    <tr style=\"text-align: right;\">\n",
       "      <th></th>\n",
       "      <th>id</th>\n",
       "      <th>090_day_forecast</th>\n",
       "      <th>Product Category</th>\n",
       "      <th>Product url</th>\n",
       "      <th>Article_1_Score</th>\n",
       "      <th>Article_1_Title</th>\n",
       "      <th>Article_1_Link</th>\n",
       "      <th>Article_2_Score</th>\n",
       "      <th>Article_2_Title</th>\n",
       "      <th>Article_2_Link</th>\n",
       "      <th>Article_3_Score</th>\n",
       "      <th>Article_3_Title</th>\n",
       "      <th>Article_3_Link</th>\n",
       "    </tr>\n",
       "  </thead>\n",
       "  <tbody>\n",
       "    <tr>\n",
       "      <th>0</th>\n",
       "      <td>0</td>\n",
       "      <td>39.0</td>\n",
       "      <td>Plug Housings</td>\n",
       "      <td>https://www.digikey.com/en/products/filter/mod...</td>\n",
       "      <td>2.810</td>\n",
       "      <td>A quick and practical view of USB Power Delive...</td>\n",
       "      <td>https://www.edn.com/a-quick-and-practical-view...</td>\n",
       "      <td>1.417</td>\n",
       "      <td>Seeing inside entry-level audiophile desire: M...</td>\n",
       "      <td>https://www.edn.com/seeing-inside-entry-level-...</td>\n",
       "      <td>NaN</td>\n",
       "      <td>NaN</td>\n",
       "      <td>NaN</td>\n",
       "    </tr>\n",
       "    <tr>\n",
       "      <th>1</th>\n",
       "      <td>1</td>\n",
       "      <td>64.0</td>\n",
       "      <td>Embedded</td>\n",
       "      <td>https://www.digikey.com/en/products/category/e...</td>\n",
       "      <td>2.669</td>\n",
       "      <td>DigiKey offers Zephyr RTOS workshop, video tra...</td>\n",
       "      <td>https://www.electronicsweekly.com/news/busines...</td>\n",
       "      <td>1.366</td>\n",
       "      <td>Indian Watchmaker Bets Big on Customized Manuf...</td>\n",
       "      <td>https://www.eetimes.com/indian-watchmaker-bets...</td>\n",
       "      <td>1.191</td>\n",
       "      <td>Arm Launches Zena to Accelerate AI-Defined Veh...</td>\n",
       "      <td>https://www.eetimes.com/arm-launches-zena-to-a...</td>\n",
       "    </tr>\n",
       "    <tr>\n",
       "      <th>2</th>\n",
       "      <td>2</td>\n",
       "      <td>31.0</td>\n",
       "      <td>Test Clips - Alligator, Crocodile, Heavy Duty</td>\n",
       "      <td>https://www.digikey.com/en/products/filter/tes...</td>\n",
       "      <td>1.478</td>\n",
       "      <td>China Weaponizes Rare Earths, Hitting Factories</td>\n",
       "      <td>https://www.eetimes.com/china-weaponizes-rare-...</td>\n",
       "      <td>1.279</td>\n",
       "      <td>Seeing inside entry-level audiophile desire: M...</td>\n",
       "      <td>https://www.edn.com/seeing-inside-entry-level-...</td>\n",
       "      <td>1.207</td>\n",
       "      <td>DMMs improve accuracy and usability</td>\n",
       "      <td>https://www.edn.com/dmms-improve-accuracy-and-...</td>\n",
       "    </tr>\n",
       "    <tr>\n",
       "      <th>3</th>\n",
       "      <td>3</td>\n",
       "      <td>18.0</td>\n",
       "      <td>Pressure Sensors, Transducers</td>\n",
       "      <td>https://www.digikey.com/en/products/filter/pre...</td>\n",
       "      <td>2.269</td>\n",
       "      <td>Ambature to Deliver Superconductor IP for AI’s...</td>\n",
       "      <td>https://www.eetimes.com/ambature-to-deliver-su...</td>\n",
       "      <td>2.074</td>\n",
       "      <td>Indian Watchmaker Bets Big on Customized Manuf...</td>\n",
       "      <td>https://www.eetimes.com/indian-watchmaker-bets...</td>\n",
       "      <td>1.397</td>\n",
       "      <td>China Weaponizes Rare Earths, Hitting Factories</td>\n",
       "      <td>https://www.eetimes.com/china-weaponizes-rare-...</td>\n",
       "    </tr>\n",
       "    <tr>\n",
       "      <th>4</th>\n",
       "      <td>4</td>\n",
       "      <td>24.0</td>\n",
       "      <td>Trimmers, Variable Capacitors</td>\n",
       "      <td>https://www.digikey.com/en/products/filter/tri...</td>\n",
       "      <td>0.852</td>\n",
       "      <td>Seeing inside entry-level audiophile desire: M...</td>\n",
       "      <td>https://www.edn.com/seeing-inside-entry-level-...</td>\n",
       "      <td>NaN</td>\n",
       "      <td>NaN</td>\n",
       "      <td>NaN</td>\n",
       "      <td>NaN</td>\n",
       "      <td>NaN</td>\n",
       "      <td>NaN</td>\n",
       "    </tr>\n",
       "  </tbody>\n",
       "</table>\n",
       "</div>"
      ],
      "text/plain": [
       "   id  090_day_forecast                               Product Category  \\\n",
       "0   0              39.0                                  Plug Housings   \n",
       "1   1              64.0                                       Embedded   \n",
       "2   2              31.0  Test Clips - Alligator, Crocodile, Heavy Duty   \n",
       "3   3              18.0                  Pressure Sensors, Transducers   \n",
       "4   4              24.0                  Trimmers, Variable Capacitors   \n",
       "\n",
       "                                         Product url  Article_1_Score  \\\n",
       "0  https://www.digikey.com/en/products/filter/mod...            2.810   \n",
       "1  https://www.digikey.com/en/products/category/e...            2.669   \n",
       "2  https://www.digikey.com/en/products/filter/tes...            1.478   \n",
       "3  https://www.digikey.com/en/products/filter/pre...            2.269   \n",
       "4  https://www.digikey.com/en/products/filter/tri...            0.852   \n",
       "\n",
       "                                     Article_1_Title  \\\n",
       "0  A quick and practical view of USB Power Delive...   \n",
       "1  DigiKey offers Zephyr RTOS workshop, video tra...   \n",
       "2    China Weaponizes Rare Earths, Hitting Factories   \n",
       "3  Ambature to Deliver Superconductor IP for AI’s...   \n",
       "4  Seeing inside entry-level audiophile desire: M...   \n",
       "\n",
       "                                      Article_1_Link  Article_2_Score  \\\n",
       "0  https://www.edn.com/a-quick-and-practical-view...            1.417   \n",
       "1  https://www.electronicsweekly.com/news/busines...            1.366   \n",
       "2  https://www.eetimes.com/china-weaponizes-rare-...            1.279   \n",
       "3  https://www.eetimes.com/ambature-to-deliver-su...            2.074   \n",
       "4  https://www.edn.com/seeing-inside-entry-level-...              NaN   \n",
       "\n",
       "                                     Article_2_Title  \\\n",
       "0  Seeing inside entry-level audiophile desire: M...   \n",
       "1  Indian Watchmaker Bets Big on Customized Manuf...   \n",
       "2  Seeing inside entry-level audiophile desire: M...   \n",
       "3  Indian Watchmaker Bets Big on Customized Manuf...   \n",
       "4                                                NaN   \n",
       "\n",
       "                                      Article_2_Link  Article_3_Score  \\\n",
       "0  https://www.edn.com/seeing-inside-entry-level-...              NaN   \n",
       "1  https://www.eetimes.com/indian-watchmaker-bets...            1.191   \n",
       "2  https://www.edn.com/seeing-inside-entry-level-...            1.207   \n",
       "3  https://www.eetimes.com/indian-watchmaker-bets...            1.397   \n",
       "4                                                NaN              NaN   \n",
       "\n",
       "                                     Article_3_Title  \\\n",
       "0                                                NaN   \n",
       "1  Arm Launches Zena to Accelerate AI-Defined Veh...   \n",
       "2                DMMs improve accuracy and usability   \n",
       "3    China Weaponizes Rare Earths, Hitting Factories   \n",
       "4                                                NaN   \n",
       "\n",
       "                                      Article_3_Link  \n",
       "0                                                NaN  \n",
       "1  https://www.eetimes.com/arm-launches-zena-to-a...  \n",
       "2  https://www.edn.com/dmms-improve-accuracy-and-...  \n",
       "3  https://www.eetimes.com/china-weaponizes-rare-...  \n",
       "4                                                NaN  "
      ]
     },
     "execution_count": 42,
     "metadata": {},
     "output_type": "execute_result"
    }
   ],
   "source": [
    "df_display = df_pred.merge(df_product_cat, on=\"id\")\n",
    "df_display.head()"
   ]
  },
  {
   "cell_type": "markdown",
   "metadata": {},
   "source": [
    "#### Load Dot Plot Ratio"
   ]
  },
  {
   "cell_type": "code",
   "execution_count": 18,
   "metadata": {},
   "outputs": [
    {
     "data": {
      "text/plain": [
       "[1.10274622811379,\n",
       " 1.075620195072732,\n",
       " 1.065405619094332,\n",
       " 1.0418655445437526,\n",
       " 1.0472306270086833,\n",
       " 1.073338505707987,\n",
       " 1.0943292592541056,\n",
       " 1.0155921947057949,\n",
       " 1.0308640289342124,\n",
       " 1.064380247570561]"
      ]
     },
     "execution_count": 18,
     "metadata": {},
     "output_type": "execute_result"
    }
   ],
   "source": [
    "with open('intermediate_data/05_present/Dot_Plot_Ratio.json', 'r') as json_file:\n",
    "    cat_dotplot_ratio_dict = json.load(json_file)\n",
    "cat_dotplot_ratio_dict[\"0\"][:10]"
   ]
  },
  {
   "cell_type": "markdown",
   "metadata": {},
   "source": [
    "#### Merge Datasets"
   ]
  },
  {
   "cell_type": "markdown",
   "metadata": {},
   "source": [
    "#### Add in Dotplot Ratio Dict"
   ]
  },
  {
   "cell_type": "code",
   "execution_count": 47,
   "metadata": {},
   "outputs": [
    {
     "data": {
      "text/html": [
       "<div>\n",
       "<style scoped>\n",
       "    .dataframe tbody tr th:only-of-type {\n",
       "        vertical-align: middle;\n",
       "    }\n",
       "\n",
       "    .dataframe tbody tr th {\n",
       "        vertical-align: top;\n",
       "    }\n",
       "\n",
       "    .dataframe thead th {\n",
       "        text-align: right;\n",
       "    }\n",
       "</style>\n",
       "<table border=\"1\" class=\"dataframe\">\n",
       "  <thead>\n",
       "    <tr style=\"text-align: right;\">\n",
       "      <th></th>\n",
       "      <th>id</th>\n",
       "      <th>090_day_forecast</th>\n",
       "      <th>Product Category</th>\n",
       "      <th>Product url</th>\n",
       "      <th>Article_1_Score</th>\n",
       "      <th>Article_1_Title</th>\n",
       "      <th>Article_1_Link</th>\n",
       "      <th>Article_2_Score</th>\n",
       "      <th>Article_2_Title</th>\n",
       "      <th>Article_2_Link</th>\n",
       "      <th>Article_3_Score</th>\n",
       "      <th>Article_3_Title</th>\n",
       "      <th>Article_3_Link</th>\n",
       "      <th>dpr_dict</th>\n",
       "    </tr>\n",
       "  </thead>\n",
       "  <tbody>\n",
       "    <tr>\n",
       "      <th>0</th>\n",
       "      <td>0</td>\n",
       "      <td>39.0</td>\n",
       "      <td>Plug Housings</td>\n",
       "      <td>https://www.digikey.com/en/products/filter/mod...</td>\n",
       "      <td>2.810</td>\n",
       "      <td>A quick and practical view of USB Power Delive...</td>\n",
       "      <td>https://www.edn.com/a-quick-and-practical-view...</td>\n",
       "      <td>1.417</td>\n",
       "      <td>Seeing inside entry-level audiophile desire: M...</td>\n",
       "      <td>https://www.edn.com/seeing-inside-entry-level-...</td>\n",
       "      <td>NaN</td>\n",
       "      <td>NaN</td>\n",
       "      <td>NaN</td>\n",
       "      <td>[1.10274622811379, 1.075620195072732, 1.065405...</td>\n",
       "    </tr>\n",
       "    <tr>\n",
       "      <th>1</th>\n",
       "      <td>1</td>\n",
       "      <td>64.0</td>\n",
       "      <td>Embedded</td>\n",
       "      <td>https://www.digikey.com/en/products/category/e...</td>\n",
       "      <td>2.669</td>\n",
       "      <td>DigiKey offers Zephyr RTOS workshop, video tra...</td>\n",
       "      <td>https://www.electronicsweekly.com/news/busines...</td>\n",
       "      <td>1.366</td>\n",
       "      <td>Indian Watchmaker Bets Big on Customized Manuf...</td>\n",
       "      <td>https://www.eetimes.com/indian-watchmaker-bets...</td>\n",
       "      <td>1.191</td>\n",
       "      <td>Arm Launches Zena to Accelerate AI-Defined Veh...</td>\n",
       "      <td>https://www.eetimes.com/arm-launches-zena-to-a...</td>\n",
       "      <td>[-0.0, -0.0, -0.0, -0.0, -0.0, -0.0, -0.0, -0....</td>\n",
       "    </tr>\n",
       "    <tr>\n",
       "      <th>2</th>\n",
       "      <td>2</td>\n",
       "      <td>31.0</td>\n",
       "      <td>Test Clips - Alligator, Crocodile, Heavy Duty</td>\n",
       "      <td>https://www.digikey.com/en/products/filter/tes...</td>\n",
       "      <td>1.478</td>\n",
       "      <td>China Weaponizes Rare Earths, Hitting Factories</td>\n",
       "      <td>https://www.eetimes.com/china-weaponizes-rare-...</td>\n",
       "      <td>1.279</td>\n",
       "      <td>Seeing inside entry-level audiophile desire: M...</td>\n",
       "      <td>https://www.edn.com/seeing-inside-entry-level-...</td>\n",
       "      <td>1.207</td>\n",
       "      <td>DMMs improve accuracy and usability</td>\n",
       "      <td>https://www.edn.com/dmms-improve-accuracy-and-...</td>\n",
       "      <td>[1.3949346170081829, 1.3972329555288896, 1.437...</td>\n",
       "    </tr>\n",
       "    <tr>\n",
       "      <th>3</th>\n",
       "      <td>3</td>\n",
       "      <td>18.0</td>\n",
       "      <td>Pressure Sensors, Transducers</td>\n",
       "      <td>https://www.digikey.com/en/products/filter/pre...</td>\n",
       "      <td>2.269</td>\n",
       "      <td>Ambature to Deliver Superconductor IP for AI’s...</td>\n",
       "      <td>https://www.eetimes.com/ambature-to-deliver-su...</td>\n",
       "      <td>2.074</td>\n",
       "      <td>Indian Watchmaker Bets Big on Customized Manuf...</td>\n",
       "      <td>https://www.eetimes.com/indian-watchmaker-bets...</td>\n",
       "      <td>1.397</td>\n",
       "      <td>China Weaponizes Rare Earths, Hitting Factories</td>\n",
       "      <td>https://www.eetimes.com/china-weaponizes-rare-...</td>\n",
       "      <td>[-43.61596367154413, -18.773336606835716, -15....</td>\n",
       "    </tr>\n",
       "    <tr>\n",
       "      <th>4</th>\n",
       "      <td>4</td>\n",
       "      <td>24.0</td>\n",
       "      <td>Trimmers, Variable Capacitors</td>\n",
       "      <td>https://www.digikey.com/en/products/filter/tri...</td>\n",
       "      <td>0.852</td>\n",
       "      <td>Seeing inside entry-level audiophile desire: M...</td>\n",
       "      <td>https://www.edn.com/seeing-inside-entry-level-...</td>\n",
       "      <td>NaN</td>\n",
       "      <td>NaN</td>\n",
       "      <td>NaN</td>\n",
       "      <td>NaN</td>\n",
       "      <td>NaN</td>\n",
       "      <td>NaN</td>\n",
       "      <td>[9587.086862762118, -49.69653554729111, -37.85...</td>\n",
       "    </tr>\n",
       "  </tbody>\n",
       "</table>\n",
       "</div>"
      ],
      "text/plain": [
       "   id  090_day_forecast                               Product Category  \\\n",
       "0   0              39.0                                  Plug Housings   \n",
       "1   1              64.0                                       Embedded   \n",
       "2   2              31.0  Test Clips - Alligator, Crocodile, Heavy Duty   \n",
       "3   3              18.0                  Pressure Sensors, Transducers   \n",
       "4   4              24.0                  Trimmers, Variable Capacitors   \n",
       "\n",
       "                                         Product url  Article_1_Score  \\\n",
       "0  https://www.digikey.com/en/products/filter/mod...            2.810   \n",
       "1  https://www.digikey.com/en/products/category/e...            2.669   \n",
       "2  https://www.digikey.com/en/products/filter/tes...            1.478   \n",
       "3  https://www.digikey.com/en/products/filter/pre...            2.269   \n",
       "4  https://www.digikey.com/en/products/filter/tri...            0.852   \n",
       "\n",
       "                                     Article_1_Title  \\\n",
       "0  A quick and practical view of USB Power Delive...   \n",
       "1  DigiKey offers Zephyr RTOS workshop, video tra...   \n",
       "2    China Weaponizes Rare Earths, Hitting Factories   \n",
       "3  Ambature to Deliver Superconductor IP for AI’s...   \n",
       "4  Seeing inside entry-level audiophile desire: M...   \n",
       "\n",
       "                                      Article_1_Link  Article_2_Score  \\\n",
       "0  https://www.edn.com/a-quick-and-practical-view...            1.417   \n",
       "1  https://www.electronicsweekly.com/news/busines...            1.366   \n",
       "2  https://www.eetimes.com/china-weaponizes-rare-...            1.279   \n",
       "3  https://www.eetimes.com/ambature-to-deliver-su...            2.074   \n",
       "4  https://www.edn.com/seeing-inside-entry-level-...              NaN   \n",
       "\n",
       "                                     Article_2_Title  \\\n",
       "0  Seeing inside entry-level audiophile desire: M...   \n",
       "1  Indian Watchmaker Bets Big on Customized Manuf...   \n",
       "2  Seeing inside entry-level audiophile desire: M...   \n",
       "3  Indian Watchmaker Bets Big on Customized Manuf...   \n",
       "4                                                NaN   \n",
       "\n",
       "                                      Article_2_Link  Article_3_Score  \\\n",
       "0  https://www.edn.com/seeing-inside-entry-level-...              NaN   \n",
       "1  https://www.eetimes.com/indian-watchmaker-bets...            1.191   \n",
       "2  https://www.edn.com/seeing-inside-entry-level-...            1.207   \n",
       "3  https://www.eetimes.com/indian-watchmaker-bets...            1.397   \n",
       "4                                                NaN              NaN   \n",
       "\n",
       "                                     Article_3_Title  \\\n",
       "0                                                NaN   \n",
       "1  Arm Launches Zena to Accelerate AI-Defined Veh...   \n",
       "2                DMMs improve accuracy and usability   \n",
       "3    China Weaponizes Rare Earths, Hitting Factories   \n",
       "4                                                NaN   \n",
       "\n",
       "                                      Article_3_Link  \\\n",
       "0                                                NaN   \n",
       "1  https://www.eetimes.com/arm-launches-zena-to-a...   \n",
       "2  https://www.edn.com/dmms-improve-accuracy-and-...   \n",
       "3  https://www.eetimes.com/china-weaponizes-rare-...   \n",
       "4                                                NaN   \n",
       "\n",
       "                                            dpr_dict  \n",
       "0  [1.10274622811379, 1.075620195072732, 1.065405...  \n",
       "1  [-0.0, -0.0, -0.0, -0.0, -0.0, -0.0, -0.0, -0....  \n",
       "2  [1.3949346170081829, 1.3972329555288896, 1.437...  \n",
       "3  [-43.61596367154413, -18.773336606835716, -15....  \n",
       "4  [9587.086862762118, -49.69653554729111, -37.85...  "
      ]
     },
     "execution_count": 47,
     "metadata": {},
     "output_type": "execute_result"
    }
   ],
   "source": [
    "df_display[\"dpr_dict\"] = df_display[\"id\"].apply(lambda x: cat_dotplot_ratio_dict[str(x)])\n",
    "df_display.head()"
   ]
  },
  {
   "cell_type": "markdown",
   "metadata": {},
   "source": []
  },
  {
   "cell_type": "code",
   "execution_count": 148,
   "metadata": {},
   "outputs": [],
   "source": [
    "cat_specific = \"Plug Housings\"\n",
    "\n",
    "def dotplot_sku_function(df , cat):\n",
    "    plt.figure(figsize=(6, 4))  #\n",
    "\n",
    "\n",
    "    data = df[df[\"Product Category\"] == cat][\"dpr_dict\"].iloc[0]\n",
    "    prediction = df[df[\"Product Category\"] == cat][\"090_day_forecast\"].iloc[0]\n",
    "    dotplotdata = np.abs(prediction * np.array(data))\n",
    "    date_latest = \"Jun/11/2025\"\n",
    "    dotplt = ntile_dotplot(dotplotdata, dots=20, hist_bins=\"auto\")\n",
    "    print(type(dotplt))\n",
    "    dotplt.axvline(x=prediction, color='r', linestyle='--', linewidth=2, label='Prediction')\n",
    "    dotplt.set_title(\"90 Day Sales Prediction for \\n {} \\n on {} \".format(cat, date_latest),\n",
    "                                                                       fontsize=20)\n",
    "    #, fontweight='bold')\n",
    "    dotplt.set_xlabel(\"\\n Forecast Unit Sales Next 90 Days\", fontsize=20)\n",
    "\n",
    "    # Remove top, right, and left spines, keep only bottom\n",
    "    dotplt.spines['top'].set_visible(False)\n",
    "    dotplt.spines['right'].set_visible(False)\n",
    "    dotplt.spines['left'].set_visible(False)\n",
    "    \n",
    "    # Remove y-axis ticks and labels\n",
    "    dotplt.set_yticks([])\n",
    "    dotplt.set_ylabel('')\n",
    "    \n",
    "    from matplotlib.ticker import FuncFormatter\n",
    "    dotplt.xaxis.set_major_formatter(FuncFormatter(lambda x, p: f'{int(round(x))}'))\n",
    "    dotplt.tick_params(axis='x', labelsize=20) \n",
    "    #plt.tight_layout()\n",
    "    dotplt.figure.savefig(\"figures/sfp_{}.png\".format(cat.translate(str.maketrans(\" /\", \"__\"))), \n",
    "                          bbox_inches='tight', dpi=300, pad_inches=0.2)"
   ]
  },
  {
   "cell_type": "code",
   "execution_count": null,
   "metadata": {},
   "outputs": [],
   "source": []
  },
  {
   "cell_type": "code",
   "execution_count": 147,
   "metadata": {},
   "outputs": [
    {
     "name": "stdout",
     "output_type": "stream",
     "text": [
      "<class 'matplotlib.axes._axes.Axes'>\n"
     ]
    },
    {
     "data": {
      "image/png": "[encoded data removed]",
      "text/plain": [
       "<Figure size 576x432 with 1 Axes>"
      ]
     },
     "metadata": {},
     "output_type": "display_data"
    }
   ],
   "source": [
    "dotplot_sku_function(df_display, cat_specific)"
   ]
  },
  {
   "cell_type": "markdown",
   "metadata": {},
   "source": [
    "#### Run for all Datasets"
   ]
  },
  {
   "cell_type": "code",
   "execution_count": 145,
   "metadata": {},
   "outputs": [
    {
     "name": "stdout",
     "output_type": "stream",
     "text": [
      "<class 'matplotlib.axes._axes.Axes'>\n",
      "<class 'matplotlib.axes._axes.Axes'>\n",
      "<class 'matplotlib.axes._axes.Axes'>\n",
      "<class 'matplotlib.axes._axes.Axes'>\n",
      "<class 'matplotlib.axes._axes.Axes'>\n",
      "<class 'matplotlib.axes._axes.Axes'>\n",
      "<class 'matplotlib.axes._axes.Axes'>\n",
      "<class 'matplotlib.axes._axes.Axes'>\n",
      "<class 'matplotlib.axes._axes.Axes'>\n",
      "<class 'matplotlib.axes._axes.Axes'>\n",
      "<class 'matplotlib.axes._axes.Axes'>\n",
      "<class 'matplotlib.axes._axes.Axes'>\n",
      "<class 'matplotlib.axes._axes.Axes'>\n",
      "<class 'matplotlib.axes._axes.Axes'>\n",
      "<class 'matplotlib.axes._axes.Axes'>\n",
      "<class 'matplotlib.axes._axes.Axes'>\n",
      "<class 'matplotlib.axes._axes.Axes'>\n",
      "<class 'matplotlib.axes._axes.Axes'>\n",
      "<class 'matplotlib.axes._axes.Axes'>\n",
      "<class 'matplotlib.axes._axes.Axes'>\n"
     ]
    },
    {
     "name": "stderr",
     "output_type": "stream",
     "text": [
      "/var/folders/0z/xsrm9ns529l62npj0_g400h80000gn/T/ipykernel_23329/3999141124.py:4: RuntimeWarning: More than 20 figures have been opened. Figures created through the pyplot interface (`matplotlib.pyplot.figure`) are retained until explicitly closed and may consume too much memory. (To control this warning, see the rcParam `figure.max_open_warning`). Consider using `matplotlib.pyplot.close()`.\n",
      "  plt.figure(figsize=(8, 6))  #\n"
     ]
    },
    {
     "name": "stdout",
     "output_type": "stream",
     "text": [
      "<class 'matplotlib.axes._axes.Axes'>\n",
      "<class 'matplotlib.axes._axes.Axes'>\n",
      "<class 'matplotlib.axes._axes.Axes'>\n",
      "<class 'matplotlib.axes._axes.Axes'>\n",
      "<class 'matplotlib.axes._axes.Axes'>\n",
      "<class 'matplotlib.axes._axes.Axes'>\n",
      "<class 'matplotlib.axes._axes.Axes'>\n",
      "<class 'matplotlib.axes._axes.Axes'>\n",
      "<class 'matplotlib.axes._axes.Axes'>\n",
      "<class 'matplotlib.axes._axes.Axes'>\n",
      "<class 'matplotlib.axes._axes.Axes'>\n",
      "<class 'matplotlib.axes._axes.Axes'>\n",
      "<class 'matplotlib.axes._axes.Axes'>\n",
      "<class 'matplotlib.axes._axes.Axes'>\n",
      "<class 'matplotlib.axes._axes.Axes'>\n",
      "<class 'matplotlib.axes._axes.Axes'>\n",
      "<class 'matplotlib.axes._axes.Axes'>\n",
      "<class 'matplotlib.axes._axes.Axes'>\n",
      "<class 'matplotlib.axes._axes.Axes'>\n",
      "<class 'matplotlib.axes._axes.Axes'>\n",
      "<class 'matplotlib.axes._axes.Axes'>\n",
      "<class 'matplotlib.axes._axes.Axes'>\n",
      "<class 'matplotlib.axes._axes.Axes'>\n",
      "<class 'matplotlib.axes._axes.Axes'>\n",
      "<class 'matplotlib.axes._axes.Axes'>\n",
      "<class 'matplotlib.axes._axes.Axes'>\n",
      "<class 'matplotlib.axes._axes.Axes'>\n",
      "<class 'matplotlib.axes._axes.Axes'>\n",
      "<class 'matplotlib.axes._axes.Axes'>\n",
      "<class 'matplotlib.axes._axes.Axes'>\n"
     ]
    },
    {
     "data": {
      "text/plain": [
       "<Figure size 576x432 with 0 Axes>"
      ]
     },
     "metadata": {},
     "output_type": "display_data"
    },
    {
     "data": {
      "text/plain": [
       "<Figure size 576x432 with 0 Axes>"
      ]
     },
     "metadata": {},
     "output_type": "display_data"
    },
    {
     "data": {
      "text/plain": [
       "<Figure size 576x432 with 0 Axes>"
      ]
     },
     "metadata": {},
     "output_type": "display_data"
    },
    {
     "data": {
      "text/plain": [
       "<Figure size 576x432 with 0 Axes>"
      ]
     },
     "metadata": {},
     "output_type": "display_data"
    },
    {
     "data": {
      "text/plain": [
       "<Figure size 576x432 with 0 Axes>"
      ]
     },
     "metadata": {},
     "output_type": "display_data"
    },
    {
     "data": {
      "text/plain": [
       "<Figure size 576x432 with 0 Axes>"
      ]
     },
     "metadata": {},
     "output_type": "display_data"
    },
    {
     "data": {
      "text/plain": [
       "<Figure size 576x432 with 0 Axes>"
      ]
     },
     "metadata": {},
     "output_type": "display_data"
    },
    {
     "data": {
      "text/plain": [
       "<Figure size 576x432 with 0 Axes>"
      ]
     },
     "metadata": {},
     "output_type": "display_data"
    },
    {
     "data": {
      "text/plain": [
       "<Figure size 576x432 with 0 Axes>"
      ]
     },
     "metadata": {},
     "output_type": "display_data"
    },
    {
     "data": {
      "text/plain": [
       "<Figure size 576x432 with 0 Axes>"
      ]
     },
     "metadata": {},
     "output_type": "display_data"
    },
    {
     "data": {
      "text/plain": [
       "<Figure size 576x432 with 0 Axes>"
      ]
     },
     "metadata": {},
     "output_type": "display_data"
    },
    {
     "data": {
      "text/plain": [
       "<Figure size 576x432 with 0 Axes>"
      ]
     },
     "metadata": {},
     "output_type": "display_data"
    },
    {
     "data": {
      "text/plain": [
       "<Figure size 576x432 with 0 Axes>"
      ]
     },
     "metadata": {},
     "output_type": "display_data"
    },
    {
     "data": {
      "text/plain": [
       "<Figure size 576x432 with 0 Axes>"
      ]
     },
     "metadata": {},
     "output_type": "display_data"
    },
    {
     "data": {
      "text/plain": [
       "<Figure size 576x432 with 0 Axes>"
      ]
     },
     "metadata": {},
     "output_type": "display_data"
    },
    {
     "data": {
      "text/plain": [
       "<Figure size 576x432 with 0 Axes>"
      ]
     },
     "metadata": {},
     "output_type": "display_data"
    },
    {
     "data": {
      "text/plain": [
       "<Figure size 576x432 with 0 Axes>"
      ]
     },
     "metadata": {},
     "output_type": "display_data"
    },
    {
     "data": {
      "text/plain": [
       "<Figure size 576x432 with 0 Axes>"
      ]
     },
     "metadata": {},
     "output_type": "display_data"
    },
    {
     "data": {
      "text/plain": [
       "<Figure size 576x432 with 0 Axes>"
      ]
     },
     "metadata": {},
     "output_type": "display_data"
    },
    {
     "data": {
      "text/plain": [
       "<Figure size 576x432 with 0 Axes>"
      ]
     },
     "metadata": {},
     "output_type": "display_data"
    },
    {
     "data": {
      "text/plain": [
       "<Figure size 576x432 with 0 Axes>"
      ]
     },
     "metadata": {},
     "output_type": "display_data"
    },
    {
     "data": {
      "text/plain": [
       "<Figure size 576x432 with 0 Axes>"
      ]
     },
     "metadata": {},
     "output_type": "display_data"
    },
    {
     "data": {
      "text/plain": [
       "<Figure size 576x432 with 0 Axes>"
      ]
     },
     "metadata": {},
     "output_type": "display_data"
    },
    {
     "data": {
      "text/plain": [
       "<Figure size 576x432 with 0 Axes>"
      ]
     },
     "metadata": {},
     "output_type": "display_data"
    },
    {
     "data": {
      "text/plain": [
       "<Figure size 576x432 with 0 Axes>"
      ]
     },
     "metadata": {},
     "output_type": "display_data"
    },
    {
     "data": {
      "text/plain": [
       "<Figure size 576x432 with 0 Axes>"
      ]
     },
     "metadata": {},
     "output_type": "display_data"
    },
    {
     "data": {
      "text/plain": [
       "<Figure size 576x432 with 0 Axes>"
      ]
     },
     "metadata": {},
     "output_type": "display_data"
    },
    {
     "data": {
      "text/plain": [
       "<Figure size 576x432 with 0 Axes>"
      ]
     },
     "metadata": {},
     "output_type": "display_data"
    },
    {
     "data": {
      "text/plain": [
       "<Figure size 576x432 with 0 Axes>"
      ]
     },
     "metadata": {},
     "output_type": "display_data"
    },
    {
     "data": {
      "text/plain": [
       "<Figure size 576x432 with 0 Axes>"
      ]
     },
     "metadata": {},
     "output_type": "display_data"
    },
    {
     "data": {
      "text/plain": [
       "<Figure size 576x432 with 0 Axes>"
      ]
     },
     "metadata": {},
     "output_type": "display_data"
    },
    {
     "data": {
      "text/plain": [
       "<Figure size 576x432 with 0 Axes>"
      ]
     },
     "metadata": {},
     "output_type": "display_data"
    },
    {
     "data": {
      "text/plain": [
       "<Figure size 576x432 with 0 Axes>"
      ]
     },
     "metadata": {},
     "output_type": "display_data"
    },
    {
     "data": {
      "text/plain": [
       "<Figure size 576x432 with 0 Axes>"
      ]
     },
     "metadata": {},
     "output_type": "display_data"
    },
    {
     "data": {
      "text/plain": [
       "<Figure size 576x432 with 0 Axes>"
      ]
     },
     "metadata": {},
     "output_type": "display_data"
    },
    {
     "data": {
      "text/plain": [
       "<Figure size 576x432 with 0 Axes>"
      ]
     },
     "metadata": {},
     "output_type": "display_data"
    },
    {
     "data": {
      "text/plain": [
       "<Figure size 576x432 with 0 Axes>"
      ]
     },
     "metadata": {},
     "output_type": "display_data"
    },
    {
     "data": {
      "text/plain": [
       "<Figure size 576x432 with 0 Axes>"
      ]
     },
     "metadata": {},
     "output_type": "display_data"
    },
    {
     "data": {
      "text/plain": [
       "<Figure size 576x432 with 0 Axes>"
      ]
     },
     "metadata": {},
     "output_type": "display_data"
    },
    {
     "data": {
      "text/plain": [
       "<Figure size 576x432 with 0 Axes>"
      ]
     },
     "metadata": {},
     "output_type": "display_data"
    },
    {
     "data": {
      "text/plain": [
       "<Figure size 576x432 with 0 Axes>"
      ]
     },
     "metadata": {},
     "output_type": "display_data"
    },
    {
     "data": {
      "text/plain": [
       "<Figure size 576x432 with 0 Axes>"
      ]
     },
     "metadata": {},
     "output_type": "display_data"
    },
    {
     "data": {
      "text/plain": [
       "<Figure size 576x432 with 0 Axes>"
      ]
     },
     "metadata": {},
     "output_type": "display_data"
    },
    {
     "data": {
      "text/plain": [
       "<Figure size 576x432 with 0 Axes>"
      ]
     },
     "metadata": {},
     "output_type": "display_data"
    },
    {
     "data": {
      "text/plain": [
       "<Figure size 576x432 with 0 Axes>"
      ]
     },
     "metadata": {},
     "output_type": "display_data"
    },
    {
     "data": {
      "text/plain": [
       "<Figure size 576x432 with 0 Axes>"
      ]
     },
     "metadata": {},
     "output_type": "display_data"
    },
    {
     "data": {
      "text/plain": [
       "<Figure size 576x432 with 0 Axes>"
      ]
     },
     "metadata": {},
     "output_type": "display_data"
    },
    {
     "data": {
      "text/plain": [
       "<Figure size 576x432 with 0 Axes>"
      ]
     },
     "metadata": {},
     "output_type": "display_data"
    },
    {
     "data": {
      "text/plain": [
       "<Figure size 576x432 with 0 Axes>"
      ]
     },
     "metadata": {},
     "output_type": "display_data"
    },
    {
     "data": {
      "text/plain": [
       "<Figure size 576x432 with 0 Axes>"
      ]
     },
     "metadata": {},
     "output_type": "display_data"
    }
   ],
   "source": [
    "for cat_one in df_display[\"Product Category\"].unique():\n",
    "    #print(cat_one)\n",
    "    dotplot_sku_function(df_display, cat_one)\n",
    "    plt.clf()"
   ]
  },
  {
   "cell_type": "markdown",
   "metadata": {},
   "source": []
  },
  {
   "cell_type": "code",
   "execution_count": null,
   "metadata": {},
   "outputs": [],
   "source": []
  }
 ],
 "metadata": {
  "kernelspec": {
   "display_name": "data-science",
   "language": "python",
   "name": "python3"
  },
  "language_info": {
   "codemirror_mode": {
    "name": "ipython",
    "version": 3
   },
   "file_extension": ".py",
   "mimetype": "text/x-python",
   "name": "python",
   "nbconvert_exporter": "python",
   "pygments_lexer": "ipython3",
   "version": "3.10.16"
  }
 },
 "nbformat": 4,
 "nbformat_minor": 2
}
