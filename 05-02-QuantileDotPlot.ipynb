{
 "cells": [
  {
   "cell_type": "markdown",
   "metadata": {},
   "source": [
    "## Quantile dot plot \n",
    "\n",
    "This notebook generates quantile dot plots and 90 days forecast of product categories using output of the model."
   ]
  },
  {
   "cell_type": "code",
   "execution_count": 66,
   "metadata": {},
   "outputs": [],
   "source": [
    "import pathlib\n",
    "import matplotlib.pyplot as plt\n",
    "import numpy as np\n",
    "from quantile_dotplot import ntile_dotplot\n",
    "import matplotlib\n",
    "import pandas as pd\n",
    "import json\n",
    "from matplotlib.ticker import MaxNLocator, FuncFormatter"
   ]
  },
  {
   "cell_type": "markdown",
   "metadata": {},
   "source": [
    "#### Load Article Data"
   ]
  },
  {
   "cell_type": "code",
   "execution_count": 67,
   "metadata": {},
   "outputs": [
    {
     "data": {
      "text/html": [
       "<div>\n",
       "<style scoped>\n",
       "    .dataframe tbody tr th:only-of-type {\n",
       "        vertical-align: middle;\n",
       "    }\n",
       "\n",
       "    .dataframe tbody tr th {\n",
       "        vertical-align: top;\n",
       "    }\n",
       "\n",
       "    .dataframe thead th {\n",
       "        text-align: right;\n",
       "    }\n",
       "</style>\n",
       "<table border=\"1\" class=\"dataframe\">\n",
       "  <thead>\n",
       "    <tr style=\"text-align: right;\">\n",
       "      <th></th>\n",
       "      <th>id</th>\n",
       "      <th>Product Category</th>\n",
       "      <th>Products</th>\n",
       "      <th>Product url</th>\n",
       "      <th>Description</th>\n",
       "      <th>Article_1_Score</th>\n",
       "      <th>Article_1_Title</th>\n",
       "      <th>Article_1_Link</th>\n",
       "      <th>Article_2_Score</th>\n",
       "      <th>Article_2_Title</th>\n",
       "      <th>Article_2_Link</th>\n",
       "      <th>Article_3_Score</th>\n",
       "      <th>Article_3_Title</th>\n",
       "    </tr>\n",
       "  </thead>\n",
       "  <tbody>\n",
       "    <tr>\n",
       "      <th>0</th>\n",
       "      <td>0</td>\n",
       "      <td>Card Guide Accessories</td>\n",
       "      <td>610</td>\n",
       "      <td>https://www.digikey.com/en/products/filter/car...</td>\n",
       "      <td>Card Guide Accessories are critical components...</td>\n",
       "      <td>5.309</td>\n",
       "      <td>Tiger Lake-H Xeon-W SOSA single-board computer</td>\n",
       "      <td>https://www.electronicsweekly.com/news/product...</td>\n",
       "      <td>2.867</td>\n",
       "      <td>EnCharge Picks The PC For Its First Analog AI ...</td>\n",
       "      <td>https://www.eetimes.com/encharge-picks-the-pc-...</td>\n",
       "      <td>2.284</td>\n",
       "      <td>A two-wire temperature transmitter using an RT...</td>\n",
       "    </tr>\n",
       "    <tr>\n",
       "      <th>1</th>\n",
       "      <td>1</td>\n",
       "      <td>Wire Wrap</td>\n",
       "      <td>107</td>\n",
       "      <td>https://www.digikey.com/en/products/filter/wir...</td>\n",
       "      <td>Wire wrap is a unique method utilized for cons...</td>\n",
       "      <td>43.664</td>\n",
       "      <td>Rugged circular connectors are latching, threa...</td>\n",
       "      <td>https://www.electronicsweekly.com/news/product...</td>\n",
       "      <td>8.389</td>\n",
       "      <td>A two-wire temperature transmitter using an RT...</td>\n",
       "      <td>https://www.edn.com/a-two-wire-temperature-tra...</td>\n",
       "      <td>0.726</td>\n",
       "      <td>MCUs enable USB-C Rev 2.4 designs</td>\n",
       "    </tr>\n",
       "    <tr>\n",
       "      <th>2</th>\n",
       "      <td>2</td>\n",
       "      <td>Electrical, Specialty Fuses</td>\n",
       "      <td>27105</td>\n",
       "      <td>https://www.digikey.com/en/products/filter/ele...</td>\n",
       "      <td>Specialty Fuses are a category of essential el...</td>\n",
       "      <td>1.695</td>\n",
       "      <td>China Sharpens Strategy in the Global 6G Race</td>\n",
       "      <td>https://www.eetimes.com/china-sharpens-strateg...</td>\n",
       "      <td>1.520</td>\n",
       "      <td>The FCC Builds a Firewall Around US-Bound Elec...</td>\n",
       "      <td>https://www.eetimes.com/the-fcc-builds-a-firew...</td>\n",
       "      <td>0.851</td>\n",
       "      <td>EnCharge Picks The PC For Its First Analog AI ...</td>\n",
       "    </tr>\n",
       "    <tr>\n",
       "      <th>3</th>\n",
       "      <td>3</td>\n",
       "      <td>Circuit Breakers</td>\n",
       "      <td>73747</td>\n",
       "      <td>https://www.digikey.com/en/products/filter/cir...</td>\n",
       "      <td>Circuit breakers are electrical devices used i...</td>\n",
       "      <td>9.658</td>\n",
       "      <td>A two-wire temperature transmitter using an RT...</td>\n",
       "      <td>https://www.edn.com/a-two-wire-temperature-tra...</td>\n",
       "      <td>1.218</td>\n",
       "      <td>A two-way Wilson current mirror</td>\n",
       "      <td>https://www.edn.com/a-two-way-wilson-current-m...</td>\n",
       "      <td>0.986</td>\n",
       "      <td>Indian Automotive OEMs Stand to Benefit from a...</td>\n",
       "    </tr>\n",
       "    <tr>\n",
       "      <th>4</th>\n",
       "      <td>4</td>\n",
       "      <td>Evaluation, Development Board Enclosures</td>\n",
       "      <td>783</td>\n",
       "      <td>https://www.digikey.com/en/products/filter/eva...</td>\n",
       "      <td>Evaluation and Development Board Enclosures ar...</td>\n",
       "      <td>10.439</td>\n",
       "      <td>Tiger Lake-H Xeon-W SOSA single-board computer</td>\n",
       "      <td>https://www.electronicsweekly.com/news/product...</td>\n",
       "      <td>7.597</td>\n",
       "      <td>GD32C231 Series MCU — Redefining Cost-Performa...</td>\n",
       "      <td>https://www.eetimes.com/gd32c231-series-mcu-re...</td>\n",
       "      <td>4.622</td>\n",
       "      <td>Time-to-digital conversion for space applications</td>\n",
       "    </tr>\n",
       "  </tbody>\n",
       "</table>\n",
       "</div>"
      ],
      "text/plain": [
       "   id                          Product Category  Products  \\\n",
       "0   0                    Card Guide Accessories       610   \n",
       "1   1                                 Wire Wrap       107   \n",
       "2   2               Electrical, Specialty Fuses     27105   \n",
       "3   3                          Circuit Breakers     73747   \n",
       "4   4  Evaluation, Development Board Enclosures       783   \n",
       "\n",
       "                                         Product url  \\\n",
       "0  https://www.digikey.com/en/products/filter/car...   \n",
       "1  https://www.digikey.com/en/products/filter/wir...   \n",
       "2  https://www.digikey.com/en/products/filter/ele...   \n",
       "3  https://www.digikey.com/en/products/filter/cir...   \n",
       "4  https://www.digikey.com/en/products/filter/eva...   \n",
       "\n",
       "                                         Description  Article_1_Score  \\\n",
       "0  Card Guide Accessories are critical components...            5.309   \n",
       "1  Wire wrap is a unique method utilized for cons...           43.664   \n",
       "2  Specialty Fuses are a category of essential el...            1.695   \n",
       "3  Circuit breakers are electrical devices used i...            9.658   \n",
       "4  Evaluation and Development Board Enclosures ar...           10.439   \n",
       "\n",
       "                                     Article_1_Title  \\\n",
       "0     Tiger Lake-H Xeon-W SOSA single-board computer   \n",
       "1  Rugged circular connectors are latching, threa...   \n",
       "2      China Sharpens Strategy in the Global 6G Race   \n",
       "3  A two-wire temperature transmitter using an RT...   \n",
       "4     Tiger Lake-H Xeon-W SOSA single-board computer   \n",
       "\n",
       "                                      Article_1_Link  Article_2_Score  \\\n",
       "0  https://www.electronicsweekly.com/news/product...            2.867   \n",
       "1  https://www.electronicsweekly.com/news/product...            8.389   \n",
       "2  https://www.eetimes.com/china-sharpens-strateg...            1.520   \n",
       "3  https://www.edn.com/a-two-wire-temperature-tra...            1.218   \n",
       "4  https://www.electronicsweekly.com/news/product...            7.597   \n",
       "\n",
       "                                     Article_2_Title  \\\n",
       "0  EnCharge Picks The PC For Its First Analog AI ...   \n",
       "1  A two-wire temperature transmitter using an RT...   \n",
       "2  The FCC Builds a Firewall Around US-Bound Elec...   \n",
       "3                    A two-way Wilson current mirror   \n",
       "4  GD32C231 Series MCU — Redefining Cost-Performa...   \n",
       "\n",
       "                                      Article_2_Link  Article_3_Score  \\\n",
       "0  https://www.eetimes.com/encharge-picks-the-pc-...            2.284   \n",
       "1  https://www.edn.com/a-two-wire-temperature-tra...            0.726   \n",
       "2  https://www.eetimes.com/the-fcc-builds-a-firew...            0.851   \n",
       "3  https://www.edn.com/a-two-way-wilson-current-m...            0.986   \n",
       "4  https://www.eetimes.com/gd32c231-series-mcu-re...            4.622   \n",
       "\n",
       "                                     Article_3_Title  \n",
       "0  A two-wire temperature transmitter using an RT...  \n",
       "1                  MCUs enable USB-C Rev 2.4 designs  \n",
       "2  EnCharge Picks The PC For Its First Analog AI ...  \n",
       "3  Indian Automotive OEMs Stand to Benefit from a...  \n",
       "4  Time-to-digital conversion for space applications  "
      ]
     },
     "execution_count": 67,
     "metadata": {},
     "output_type": "execute_result"
    }
   ],
   "source": [
    "df_product_cat = pd.read_csv('intermediate_data/04-Model/Products_Article_Matching.csv')\n",
    "#df_product_cat = df_product_cat.drop(df_product_cat.columns[0], axis=1)\n",
    "df_product_cat = df_product_cat.reset_index().rename({\"index\":\"id\"}, axis=1)\n",
    "df_product_cat.head(5)"
   ]
  },
  {
   "cell_type": "markdown",
   "metadata": {},
   "source": [
    "#### Load Plot Data"
   ]
  },
  {
   "cell_type": "code",
   "execution_count": 68,
   "metadata": {},
   "outputs": [
    {
     "data": {
      "text/html": [
       "<div>\n",
       "<style scoped>\n",
       "    .dataframe tbody tr th:only-of-type {\n",
       "        vertical-align: middle;\n",
       "    }\n",
       "\n",
       "    .dataframe tbody tr th {\n",
       "        vertical-align: top;\n",
       "    }\n",
       "\n",
       "    .dataframe thead th {\n",
       "        text-align: right;\n",
       "    }\n",
       "</style>\n",
       "<table border=\"1\" class=\"dataframe\">\n",
       "  <thead>\n",
       "    <tr style=\"text-align: right;\">\n",
       "      <th></th>\n",
       "      <th>id</th>\n",
       "      <th>090_day_forecast</th>\n",
       "    </tr>\n",
       "  </thead>\n",
       "  <tbody>\n",
       "    <tr>\n",
       "      <th>0</th>\n",
       "      <td>0</td>\n",
       "      <td>39.0</td>\n",
       "    </tr>\n",
       "    <tr>\n",
       "      <th>1</th>\n",
       "      <td>1</td>\n",
       "      <td>64.0</td>\n",
       "    </tr>\n",
       "    <tr>\n",
       "      <th>2</th>\n",
       "      <td>2</td>\n",
       "      <td>31.0</td>\n",
       "    </tr>\n",
       "    <tr>\n",
       "      <th>3</th>\n",
       "      <td>3</td>\n",
       "      <td>18.0</td>\n",
       "    </tr>\n",
       "    <tr>\n",
       "      <th>4</th>\n",
       "      <td>4</td>\n",
       "      <td>24.0</td>\n",
       "    </tr>\n",
       "  </tbody>\n",
       "</table>\n",
       "</div>"
      ],
      "text/plain": [
       "   id  090_day_forecast\n",
       "0   0              39.0\n",
       "1   1              64.0\n",
       "2   2              31.0\n",
       "3   3              18.0\n",
       "4   4              24.0"
      ]
     },
     "execution_count": 68,
     "metadata": {},
     "output_type": "execute_result"
    }
   ],
   "source": [
    "df_pred = pd.read_csv(\"intermediate_data/05-Present/Sales_Forcast_Dataframe.csv\", index_col=0)\n",
    "df_pred = df_pred.reset_index().rename({\"index\":\"id\"}, axis=1)\n",
    "df_pred.head(5)"
   ]
  },
  {
   "cell_type": "markdown",
   "metadata": {},
   "source": [
    "#### Merge Names"
   ]
  },
  {
   "cell_type": "code",
   "execution_count": 69,
   "metadata": {},
   "outputs": [
    {
     "data": {
      "text/html": [
       "<div>\n",
       "<style scoped>\n",
       "    .dataframe tbody tr th:only-of-type {\n",
       "        vertical-align: middle;\n",
       "    }\n",
       "\n",
       "    .dataframe tbody tr th {\n",
       "        vertical-align: top;\n",
       "    }\n",
       "\n",
       "    .dataframe thead th {\n",
       "        text-align: right;\n",
       "    }\n",
       "</style>\n",
       "<table border=\"1\" class=\"dataframe\">\n",
       "  <thead>\n",
       "    <tr style=\"text-align: right;\">\n",
       "      <th></th>\n",
       "      <th>id</th>\n",
       "      <th>090_day_forecast</th>\n",
       "      <th>Product Category</th>\n",
       "      <th>Products</th>\n",
       "      <th>Product url</th>\n",
       "      <th>Description</th>\n",
       "      <th>Article_1_Score</th>\n",
       "      <th>Article_1_Title</th>\n",
       "      <th>Article_1_Link</th>\n",
       "      <th>Article_2_Score</th>\n",
       "      <th>Article_2_Title</th>\n",
       "      <th>Article_2_Link</th>\n",
       "      <th>Article_3_Score</th>\n",
       "      <th>Article_3_Title</th>\n",
       "    </tr>\n",
       "  </thead>\n",
       "  <tbody>\n",
       "    <tr>\n",
       "      <th>0</th>\n",
       "      <td>0</td>\n",
       "      <td>39.0</td>\n",
       "      <td>Card Guide Accessories</td>\n",
       "      <td>610</td>\n",
       "      <td>https://www.digikey.com/en/products/filter/car...</td>\n",
       "      <td>Card Guide Accessories are critical components...</td>\n",
       "      <td>5.309</td>\n",
       "      <td>Tiger Lake-H Xeon-W SOSA single-board computer</td>\n",
       "      <td>https://www.electronicsweekly.com/news/product...</td>\n",
       "      <td>2.867</td>\n",
       "      <td>EnCharge Picks The PC For Its First Analog AI ...</td>\n",
       "      <td>https://www.eetimes.com/encharge-picks-the-pc-...</td>\n",
       "      <td>2.284</td>\n",
       "      <td>A two-wire temperature transmitter using an RT...</td>\n",
       "    </tr>\n",
       "    <tr>\n",
       "      <th>1</th>\n",
       "      <td>1</td>\n",
       "      <td>64.0</td>\n",
       "      <td>Wire Wrap</td>\n",
       "      <td>107</td>\n",
       "      <td>https://www.digikey.com/en/products/filter/wir...</td>\n",
       "      <td>Wire wrap is a unique method utilized for cons...</td>\n",
       "      <td>43.664</td>\n",
       "      <td>Rugged circular connectors are latching, threa...</td>\n",
       "      <td>https://www.electronicsweekly.com/news/product...</td>\n",
       "      <td>8.389</td>\n",
       "      <td>A two-wire temperature transmitter using an RT...</td>\n",
       "      <td>https://www.edn.com/a-two-wire-temperature-tra...</td>\n",
       "      <td>0.726</td>\n",
       "      <td>MCUs enable USB-C Rev 2.4 designs</td>\n",
       "    </tr>\n",
       "    <tr>\n",
       "      <th>2</th>\n",
       "      <td>2</td>\n",
       "      <td>31.0</td>\n",
       "      <td>Electrical, Specialty Fuses</td>\n",
       "      <td>27105</td>\n",
       "      <td>https://www.digikey.com/en/products/filter/ele...</td>\n",
       "      <td>Specialty Fuses are a category of essential el...</td>\n",
       "      <td>1.695</td>\n",
       "      <td>China Sharpens Strategy in the Global 6G Race</td>\n",
       "      <td>https://www.eetimes.com/china-sharpens-strateg...</td>\n",
       "      <td>1.520</td>\n",
       "      <td>The FCC Builds a Firewall Around US-Bound Elec...</td>\n",
       "      <td>https://www.eetimes.com/the-fcc-builds-a-firew...</td>\n",
       "      <td>0.851</td>\n",
       "      <td>EnCharge Picks The PC For Its First Analog AI ...</td>\n",
       "    </tr>\n",
       "    <tr>\n",
       "      <th>3</th>\n",
       "      <td>3</td>\n",
       "      <td>18.0</td>\n",
       "      <td>Circuit Breakers</td>\n",
       "      <td>73747</td>\n",
       "      <td>https://www.digikey.com/en/products/filter/cir...</td>\n",
       "      <td>Circuit breakers are electrical devices used i...</td>\n",
       "      <td>9.658</td>\n",
       "      <td>A two-wire temperature transmitter using an RT...</td>\n",
       "      <td>https://www.edn.com/a-two-wire-temperature-tra...</td>\n",
       "      <td>1.218</td>\n",
       "      <td>A two-way Wilson current mirror</td>\n",
       "      <td>https://www.edn.com/a-two-way-wilson-current-m...</td>\n",
       "      <td>0.986</td>\n",
       "      <td>Indian Automotive OEMs Stand to Benefit from a...</td>\n",
       "    </tr>\n",
       "    <tr>\n",
       "      <th>4</th>\n",
       "      <td>4</td>\n",
       "      <td>24.0</td>\n",
       "      <td>Evaluation, Development Board Enclosures</td>\n",
       "      <td>783</td>\n",
       "      <td>https://www.digikey.com/en/products/filter/eva...</td>\n",
       "      <td>Evaluation and Development Board Enclosures ar...</td>\n",
       "      <td>10.439</td>\n",
       "      <td>Tiger Lake-H Xeon-W SOSA single-board computer</td>\n",
       "      <td>https://www.electronicsweekly.com/news/product...</td>\n",
       "      <td>7.597</td>\n",
       "      <td>GD32C231 Series MCU — Redefining Cost-Performa...</td>\n",
       "      <td>https://www.eetimes.com/gd32c231-series-mcu-re...</td>\n",
       "      <td>4.622</td>\n",
       "      <td>Time-to-digital conversion for space applications</td>\n",
       "    </tr>\n",
       "  </tbody>\n",
       "</table>\n",
       "</div>"
      ],
      "text/plain": [
       "   id  090_day_forecast                          Product Category  Products  \\\n",
       "0   0              39.0                    Card Guide Accessories       610   \n",
       "1   1              64.0                                 Wire Wrap       107   \n",
       "2   2              31.0               Electrical, Specialty Fuses     27105   \n",
       "3   3              18.0                          Circuit Breakers     73747   \n",
       "4   4              24.0  Evaluation, Development Board Enclosures       783   \n",
       "\n",
       "                                         Product url  \\\n",
       "0  https://www.digikey.com/en/products/filter/car...   \n",
       "1  https://www.digikey.com/en/products/filter/wir...   \n",
       "2  https://www.digikey.com/en/products/filter/ele...   \n",
       "3  https://www.digikey.com/en/products/filter/cir...   \n",
       "4  https://www.digikey.com/en/products/filter/eva...   \n",
       "\n",
       "                                         Description  Article_1_Score  \\\n",
       "0  Card Guide Accessories are critical components...            5.309   \n",
       "1  Wire wrap is a unique method utilized for cons...           43.664   \n",
       "2  Specialty Fuses are a category of essential el...            1.695   \n",
       "3  Circuit breakers are electrical devices used i...            9.658   \n",
       "4  Evaluation and Development Board Enclosures ar...           10.439   \n",
       "\n",
       "                                     Article_1_Title  \\\n",
       "0     Tiger Lake-H Xeon-W SOSA single-board computer   \n",
       "1  Rugged circular connectors are latching, threa...   \n",
       "2      China Sharpens Strategy in the Global 6G Race   \n",
       "3  A two-wire temperature transmitter using an RT...   \n",
       "4     Tiger Lake-H Xeon-W SOSA single-board computer   \n",
       "\n",
       "                                      Article_1_Link  Article_2_Score  \\\n",
       "0  https://www.electronicsweekly.com/news/product...            2.867   \n",
       "1  https://www.electronicsweekly.com/news/product...            8.389   \n",
       "2  https://www.eetimes.com/china-sharpens-strateg...            1.520   \n",
       "3  https://www.edn.com/a-two-wire-temperature-tra...            1.218   \n",
       "4  https://www.electronicsweekly.com/news/product...            7.597   \n",
       "\n",
       "                                     Article_2_Title  \\\n",
       "0  EnCharge Picks The PC For Its First Analog AI ...   \n",
       "1  A two-wire temperature transmitter using an RT...   \n",
       "2  The FCC Builds a Firewall Around US-Bound Elec...   \n",
       "3                    A two-way Wilson current mirror   \n",
       "4  GD32C231 Series MCU — Redefining Cost-Performa...   \n",
       "\n",
       "                                      Article_2_Link  Article_3_Score  \\\n",
       "0  https://www.eetimes.com/encharge-picks-the-pc-...            2.284   \n",
       "1  https://www.edn.com/a-two-wire-temperature-tra...            0.726   \n",
       "2  https://www.eetimes.com/the-fcc-builds-a-firew...            0.851   \n",
       "3  https://www.edn.com/a-two-way-wilson-current-m...            0.986   \n",
       "4  https://www.eetimes.com/gd32c231-series-mcu-re...            4.622   \n",
       "\n",
       "                                     Article_3_Title  \n",
       "0  A two-wire temperature transmitter using an RT...  \n",
       "1                  MCUs enable USB-C Rev 2.4 designs  \n",
       "2  EnCharge Picks The PC For Its First Analog AI ...  \n",
       "3  Indian Automotive OEMs Stand to Benefit from a...  \n",
       "4  Time-to-digital conversion for space applications  "
      ]
     },
     "execution_count": 69,
     "metadata": {},
     "output_type": "execute_result"
    }
   ],
   "source": [
    "df_product_cat = df_product_cat.loc[:, ~df_product_cat.columns.duplicated()]\n",
    "df_display = df_pred.merge(df_product_cat, on=\"id\", suffixes=('', '_drop')) # Drop duplicate columns\n",
    "df_display.head()"
   ]
  },
  {
   "cell_type": "markdown",
   "metadata": {},
   "source": [
    "#### Load Dot Plot Ratio"
   ]
  },
  {
   "cell_type": "code",
   "execution_count": 70,
   "metadata": {},
   "outputs": [
    {
     "data": {
      "text/plain": [
       "[1.10274622811379,\n",
       " 1.075620195072732,\n",
       " 1.065405619094332,\n",
       " 1.0418655445437526,\n",
       " 1.0472306270086833,\n",
       " 1.073338505707987,\n",
       " 1.0943292592541056,\n",
       " 1.0155921947057949,\n",
       " 1.0308640289342124,\n",
       " 1.064380247570561]"
      ]
     },
     "execution_count": 70,
     "metadata": {},
     "output_type": "execute_result"
    }
   ],
   "source": [
    "with open('intermediate_data/05-Present/Dot_Plot_Ratio.json', 'r') as json_file:\n",
    "    cat_dotplot_ratio_dict = json.load(json_file)\n",
    "cat_dotplot_ratio_dict[\"0\"][:10]"
   ]
  },
  {
   "cell_type": "markdown",
   "metadata": {},
   "source": [
    "#### Merge Datasets\n",
    "Add in Dotplot Ratio Dict"
   ]
  },
  {
   "cell_type": "code",
   "execution_count": 71,
   "metadata": {},
   "outputs": [
    {
     "data": {
      "text/html": [
       "<div>\n",
       "<style scoped>\n",
       "    .dataframe tbody tr th:only-of-type {\n",
       "        vertical-align: middle;\n",
       "    }\n",
       "\n",
       "    .dataframe tbody tr th {\n",
       "        vertical-align: top;\n",
       "    }\n",
       "\n",
       "    .dataframe thead th {\n",
       "        text-align: right;\n",
       "    }\n",
       "</style>\n",
       "<table border=\"1\" class=\"dataframe\">\n",
       "  <thead>\n",
       "    <tr style=\"text-align: right;\">\n",
       "      <th></th>\n",
       "      <th>id</th>\n",
       "      <th>090_day_forecast</th>\n",
       "      <th>Product Category</th>\n",
       "      <th>Products</th>\n",
       "      <th>Product url</th>\n",
       "      <th>Description</th>\n",
       "      <th>Article_1_Score</th>\n",
       "      <th>Article_1_Title</th>\n",
       "      <th>Article_1_Link</th>\n",
       "      <th>Article_2_Score</th>\n",
       "      <th>Article_2_Title</th>\n",
       "      <th>Article_2_Link</th>\n",
       "      <th>Article_3_Score</th>\n",
       "      <th>Article_3_Title</th>\n",
       "      <th>dpr_dict</th>\n",
       "    </tr>\n",
       "  </thead>\n",
       "  <tbody>\n",
       "    <tr>\n",
       "      <th>0</th>\n",
       "      <td>0</td>\n",
       "      <td>39.0</td>\n",
       "      <td>Card Guide Accessories</td>\n",
       "      <td>610</td>\n",
       "      <td>https://www.digikey.com/en/products/filter/car...</td>\n",
       "      <td>Card Guide Accessories are critical components...</td>\n",
       "      <td>5.309</td>\n",
       "      <td>Tiger Lake-H Xeon-W SOSA single-board computer</td>\n",
       "      <td>https://www.electronicsweekly.com/news/product...</td>\n",
       "      <td>2.867</td>\n",
       "      <td>EnCharge Picks The PC For Its First Analog AI ...</td>\n",
       "      <td>https://www.eetimes.com/encharge-picks-the-pc-...</td>\n",
       "      <td>2.284</td>\n",
       "      <td>A two-wire temperature transmitter using an RT...</td>\n",
       "      <td>[1.10274622811379, 1.075620195072732, 1.065405...</td>\n",
       "    </tr>\n",
       "    <tr>\n",
       "      <th>1</th>\n",
       "      <td>1</td>\n",
       "      <td>64.0</td>\n",
       "      <td>Wire Wrap</td>\n",
       "      <td>107</td>\n",
       "      <td>https://www.digikey.com/en/products/filter/wir...</td>\n",
       "      <td>Wire wrap is a unique method utilized for cons...</td>\n",
       "      <td>43.664</td>\n",
       "      <td>Rugged circular connectors are latching, threa...</td>\n",
       "      <td>https://www.electronicsweekly.com/news/product...</td>\n",
       "      <td>8.389</td>\n",
       "      <td>A two-wire temperature transmitter using an RT...</td>\n",
       "      <td>https://www.edn.com/a-two-wire-temperature-tra...</td>\n",
       "      <td>0.726</td>\n",
       "      <td>MCUs enable USB-C Rev 2.4 designs</td>\n",
       "      <td>[-0.0, -0.0, -0.0, -0.0, -0.0, -0.0, -0.0, -0....</td>\n",
       "    </tr>\n",
       "    <tr>\n",
       "      <th>2</th>\n",
       "      <td>2</td>\n",
       "      <td>31.0</td>\n",
       "      <td>Electrical, Specialty Fuses</td>\n",
       "      <td>27105</td>\n",
       "      <td>https://www.digikey.com/en/products/filter/ele...</td>\n",
       "      <td>Specialty Fuses are a category of essential el...</td>\n",
       "      <td>1.695</td>\n",
       "      <td>China Sharpens Strategy in the Global 6G Race</td>\n",
       "      <td>https://www.eetimes.com/china-sharpens-strateg...</td>\n",
       "      <td>1.520</td>\n",
       "      <td>The FCC Builds a Firewall Around US-Bound Elec...</td>\n",
       "      <td>https://www.eetimes.com/the-fcc-builds-a-firew...</td>\n",
       "      <td>0.851</td>\n",
       "      <td>EnCharge Picks The PC For Its First Analog AI ...</td>\n",
       "      <td>[1.3949346170081829, 1.3972329555288896, 1.437...</td>\n",
       "    </tr>\n",
       "    <tr>\n",
       "      <th>3</th>\n",
       "      <td>3</td>\n",
       "      <td>18.0</td>\n",
       "      <td>Circuit Breakers</td>\n",
       "      <td>73747</td>\n",
       "      <td>https://www.digikey.com/en/products/filter/cir...</td>\n",
       "      <td>Circuit breakers are electrical devices used i...</td>\n",
       "      <td>9.658</td>\n",
       "      <td>A two-wire temperature transmitter using an RT...</td>\n",
       "      <td>https://www.edn.com/a-two-wire-temperature-tra...</td>\n",
       "      <td>1.218</td>\n",
       "      <td>A two-way Wilson current mirror</td>\n",
       "      <td>https://www.edn.com/a-two-way-wilson-current-m...</td>\n",
       "      <td>0.986</td>\n",
       "      <td>Indian Automotive OEMs Stand to Benefit from a...</td>\n",
       "      <td>[-43.61596367154413, -18.773336606835716, -15....</td>\n",
       "    </tr>\n",
       "    <tr>\n",
       "      <th>4</th>\n",
       "      <td>4</td>\n",
       "      <td>24.0</td>\n",
       "      <td>Evaluation, Development Board Enclosures</td>\n",
       "      <td>783</td>\n",
       "      <td>https://www.digikey.com/en/products/filter/eva...</td>\n",
       "      <td>Evaluation and Development Board Enclosures ar...</td>\n",
       "      <td>10.439</td>\n",
       "      <td>Tiger Lake-H Xeon-W SOSA single-board computer</td>\n",
       "      <td>https://www.electronicsweekly.com/news/product...</td>\n",
       "      <td>7.597</td>\n",
       "      <td>GD32C231 Series MCU — Redefining Cost-Performa...</td>\n",
       "      <td>https://www.eetimes.com/gd32c231-series-mcu-re...</td>\n",
       "      <td>4.622</td>\n",
       "      <td>Time-to-digital conversion for space applications</td>\n",
       "      <td>[9587.086862762118, -49.69653554729111, -37.85...</td>\n",
       "    </tr>\n",
       "  </tbody>\n",
       "</table>\n",
       "</div>"
      ],
      "text/plain": [
       "   id  090_day_forecast                          Product Category  Products  \\\n",
       "0   0              39.0                    Card Guide Accessories       610   \n",
       "1   1              64.0                                 Wire Wrap       107   \n",
       "2   2              31.0               Electrical, Specialty Fuses     27105   \n",
       "3   3              18.0                          Circuit Breakers     73747   \n",
       "4   4              24.0  Evaluation, Development Board Enclosures       783   \n",
       "\n",
       "                                         Product url  \\\n",
       "0  https://www.digikey.com/en/products/filter/car...   \n",
       "1  https://www.digikey.com/en/products/filter/wir...   \n",
       "2  https://www.digikey.com/en/products/filter/ele...   \n",
       "3  https://www.digikey.com/en/products/filter/cir...   \n",
       "4  https://www.digikey.com/en/products/filter/eva...   \n",
       "\n",
       "                                         Description  Article_1_Score  \\\n",
       "0  Card Guide Accessories are critical components...            5.309   \n",
       "1  Wire wrap is a unique method utilized for cons...           43.664   \n",
       "2  Specialty Fuses are a category of essential el...            1.695   \n",
       "3  Circuit breakers are electrical devices used i...            9.658   \n",
       "4  Evaluation and Development Board Enclosures ar...           10.439   \n",
       "\n",
       "                                     Article_1_Title  \\\n",
       "0     Tiger Lake-H Xeon-W SOSA single-board computer   \n",
       "1  Rugged circular connectors are latching, threa...   \n",
       "2      China Sharpens Strategy in the Global 6G Race   \n",
       "3  A two-wire temperature transmitter using an RT...   \n",
       "4     Tiger Lake-H Xeon-W SOSA single-board computer   \n",
       "\n",
       "                                      Article_1_Link  Article_2_Score  \\\n",
       "0  https://www.electronicsweekly.com/news/product...            2.867   \n",
       "1  https://www.electronicsweekly.com/news/product...            8.389   \n",
       "2  https://www.eetimes.com/china-sharpens-strateg...            1.520   \n",
       "3  https://www.edn.com/a-two-wire-temperature-tra...            1.218   \n",
       "4  https://www.electronicsweekly.com/news/product...            7.597   \n",
       "\n",
       "                                     Article_2_Title  \\\n",
       "0  EnCharge Picks The PC For Its First Analog AI ...   \n",
       "1  A two-wire temperature transmitter using an RT...   \n",
       "2  The FCC Builds a Firewall Around US-Bound Elec...   \n",
       "3                    A two-way Wilson current mirror   \n",
       "4  GD32C231 Series MCU — Redefining Cost-Performa...   \n",
       "\n",
       "                                      Article_2_Link  Article_3_Score  \\\n",
       "0  https://www.eetimes.com/encharge-picks-the-pc-...            2.284   \n",
       "1  https://www.edn.com/a-two-wire-temperature-tra...            0.726   \n",
       "2  https://www.eetimes.com/the-fcc-builds-a-firew...            0.851   \n",
       "3  https://www.edn.com/a-two-way-wilson-current-m...            0.986   \n",
       "4  https://www.eetimes.com/gd32c231-series-mcu-re...            4.622   \n",
       "\n",
       "                                     Article_3_Title  \\\n",
       "0  A two-wire temperature transmitter using an RT...   \n",
       "1                  MCUs enable USB-C Rev 2.4 designs   \n",
       "2  EnCharge Picks The PC For Its First Analog AI ...   \n",
       "3  Indian Automotive OEMs Stand to Benefit from a...   \n",
       "4  Time-to-digital conversion for space applications   \n",
       "\n",
       "                                            dpr_dict  \n",
       "0  [1.10274622811379, 1.075620195072732, 1.065405...  \n",
       "1  [-0.0, -0.0, -0.0, -0.0, -0.0, -0.0, -0.0, -0....  \n",
       "2  [1.3949346170081829, 1.3972329555288896, 1.437...  \n",
       "3  [-43.61596367154413, -18.773336606835716, -15....  \n",
       "4  [9587.086862762118, -49.69653554729111, -37.85...  "
      ]
     },
     "execution_count": 71,
     "metadata": {},
     "output_type": "execute_result"
    }
   ],
   "source": [
    "df_display[\"dpr_dict\"] = df_display[\"id\"].apply(lambda x: cat_dotplot_ratio_dict[str(x)])\n",
    "df_display.head()"
   ]
  },
  {
   "cell_type": "markdown",
   "metadata": {},
   "source": [
    "#### Predicts 90 days forecast"
   ]
  },
  {
   "cell_type": "code",
   "execution_count": 72,
   "metadata": {},
   "outputs": [],
   "source": [
    "# Calculate adjusted prediction for each product\n",
    "def calculate_adjusted_prediction(row):\n",
    "    prediction = row[\"090_day_forecast\"]\n",
    "    products_count = row[\"Products\"] \n",
    "    return prediction * products_count\n",
    "\n",
    "# Modify output\n",
    "df_display[\"90 Days Forecast\"] = df_display.apply(calculate_adjusted_prediction, axis=1)  # Add adjusted_prediction as the 4th column\n",
    "\n",
    "\n",
    "# Save the updated dataframe back to CSV\n",
    "df_display.to_csv('intermediate_data/04-Model/90_Day_Forecast.csv', index=False)"
   ]
  },
  {
   "cell_type": "markdown",
   "metadata": {},
   "source": [
    "#### Create dot plot graph using prediction"
   ]
  },
  {
   "cell_type": "code",
   "execution_count": 73,
   "metadata": {},
   "outputs": [],
   "source": [
    "cat_specific = \"Plug Housings\"\n",
    "\n",
    "def dotplot_sku_function(df , cat):\n",
    "    plt.figure(figsize=(8, 6))  #\n",
    "    filtered_df = df[df[\"Product Category\"] == cat]\n",
    "    if filtered_df.empty:\n",
    "        print(f\"No data found for category: '{cat}' - skipping\")\n",
    "        return\n",
    "\n",
    "    #data = df[df[\"Product Category\"] == cat][\"dpr_dict\"].iloc[0]\n",
    "    #adjusted_prediction = df[df[\"Product Category\"] == cat][\"90 Days Forecast\"].iloc[0]\n",
    "    data = filtered_df[\"dpr_dict\"].iloc[0]\n",
    "    adjusted_prediction = filtered_df[\"90 Days Forecast\"].iloc[0]\n",
    "    dotplotdata = np.abs(adjusted_prediction * np.array(data))\n",
    "\n",
    "    #dotplotdata = np.abs(prediction * np.array(data))\n",
    "    date_latest = \"Jun/11/2025\"\n",
    "    dotplt = ntile_dotplot(dotplotdata, dots=15, hist_bins=\"auto\")\n",
    "    print(type(dotplt))\n",
    "    dotplt.axvline(x=adjusted_prediction, color='r', linestyle='--', linewidth=2, label='Prediction')\n",
    "    dotplt.set_title(\"90 Day Sales Prediction for \\n {} \\n on {} \".format(cat, date_latest),\n",
    "                                                                       fontsize=20)\n",
    "    #, fontweight='bold')\n",
    "    dotplt.set_xlabel(\"\\n Forecast Unit Sales Next 90 Days\", fontsize=20)\n",
    "\n",
    "    # Remove top, right, and left spines, keep only bottom axis\n",
    "    dotplt.spines['top'].set_visible(False)\n",
    "    dotplt.spines['right'].set_visible(False)\n",
    "    dotplt.spines['left'].set_visible(False)\n",
    "    \n",
    "    # Remove y-axis ticks and labels\n",
    "    dotplt.set_yticks([])\n",
    "    dotplt.set_ylabel('')\n",
    "\n",
    "    # Format values on x-axis for consistency\n",
    "    dotplt.xaxis.set_major_locator(MaxNLocator(nbins=6, integer=True))\n",
    "    dotplt.xaxis.set_major_formatter(FuncFormatter(lambda x, p: f'{x:.0f}'))\n",
    "    dotplt.tick_params(axis='x', labelsize=15) \n",
    "    dotplt.figure.savefig(\"intermediate_data/05-Present/Figures/sfp_{}.png\".format(cat.translate(str.maketrans(\" /\", \"__\"))), \n",
    "                          bbox_inches='tight', dpi=300, pad_inches=0.2)"
   ]
  },
  {
   "cell_type": "markdown",
   "metadata": {},
   "source": [
    "#### Run method for one dataset"
   ]
  },
  {
   "cell_type": "code",
   "execution_count": 74,
   "metadata": {},
   "outputs": [
    {
     "name": "stdout",
     "output_type": "stream",
     "text": [
      "No data found for category: 'Plug Housings' - skipping\n"
     ]
    },
    {
     "data": {
      "text/plain": [
       "<Figure size 800x600 with 0 Axes>"
      ]
     },
     "metadata": {},
     "output_type": "display_data"
    }
   ],
   "source": [
    "dotplot_sku_function(df_display, cat_specific)"
   ]
  },
  {
   "cell_type": "markdown",
   "metadata": {},
   "source": [
    "#### Run method for all datasets"
   ]
  },
  {
   "cell_type": "code",
   "execution_count": 75,
   "metadata": {},
   "outputs": [
    {
     "name": "stdout",
     "output_type": "stream",
     "text": [
      "<class 'matplotlib.axes._axes.Axes'>\n"
     ]
    },
    {
     "name": "stdout",
     "output_type": "stream",
     "text": [
      "<class 'matplotlib.axes._axes.Axes'>\n",
      "<class 'matplotlib.axes._axes.Axes'>\n",
      "<class 'matplotlib.axes._axes.Axes'>\n",
      "<class 'matplotlib.axes._axes.Axes'>\n",
      "<class 'matplotlib.axes._axes.Axes'>\n",
      "<class 'matplotlib.axes._axes.Axes'>\n",
      "<class 'matplotlib.axes._axes.Axes'>\n",
      "<class 'matplotlib.axes._axes.Axes'>\n",
      "<class 'matplotlib.axes._axes.Axes'>\n",
      "<class 'matplotlib.axes._axes.Axes'>\n",
      "<class 'matplotlib.axes._axes.Axes'>\n",
      "<class 'matplotlib.axes._axes.Axes'>\n",
      "<class 'matplotlib.axes._axes.Axes'>\n",
      "<class 'matplotlib.axes._axes.Axes'>\n",
      "<class 'matplotlib.axes._axes.Axes'>\n",
      "<class 'matplotlib.axes._axes.Axes'>\n",
      "<class 'matplotlib.axes._axes.Axes'>\n",
      "<class 'matplotlib.axes._axes.Axes'>\n",
      "<class 'matplotlib.axes._axes.Axes'>\n"
     ]
    },
    {
     "name": "stderr",
     "output_type": "stream",
     "text": [
      "/var/folders/yk/12gxrg_j4_7fdrzzrf8kxwr00000gn/T/ipykernel_97513/4278739987.py:4: RuntimeWarning: More than 20 figures have been opened. Figures created through the pyplot interface (`matplotlib.pyplot.figure`) are retained until explicitly closed and may consume too much memory. (To control this warning, see the rcParam `figure.max_open_warning`). Consider using `matplotlib.pyplot.close()`.\n",
      "  plt.figure(figsize=(8, 6))  #\n"
     ]
    },
    {
     "name": "stdout",
     "output_type": "stream",
     "text": [
      "<class 'matplotlib.axes._axes.Axes'>\n",
      "<class 'matplotlib.axes._axes.Axes'>\n",
      "<class 'matplotlib.axes._axes.Axes'>\n",
      "<class 'matplotlib.axes._axes.Axes'>\n",
      "<class 'matplotlib.axes._axes.Axes'>\n",
      "<class 'matplotlib.axes._axes.Axes'>\n",
      "<class 'matplotlib.axes._axes.Axes'>\n",
      "<class 'matplotlib.axes._axes.Axes'>\n",
      "<class 'matplotlib.axes._axes.Axes'>\n",
      "<class 'matplotlib.axes._axes.Axes'>\n",
      "<class 'matplotlib.axes._axes.Axes'>\n",
      "<class 'matplotlib.axes._axes.Axes'>\n",
      "<class 'matplotlib.axes._axes.Axes'>\n",
      "<class 'matplotlib.axes._axes.Axes'>\n",
      "<class 'matplotlib.axes._axes.Axes'>\n",
      "<class 'matplotlib.axes._axes.Axes'>\n",
      "<class 'matplotlib.axes._axes.Axes'>\n",
      "<class 'matplotlib.axes._axes.Axes'>\n",
      "<class 'matplotlib.axes._axes.Axes'>\n",
      "<class 'matplotlib.axes._axes.Axes'>\n",
      "<class 'matplotlib.axes._axes.Axes'>\n",
      "<class 'matplotlib.axes._axes.Axes'>\n",
      "<class 'matplotlib.axes._axes.Axes'>\n",
      "<class 'matplotlib.axes._axes.Axes'>\n",
      "<class 'matplotlib.axes._axes.Axes'>\n",
      "<class 'matplotlib.axes._axes.Axes'>\n",
      "<class 'matplotlib.axes._axes.Axes'>\n",
      "<class 'matplotlib.axes._axes.Axes'>\n",
      "<class 'matplotlib.axes._axes.Axes'>\n",
      "<class 'matplotlib.axes._axes.Axes'>\n",
      "<class 'matplotlib.axes._axes.Axes'>\n",
      "<class 'matplotlib.axes._axes.Axes'>\n",
      "<class 'matplotlib.axes._axes.Axes'>\n",
      "<class 'matplotlib.axes._axes.Axes'>\n",
      "<class 'matplotlib.axes._axes.Axes'>\n",
      "<class 'matplotlib.axes._axes.Axes'>\n",
      "<class 'matplotlib.axes._axes.Axes'>\n",
      "<class 'matplotlib.axes._axes.Axes'>\n",
      "<class 'matplotlib.axes._axes.Axes'>\n",
      "<class 'matplotlib.axes._axes.Axes'>\n"
     ]
    },
    {
     "data": {
      "text/plain": [
       "<Figure size 576x432 with 0 Axes>"
      ]
     },
     "metadata": {},
     "output_type": "display_data"
    },
    {
     "data": {
      "text/plain": [
       "<Figure size 576x432 with 0 Axes>"
      ]
     },
     "metadata": {},
     "output_type": "display_data"
    },
    {
     "data": {
      "text/plain": [
       "<Figure size 576x432 with 0 Axes>"
      ]
     },
     "metadata": {},
     "output_type": "display_data"
    },
    {
     "data": {
      "text/plain": [
       "<Figure size 576x432 with 0 Axes>"
      ]
     },
     "metadata": {},
     "output_type": "display_data"
    },
    {
     "data": {
      "text/plain": [
       "<Figure size 576x432 with 0 Axes>"
      ]
     },
     "metadata": {},
     "output_type": "display_data"
    },
    {
     "data": {
      "text/plain": [
       "<Figure size 576x432 with 0 Axes>"
      ]
     },
     "metadata": {},
     "output_type": "display_data"
    },
    {
     "data": {
      "text/plain": [
       "<Figure size 576x432 with 0 Axes>"
      ]
     },
     "metadata": {},
     "output_type": "display_data"
    },
    {
     "data": {
      "text/plain": [
       "<Figure size 576x432 with 0 Axes>"
      ]
     },
     "metadata": {},
     "output_type": "display_data"
    },
    {
     "data": {
      "text/plain": [
       "<Figure size 576x432 with 0 Axes>"
      ]
     },
     "metadata": {},
     "output_type": "display_data"
    },
    {
     "data": {
      "text/plain": [
       "<Figure size 576x432 with 0 Axes>"
      ]
     },
     "metadata": {},
     "output_type": "display_data"
    },
    {
     "data": {
      "text/plain": [
       "<Figure size 576x432 with 0 Axes>"
      ]
     },
     "metadata": {},
     "output_type": "display_data"
    },
    {
     "data": {
      "text/plain": [
       "<Figure size 576x432 with 0 Axes>"
      ]
     },
     "metadata": {},
     "output_type": "display_data"
    },
    {
     "data": {
      "text/plain": [
       "<Figure size 576x432 with 0 Axes>"
      ]
     },
     "metadata": {},
     "output_type": "display_data"
    },
    {
     "data": {
      "text/plain": [
       "<Figure size 576x432 with 0 Axes>"
      ]
     },
     "metadata": {},
     "output_type": "display_data"
    },
    {
     "data": {
      "text/plain": [
       "<Figure size 576x432 with 0 Axes>"
      ]
     },
     "metadata": {},
     "output_type": "display_data"
    },
    {
     "data": {
      "text/plain": [
       "<Figure size 576x432 with 0 Axes>"
      ]
     },
     "metadata": {},
     "output_type": "display_data"
    },
    {
     "data": {
      "text/plain": [
       "<Figure size 576x432 with 0 Axes>"
      ]
     },
     "metadata": {},
     "output_type": "display_data"
    },
    {
     "data": {
      "text/plain": [
       "<Figure size 576x432 with 0 Axes>"
      ]
     },
     "metadata": {},
     "output_type": "display_data"
    },
    {
     "data": {
      "text/plain": [
       "<Figure size 576x432 with 0 Axes>"
      ]
     },
     "metadata": {},
     "output_type": "display_data"
    },
    {
     "data": {
      "text/plain": [
       "<Figure size 576x432 with 0 Axes>"
      ]
     },
     "metadata": {},
     "output_type": "display_data"
    },
    {
     "data": {
      "text/plain": [
       "<Figure size 576x432 with 0 Axes>"
      ]
     },
     "metadata": {},
     "output_type": "display_data"
    },
    {
     "data": {
      "text/plain": [
       "<Figure size 576x432 with 0 Axes>"
      ]
     },
     "metadata": {},
     "output_type": "display_data"
    },
    {
     "data": {
      "text/plain": [
       "<Figure size 576x432 with 0 Axes>"
      ]
     },
     "metadata": {},
     "output_type": "display_data"
    },
    {
     "data": {
      "text/plain": [
       "<Figure size 576x432 with 0 Axes>"
      ]
     },
     "metadata": {},
     "output_type": "display_data"
    },
    {
     "data": {
      "text/plain": [
       "<Figure size 576x432 with 0 Axes>"
      ]
     },
     "metadata": {},
     "output_type": "display_data"
    },
    {
     "data": {
      "text/plain": [
       "<Figure size 576x432 with 0 Axes>"
      ]
     },
     "metadata": {},
     "output_type": "display_data"
    },
    {
     "data": {
      "text/plain": [
       "<Figure size 576x432 with 0 Axes>"
      ]
     },
     "metadata": {},
     "output_type": "display_data"
    },
    {
     "data": {
      "text/plain": [
       "<Figure size 576x432 with 0 Axes>"
      ]
     },
     "metadata": {},
     "output_type": "display_data"
    },
    {
     "data": {
      "text/plain": [
       "<Figure size 576x432 with 0 Axes>"
      ]
     },
     "metadata": {},
     "output_type": "display_data"
    },
    {
     "data": {
      "text/plain": [
       "<Figure size 576x432 with 0 Axes>"
      ]
     },
     "metadata": {},
     "output_type": "display_data"
    },
    {
     "data": {
      "text/plain": [
       "<Figure size 576x432 with 0 Axes>"
      ]
     },
     "metadata": {},
     "output_type": "display_data"
    },
    {
     "data": {
      "text/plain": [
       "<Figure size 576x432 with 0 Axes>"
      ]
     },
     "metadata": {},
     "output_type": "display_data"
    },
    {
     "data": {
      "text/plain": [
       "<Figure size 576x432 with 0 Axes>"
      ]
     },
     "metadata": {},
     "output_type": "display_data"
    },
    {
     "data": {
      "text/plain": [
       "<Figure size 576x432 with 0 Axes>"
      ]
     },
     "metadata": {},
     "output_type": "display_data"
    },
    {
     "data": {
      "text/plain": [
       "<Figure size 576x432 with 0 Axes>"
      ]
     },
     "metadata": {},
     "output_type": "display_data"
    },
    {
     "data": {
      "text/plain": [
       "<Figure size 576x432 with 0 Axes>"
      ]
     },
     "metadata": {},
     "output_type": "display_data"
    },
    {
     "data": {
      "text/plain": [
       "<Figure size 576x432 with 0 Axes>"
      ]
     },
     "metadata": {},
     "output_type": "display_data"
    },
    {
     "data": {
      "text/plain": [
       "<Figure size 576x432 with 0 Axes>"
      ]
     },
     "metadata": {},
     "output_type": "display_data"
    },
    {
     "data": {
      "text/plain": [
       "<Figure size 576x432 with 0 Axes>"
      ]
     },
     "metadata": {},
     "output_type": "display_data"
    },
    {
     "data": {
      "text/plain": [
       "<Figure size 576x432 with 0 Axes>"
      ]
     },
     "metadata": {},
     "output_type": "display_data"
    },
    {
     "data": {
      "text/plain": [
       "<Figure size 576x432 with 0 Axes>"
      ]
     },
     "metadata": {},
     "output_type": "display_data"
    },
    {
     "data": {
      "text/plain": [
       "<Figure size 576x432 with 0 Axes>"
      ]
     },
     "metadata": {},
     "output_type": "display_data"
    },
    {
     "data": {
      "text/plain": [
       "<Figure size 576x432 with 0 Axes>"
      ]
     },
     "metadata": {},
     "output_type": "display_data"
    },
    {
     "data": {
      "text/plain": [
       "<Figure size 576x432 with 0 Axes>"
      ]
     },
     "metadata": {},
     "output_type": "display_data"
    },
    {
     "data": {
      "text/plain": [
       "<Figure size 576x432 with 0 Axes>"
      ]
     },
     "metadata": {},
     "output_type": "display_data"
    },
    {
     "data": {
      "text/plain": [
       "<Figure size 576x432 with 0 Axes>"
      ]
     },
     "metadata": {},
     "output_type": "display_data"
    },
    {
     "data": {
      "text/plain": [
       "<Figure size 576x432 with 0 Axes>"
      ]
     },
     "metadata": {},
     "output_type": "display_data"
    },
    {
     "data": {
      "text/plain": [
       "<Figure size 576x432 with 0 Axes>"
      ]
     },
     "metadata": {},
     "output_type": "display_data"
    },
    {
     "data": {
      "text/plain": [
       "<Figure size 576x432 with 0 Axes>"
      ]
     },
     "metadata": {},
     "output_type": "display_data"
    },
    {
     "data": {
      "text/plain": [
       "<Figure size 576x432 with 0 Axes>"
      ]
     },
     "metadata": {},
     "output_type": "display_data"
    },
    {
     "data": {
      "text/plain": [
       "<Figure size 576x432 with 0 Axes>"
      ]
     },
     "metadata": {},
     "output_type": "display_data"
    },
    {
     "data": {
      "text/plain": [
       "<Figure size 576x432 with 0 Axes>"
      ]
     },
     "metadata": {},
     "output_type": "display_data"
    },
    {
     "data": {
      "text/plain": [
       "<Figure size 576x432 with 0 Axes>"
      ]
     },
     "metadata": {},
     "output_type": "display_data"
    },
    {
     "data": {
      "text/plain": [
       "<Figure size 576x432 with 0 Axes>"
      ]
     },
     "metadata": {},
     "output_type": "display_data"
    },
    {
     "data": {
      "text/plain": [
       "<Figure size 576x432 with 0 Axes>"
      ]
     },
     "metadata": {},
     "output_type": "display_data"
    },
    {
     "data": {
      "text/plain": [
       "<Figure size 576x432 with 0 Axes>"
      ]
     },
     "metadata": {},
     "output_type": "display_data"
    },
    {
     "data": {
      "text/plain": [
       "<Figure size 576x432 with 0 Axes>"
      ]
     },
     "metadata": {},
     "output_type": "display_data"
    },
    {
     "data": {
      "text/plain": [
       "<Figure size 576x432 with 0 Axes>"
      ]
     },
     "metadata": {},
     "output_type": "display_data"
    },
    {
     "data": {
      "text/plain": [
       "<Figure size 576x432 with 0 Axes>"
      ]
     },
     "metadata": {},
     "output_type": "display_data"
    },
    {
     "data": {
      "text/plain": [
       "<Figure size 576x432 with 0 Axes>"
      ]
     },
     "metadata": {},
     "output_type": "display_data"
    }
   ],
   "source": [
    "for cat_one in df_display[\"Product Category\"].unique():\n",
    "    #print(cat_one)\n",
    "    dotplot_sku_function(df_display, cat_one)\n",
    "    plt.clf()\n"
   ]
  },
  {
   "cell_type": "markdown",
   "metadata": {},
   "source": [
    "---\n",
    "\n",
    "**Authors:**\n",
    "[Sai Keertana Lakku](mailto:saikeertana005@gmail.com),\n",
    "[Zhen Zhuang](mailto:zhuangzhen17cs@gmail.com),\n",
    "[Nick Capaldini](mailto:nick.capaldini@ridethenextwave.com), Ride The Next Wave, Jun 13, 2025\n",
    "\n",
    "---"
   ]
  },
  {
   "cell_type": "markdown",
   "metadata": {},
   "source": []
  }
 ],
 "metadata": {
  "kernelspec": {
   "display_name": "Python (recommendation_libraries)",
   "language": "python",
   "name": "recommendation_libraries"
  },
  "language_info": {
   "codemirror_mode": {
    "name": "ipython",
    "version": 3
   },
   "file_extension": ".py",
   "mimetype": "text/x-python",
   "name": "python",
   "nbconvert_exporter": "python",
   "pygments_lexer": "ipython3",
   "version": "3.11.11"
  }
 },
 "nbformat": 4,
 "nbformat_minor": 2
}
