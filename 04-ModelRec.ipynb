{
 "cells": [
  {
   "cell_type": "markdown",
   "metadata": {},
   "source": [
    "# 4 Model Recommendation\n",
    "In this notebook we model the recommendation system using the provided article and product data."
   ]
  },
  {
   "cell_type": "code",
   "execution_count": 51,
   "metadata": {},
   "outputs": [],
   "source": [
    "import numpy as np\n",
    "from gensim.models.doc2vec import Doc2Vec, TaggedDocument\n",
    "import json\n",
    "from gensim.utils import simple_preprocess\n",
    "from gensim.parsing.preprocessing import STOPWORDS\n",
    "from gensim.corpora import Dictionary\n",
    "from gensim.models import TfidfModel\n",
    "from gensim.similarities import SparseMatrixSimilarity"
   ]
  },
  {
   "cell_type": "code",
   "execution_count": 53,
   "metadata": {},
   "outputs": [
    {
     "name": "stdout",
     "output_type": "stream",
     "text": [
      "Articles similar to article 1:\n",
      "Score: 1.000 - Title: Podcast Round Up: Tahnée Seagrave on Speedsuits, Ken Roczen To MTB, Mike Levy Talks Scorpions, & More\n",
      "Score: 0.113 - Title: Seeding Results: 2025 Monster Energy Pro Downhill Series Round 1 - UCI Continental Series\n",
      "Score: 0.097 - Title: The Complete Guide to the 2025 World Cup DH Teams\n",
      "Score: 0.083 - Title: 7 Interviews from the iXS Cup: World Cup Racers on Off-Season Changes\n",
      "Score: 0.077 - Title: Pro Riders Announced for the 2025 NZ MTB Rally\n",
      "\n",
      "Top articles related to product: Hayduke Ti\n",
      "Score: 0.278 - Title: First Ride: Polygon's $3,199 Collosus N9\n",
      "Score: 0.270 - Title: Frameworks Launches 2025 DH Frame\n",
      "Score: 0.247 - Title: First Ride: Rotwild R.EX Mid-Pivot eMTB\n",
      "Score: 0.234 - Title: First Look: Revel Launches 3 New Bikes Including an Enduro & eMTB Model\n",
      "Score: 0.223 - Title: The Tripping Balls is a Steel Gearbox-Equipped Trail Bike with a Fresh Canfield Kinematic - Taipei Cycle Show 2025\n"
     ]
    }
   ],
   "source": [
    "# Load datasets\n",
    "with open(\"./intermediate_data/article-data-clean.json\", \"r\", encoding=\"utf-8\") as f:\n",
    "    data = json.load(f)\n",
    "\n",
    "with open(\"./intermediate_data/product-data-clean.json\", \"r\", encoding=\"utf-8\") as f:\n",
    "    products = json.load(f)\n",
    "\n",
    "articles = data\n",
    "\n",
    "# Preprocess function\n",
    "def preprocess(text):\n",
    "    return [token for token in simple_preprocess(text) if token not in STOPWORDS]\n",
    "\n",
    "# Preprocess article texts\n",
    "texts = [preprocess(article[\"content\"]) for article in articles]\n",
    "\n",
    "# Create dictionary and corpus\n",
    "dictionary = Dictionary(texts)\n",
    "corpus = [dictionary.doc2bow(text) for text in texts]\n",
    "\n",
    "# TF-IDF model and corpus\n",
    "tfidf = TfidfModel(corpus)\n",
    "corpus_tfidf = tfidf[corpus]\n",
    "\n",
    "# Create similarity index\n",
    "index = SparseMatrixSimilarity(corpus_tfidf, num_features=len(dictionary))\n",
    "\n",
    "# Recommend articles similar to a query text\n",
    "def recommend_similar_articles(query_text, top_n=5):\n",
    "    query_bow = dictionary.doc2bow(preprocess(query_text))\n",
    "    query_tfidf = tfidf[query_bow]\n",
    "    similarities = index[query_tfidf]\n",
    "    ranked = sorted(enumerate(similarities), key=lambda x: x[1], reverse=True)\n",
    "    return [(articles[i], score) for i, score in ranked[:top_n]]\n",
    "\n",
    "# Recommend articles related to a product\n",
    "def recommend_articles_for_product(product, top_n=5):\n",
    "    product_text = product.get('clean_text') or product.get('content') or \"\"\n",
    "    product_tokens = preprocess(product_text)\n",
    "    product_bow = dictionary.doc2bow(product_tokens)\n",
    "    product_tfidf = tfidf[product_bow]\n",
    "    similarities = index[product_tfidf]\n",
    "    ranked = sorted(enumerate(similarities), key=lambda x: x[1], reverse=True)\n",
    "    return [(articles[i], score) for i, score in ranked[:top_n]]\n",
    "\n",
    "# Example usage:\n",
    "query_article_text = articles[1][\"content\"]\n",
    "print(\"Articles similar to article 1:\")\n",
    "results = recommend_similar_articles(query_article_text)\n",
    "for res_article, score in results:\n",
    "    print(f\"Score: {score:.3f} - Title: {res_article['title']}\")\n",
    "\n",
    "product = products[1]\n",
    "print(f\"\\nTop articles related to product: {product['name']}\")\n",
    "results = recommend_articles_for_product(product)\n",
    "for article, score in results:\n",
    "    print(f\"Score: {score:.3f} - Title: {article['title']}\")\n"
   ]
  },
  {
   "cell_type": "markdown",
   "metadata": {},
   "source": [
    "## Next step\n",
    "After you saved the recommendation model here, run the next step in the workflow [05-PresentRec.py](./05-PresentRec.py) or go back to [00-Workflow.ipynb](./00-Workflow.ipynb)."
   ]
  },
  {
   "cell_type": "markdown",
   "metadata": {},
   "source": [
    "---\n",
    "\n",
    "**Authors:**\n",
    "[Salah Mohamoud](mailto:salah.mohamoud.dev@gmail.com),\n",
    "[Sai Keertana Lakku](mailto:saikeertana005@gmail.com),\n",
    "[Zhen Zhuang](mailto:zhuangzhen17cs@gmail.com),\n",
    "[Nick Capaldini](mailto:nick.capaldini@ridethenextwave.com), Ride The Next Wave, May 19, 2025\n",
    "\n",
    "---"
   ]
  }
 ],
 "metadata": {
  "kernelspec": {
   "display_name": "Python 3 (ipykernel)",
   "language": "python",
   "name": "python3"
  },
  "language_info": {
   "codemirror_mode": {
    "name": "ipython",
    "version": 3
   },
   "file_extension": ".py",
   "mimetype": "text/x-python",
   "name": "python",
   "nbconvert_exporter": "python",
   "pygments_lexer": "ipython3",
   "version": "3.11.11"
  }
 },
 "nbformat": 4,
 "nbformat_minor": 4
}
