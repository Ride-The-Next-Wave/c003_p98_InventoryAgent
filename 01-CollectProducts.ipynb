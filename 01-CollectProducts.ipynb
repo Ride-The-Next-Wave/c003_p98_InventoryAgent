{
 "cells": [
  {
   "cell_type": "markdown",
   "metadata": {},
   "source": [
    "# 1 Collect Products\n",
    "This notebook collects product text data from esker cycles website. The ultimate goal is to match articles to the products based on there provided data."
   ]
  },
  {
   "cell_type": "code",
   "execution_count": 12,
   "metadata": {},
   "outputs": [],
   "source": [
    "import pandas as pd\n",
    "import numpy as np \n",
    "import os \n",
    "import requests\n",
    "from bs4 import BeautifulSoup\n",
    "import json       "
   ]
  },
  {
   "cell_type": "code",
   "execution_count": 13,
   "metadata": {},
   "outputs": [
    {
     "name": "stdout",
     "output_type": "stream",
     "text": [
      "Loaded 14 product entries.\n",
      "Scraping 1/14: Product (Link)\n",
      "Error scraping Product,Link: Invalid URL 'Link': No scheme supplied. Perhaps you meant https://Link?\n",
      "Scraping 2/14: Hayduke (https://eskercycles.com/pages/hayduke)\n",
      "Scraping 3/14: Hayduke Ti (https://eskercycles.com/pages/hayduke-ti)\n",
      "Scraping 4/14: Howdy (https://eskercycles.com/pages/howdy)\n",
      "Scraping 5/14: Howdy Ti (https://eskercycles.com/pages/howdy-ti)\n",
      "Scraping 6/14: Japhy (https://eskercycles.com/pages/japhy)\n",
      "Scraping 7/14: Japhy Ti (https://eskercycles.com/pages/japhy-ti)\n",
      "Scraping 8/14: Lorax (https://eskercycles.com/pages/lorax)\n",
      "Error scraping Lorax,https://eskercycles.com/pages/lorax: 404 Client Error: Not Found for url: https://eskercycles.com/pages/lorax\n",
      "Scraping 9/14: Lorax Ti (https://eskercycles.com/pages/lorax-ti)\n",
      "Scraping 10/14: Smokey (https://eskercycles.com/pages/smokey)\n",
      "Scraping 11/14: Smokey Ti (https://eskercycles.com/pages/smokey-ti)\n",
      "Scraping 12/14: Hayduke Ivs (https://eskercycles.com/pages/hayduke-lvs)\n",
      "Scraping 13/14: Woodsy (https://eskercycles.com/pages/woodsy)\n",
      "Scraping 14/14: WoodsyTi (https://eskercycles.com/pages/woodsy-ti)\n"
     ]
    }
   ],
   "source": [
    "# Load the product URLs from the file\n",
    "with open('./data/esker-cycles-product-links.csv', 'r') as f:\n",
    "    product_lines = [line.strip() for line in f if line.strip()]\n",
    "\n",
    "print(f\"Loaded {len(product_lines)} product entries.\")\n",
    "\n",
    "product_data = []\n",
    "\n",
    "for i, line in enumerate(product_lines):\n",
    "    try:\n",
    "        name, url = line.split(\",\", 1)  # Split only on the first comma\n",
    "        print(f\"Scraping {i+1}/{len(product_lines)}: {name} ({url})\")\n",
    "        \n",
    "        response = requests.get(url)\n",
    "        response.raise_for_status()\n",
    "        \n",
    "        soup = BeautifulSoup(response.text, 'html.parser')\n",
    "        content = soup.get_text(separator=\"\\n\", strip=True)\n",
    "\n",
    "        product_data.append({\n",
    "            'name': name,\n",
    "            'url': url,\n",
    "            'text': content\n",
    "        })\n",
    "\n",
    "    except Exception as e:\n",
    "        print(f\"Error scraping {line}: {e}\")\n",
    "    "
   ]
  },
  {
   "cell_type": "markdown",
   "metadata": {},
   "source": [
    "## Save Dataset\n",
    "We save the collected product data as a json file for the next steps."
   ]
  },
  {
   "cell_type": "code",
   "execution_count": 14,
   "metadata": {},
   "outputs": [],
   "source": [
    "# Save to JSON\n",
    "os.makedirs('./intermediate_data', exist_ok=True)\n",
    "with open('./intermediate_data/product-web-scarping.json', 'w', encoding='utf-8') as f:\n",
    "    json.dump(product_data, f, indent=2, ensure_ascii=False)\n"
   ]
  },
  {
   "cell_type": "markdown",
   "metadata": {},
   "source": [
    "## Next step\n",
    "After you saved the dataset here, run the next step in the workflow [02-01-CleanArticles.ipynb](./02-01-CleanArticles.ipynb) or go back to [00-Workflow.ipynb](./00-Workflow.ipynb)."
   ]
  },
  {
   "cell_type": "markdown",
   "metadata": {},
   "source": [
    "---\n",
    "\n",
    "**Authors:**\n",
    "[Salah Mohamoud](mailto:salah.mohamoud.dev@gmail.com),\n",
    "[Sai Keertana Lakku](mailto:saikeertana005@gmail.com),\n",
    "[Zhen Zhuang](mailto:zhuangzhen17cs@gmail.com),\n",
    "[Nick Capaldini](mailto:nick.capaldini@ridethenextwave.com), Ride The Next Wave, May 19, 2025\n",
    "\n",
    "---"
   ]
  },
  {
   "cell_type": "markdown",
   "metadata": {},
   "source": []
  }
 ],
 "metadata": {
  "kernelspec": {
   "display_name": "data-science",
   "language": "python",
   "name": "python3"
  },
  "language_info": {
   "codemirror_mode": {
    "name": "ipython",
    "version": 3
   },
   "file_extension": ".py",
   "mimetype": "text/x-python",
   "name": "python",
   "nbconvert_exporter": "python",
   "pygments_lexer": "ipython3",
   "version": "3.11.11"
  }
 },
 "nbformat": 4,
 "nbformat_minor": 4
}
